{
 "cells": [
  {
   "cell_type": "code",
   "execution_count": 2,
   "id": "d886df1a",
   "metadata": {},
   "outputs": [],
   "source": [
    "import pandas as pd"
   ]
  },
  {
   "cell_type": "code",
   "execution_count": 3,
   "id": "c7d5c18a",
   "metadata": {},
   "outputs": [],
   "source": [
    "data = pd.read_csv('../cases/nasa_stca_standard/trajectory/time_history.csv')"
   ]
  },
  {
   "cell_type": "code",
   "execution_count": 6,
   "id": "2379c413",
   "metadata": {},
   "outputs": [],
   "source": [
    "for var in data.columns:\n",
    "    pass"
   ]
  },
  {
   "cell_type": "code",
   "execution_count": 8,
   "id": "97b71a56",
   "metadata": {},
   "outputs": [],
   "source": [
    "name, unit = var.split(' ')"
   ]
  },
  {
   "cell_type": "code",
   "execution_count": 11,
   "id": "d8acd287",
   "metadata": {},
   "outputs": [
    {
     "data": {
      "text/plain": [
       "'rpm'"
      ]
     },
     "execution_count": 11,
     "metadata": {},
     "output_type": "execute_result"
    }
   ],
   "source": [
    "unit"
   ]
  },
  {
   "cell_type": "code",
   "execution_count": null,
   "id": "8b4f10f5",
   "metadata": {},
   "outputs": [],
   "source": []
  }
 ],
 "metadata": {
  "kernelspec": {
   "display_name": "Python 3 (ipykernel)",
   "language": "python",
   "name": "python3"
  },
  "language_info": {
   "codemirror_mode": {
    "name": "ipython",
    "version": 3
   },
   "file_extension": ".py",
   "mimetype": "text/x-python",
   "name": "python",
   "nbconvert_exporter": "python",
   "pygments_lexer": "ipython3",
   "version": "3.10.9"
  }
 },
 "nbformat": 4,
 "nbformat_minor": 5
}
