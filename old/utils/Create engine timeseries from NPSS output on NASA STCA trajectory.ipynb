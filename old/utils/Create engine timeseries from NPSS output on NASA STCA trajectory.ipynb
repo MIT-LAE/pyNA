{
 "cells": [
  {
   "cell_type": "code",
   "execution_count": 27,
   "metadata": {
    "code_folding": []
   },
   "outputs": [
    {
     "data": {
      "text/html": [
       "<style>.container { width:100% !important; }</style>"
      ],
      "text/plain": [
       "<IPython.core.display.HTML object>"
      ]
     },
     "metadata": {},
     "output_type": "display_data"
    }
   ],
   "source": [
    "# Imports \n",
    "import pandas as pd\n",
    "import numpy as np\n",
    "import matplotlib.pyplot as plt\n",
    "%matplotlib inline\n",
    "import pdb\n",
    "import os\n",
    "pd.set_option('max_columns', None)\n",
    "pd.set_option('max_rows', None)\n",
    "\n",
    "from IPython.display import clear_output\n",
    "from IPython.core.display import display, HTML\n",
    "display(HTML(\"<style>.container { width:100% !important; }</style>\"))"
   ]
  },
  {
   "cell_type": "markdown",
   "metadata": {},
   "source": [
    "### NPSS data"
   ]
  },
  {
   "cell_type": "code",
   "execution_count": 30,
   "metadata": {},
   "outputs": [],
   "source": [
    "traj_to = pd.read_csv('../cases/nasa_stca_standard/trajectory/Trajectory_to.csv')\n",
    "traj_app = pd.read_csv('../cases/nasa_stca_standard/trajectory/Trajectory_app.csv')"
   ]
  },
  {
   "cell_type": "code",
   "execution_count": 33,
   "metadata": {
    "code_folding": [
     7
    ]
   },
   "outputs": [],
   "source": [
    "# folder = 'DD'\n",
    "# folder = 'CSwnox'\n",
    "folder = 'CSnonox'\n",
    "\n",
    "# file_name = 'CFM56_Derivative_DerivModel_'\n",
    "file_name = 'Clean-sheet_CleanSheetModel_'\n",
    "\n",
    "for file in ['0.95', '0.96', '0.97', '0.98', '0.99', '1.00', '1.01', '1.02', '1.03', '1.04', '1.05']:\n",
    "\n",
    "    data = pd.read_csv('../cases/stca_enginedesign_standard/engine/raw/'+folder+'/'+file_name + str(file) + '.out', delimiter=r\"\\s+\",skipinitialspace =True, skiprows=2)\n",
    "\n",
    "    n_to = 209\n",
    "    engine_to = pd.DataFrame()\n",
    "    engine_to['t_source [s]'] = traj_to['t_source [s]'].values\n",
    "    engine_to['TS [-]'] = traj_to['TS [-]'].values\n",
    "\n",
    "    engine_to['Core mdot [kg/s]'] = data['core_mdot_in[kg/s]'].values[:n_to]\n",
    "    engine_to['Core Pt [Pa]'] = data['core_Pt_in[Pa]'].values[:n_to]\n",
    "    engine_to['Core Tti [K]'] = data['core_Tt_in[K]'].values[:n_to]\n",
    "    engine_to['Core Ttj [K]'] = data['core_Tt_out[K]'].values[:n_to]\n",
    "    engine_to['Core DT_t [K]'] = data['core_DT_t[K]'].values[:n_to]\n",
    "    engine_to['LPT rho_e [kg/m3]'] = data['core_LPT_rho_out[kg/m3]'].values[:n_to]\n",
    "    engine_to['LPT c_e [m/s]'] = data['core_LPT_c_out[m/s]'].values[:n_to]\n",
    "    engine_to['HPT rho_i [kg/m3]'] = data['core_HPT_rho_in[kg/m3]'].values[:n_to]\n",
    "    engine_to['HPT c_i [m/s]'] = data['core_HPT_c_in[m/s]'].values[:n_to]\n",
    "    engine_to['Jet A [m2]'] = data['jet_A[m2]'].values[:n_to]\n",
    "    engine_to['Jet rho [kg/m3]'] = data['jet_rho[kg/m3]'].values[:n_to]\n",
    "    engine_to['Jet Tt [K]'] = data['jet_Tt[K]'].values[:n_to]\n",
    "    engine_to['Jet V [m/s]'] = data['jet_V[m/s]'].values[:n_to]\n",
    "    engine_to['Jet M [-]'] = data['jet_M[-]'].values[:n_to]\n",
    "    engine_to['Jet delta [deg]'] = np.zeros(np.size(engine_to['t_source [s]']))\n",
    "    engine_to['Airframe LG [-]'] = traj_to['Airframe LG [-]'].values\n",
    "    engine_to['Airframe delta_f [deg]'] = traj_to['Airframe delta_f [deg]'].values[:n_to]\n",
    "    engine_to['Fan mdot in [kg/s]'] = data['fan_mdot_in[kg/s]'].values[:n_to]\n",
    "    engine_to['Fan N [rpm]'] = data['fan_N[rpm]'].values[:n_to]\n",
    "    engine_to['Fan delta T [K]'] = data['fan_DT[K]'].values[:n_to]\n",
    "    engine_to['Fan d [m]'] = data['fan_d[m]'].values[:n_to]\n",
    "    engine_to['Fan A [m2]'] = data['fan_A[m2]'].values[:n_to]\n",
    "\n",
    "    n_to = 209\n",
    "    engine_app = pd.DataFrame()\n",
    "    engine_app['t_source [s]'] = traj_app['t_source [s]'].values\n",
    "    engine_app['TS [-]'] = traj_app['TS [-]'].values\n",
    "    engine_app['Core mdot [kg/s]'] = data['core_mdot_in[kg/s]'].values[n_to:]\n",
    "    engine_app['Core Pt [Pa]'] = data['core_Pt_in[Pa]'].values[n_to:]\n",
    "    engine_app['Core Tti [K]'] = data['core_Tt_in[K]'].values[n_to:]\n",
    "    engine_app['Core Ttj [K]'] = data['core_Tt_out[K]'].values[n_to:]\n",
    "    engine_app['Core DT_t [K]'] = data['core_DT_t[K]'].values[n_to:]\n",
    "    engine_app['LPT rho_e [kg/m3]'] = data['core_LPT_rho_out[kg/m3]'].values[n_to:]\n",
    "    engine_app['LPT c_e [m/s]'] = data['core_LPT_c_out[m/s]'].values[n_to:]\n",
    "    engine_app['HPT rho_i [kg/m3]'] = data['core_HPT_rho_in[kg/m3]'].values[n_to:]\n",
    "    engine_app['HPT c_i [m/s]'] = data['core_HPT_c_in[m/s]'].values[n_to:]\n",
    "    engine_app['Jet A [m2]'] = data['jet_A[m2]'].values[n_to:]\n",
    "    engine_app['Jet rho [kg/m3]'] = data['jet_rho[kg/m3]'].values[n_to:]\n",
    "    engine_app['Jet Tt [K]'] = data['jet_Tt[K]'].values[n_to:]\n",
    "    engine_app['Jet V [m/s]'] = data['jet_V[m/s]'].values[n_to:]\n",
    "    engine_app['Jet M [-]'] = data['jet_M[-]'].values[n_to:]\n",
    "    engine_app['Jet delta [deg]'] = np.zeros(np.size(engine_app['t_source [s]']))\n",
    "    engine_app['Airframe LG [-]'] = traj_app['Airframe LG [-]'].values\n",
    "    engine_app['Airframe delta_f [deg]'] = traj_app['Airframe delta_f [deg]'].values\n",
    "    engine_app['Fan mdot in [kg/s]'] = data['fan_mdot_in[kg/s]'].values[n_to:]\n",
    "    engine_app['Fan N [rpm]'] = data['fan_N[rpm]'].values[n_to:]\n",
    "    engine_app['Fan delta T [K]'] = data['fan_DT[K]'].values[n_to:]\n",
    "    engine_app['Fan d [m]'] = data['fan_d[m]'].values[n_to:]\n",
    "    engine_app['Fan A [m2]'] = data['fan_A[m2]'].values[n_to:]\n",
    "\n",
    "    engine_to.to_csv('../cases//stca_enginedesign_standard/engine/takeoff/'+folder+'/'+file_name + str(file)+'.csv', index=False)\n",
    "    engine_app.to_csv('../cases//stca_enginedesign_standard/engine/approach/'+folder+'/'+file_name + str(file)+'.csv', index=False)\n"
   ]
  },
  {
   "cell_type": "code",
   "execution_count": null,
   "metadata": {},
   "outputs": [],
   "source": []
  },
  {
   "cell_type": "code",
   "execution_count": null,
   "metadata": {},
   "outputs": [],
   "source": []
  },
  {
   "cell_type": "code",
   "execution_count": null,
   "metadata": {
    "code_folding": [
     0
    ]
   },
   "outputs": [],
   "source": []
  },
  {
   "cell_type": "code",
   "execution_count": null,
   "metadata": {},
   "outputs": [],
   "source": []
  },
  {
   "cell_type": "code",
   "execution_count": null,
   "metadata": {},
   "outputs": [],
   "source": []
  }
 ],
 "metadata": {
  "kernelspec": {
   "display_name": "Python 3",
   "language": "python",
   "name": "python3"
  },
  "language_info": {
   "codemirror_mode": {
    "name": "ipython",
    "version": 3
   },
   "file_extension": ".py",
   "mimetype": "text/x-python",
   "name": "python",
   "nbconvert_exporter": "python",
   "pygments_lexer": "ipython3",
   "version": "3.7.3"
  }
 },
 "nbformat": 4,
 "nbformat_minor": 4
}
