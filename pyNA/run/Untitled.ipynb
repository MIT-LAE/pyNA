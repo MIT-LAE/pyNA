{
 "cells": [
  {
   "cell_type": "code",
   "execution_count": 1,
   "metadata": {},
   "outputs": [],
   "source": [
    "import sys\n",
    "sys.path.append(\"..\")\n",
    "\n",
    "from src.trajectory_model.atmosphere import Atmosphere\n",
    "import numpy as np\n",
    "import openmdao.api as om"
   ]
  },
  {
   "cell_type": "code",
   "execution_count": 2,
   "metadata": {
    "scrolled": false
   },
   "outputs": [],
   "source": [
    "# Inputs\n",
    "nn = 1\n",
    "# z = np.linspace(1,2000, nn)\n",
    "z = np.array([1000.])\n",
    "\n",
    "# Create problem\n",
    "p = om.Problem()\n",
    "comp = Atmosphere(num_nodes=nn, atmosphere_dT=10.0169, mode='sealevel')\n",
    "\n",
    "p.model.add_subsystem(\"a\", comp)\n",
    "p.setup(force_alloc_complex=True)\n",
    "\n",
    "p.set_val('a.z', z)\n",
    "\n",
    "p.run_model()"
   ]
  },
  {
   "cell_type": "code",
   "execution_count": 3,
   "metadata": {},
   "outputs": [
    {
     "data": {
      "text/html": [
       "\n",
       "        <iframe\n",
       "            width=\"100%\"\n",
       "            height=\"700\"\n",
       "            src=\"n2.html\"\n",
       "            frameborder=\"0\"\n",
       "            allowfullscreen\n",
       "            \n",
       "        ></iframe>\n",
       "        "
      ],
      "text/plain": [
       "<IPython.lib.display.IFrame at 0x12aad7128>"
      ]
     },
     "metadata": {},
     "output_type": "display_data"
    }
   ],
   "source": [
    "om.n2(data_source=p)"
   ]
  },
  {
   "cell_type": "code",
   "execution_count": 4,
   "metadata": {},
   "outputs": [
    {
     "name": "stdout",
     "output_type": "stream",
     "text": [
      "Help on function n2 in module openmdao.visualization.n2_viewer.n2_viewer:\n",
      "\n",
      "n2(data_source, outfile='n2.html', case_id=None, show_browser=True, embeddable=False, title=None, use_declare_partial_info=False)\n",
      "    Generate an HTML file containing a tree viewer.\n",
      "    \n",
      "    Optionally opens a web browser to view the file.\n",
      "    \n",
      "    Parameters\n",
      "    ----------\n",
      "    data_source : <Problem> or str\n",
      "        The Problem or case recorder database containing the model or model data.\n",
      "    outfile : str, optional\n",
      "        The name of the final output file.\n",
      "    case_id : int, str, or None\n",
      "        Case name or index of case in SQL file if data_source is a database.\n",
      "    show_browser : bool, optional\n",
      "        If True, pop up the system default web browser to view the generated html file.\n",
      "        Defaults to True.\n",
      "    embeddable : bool, optional\n",
      "        If True, gives a single HTML file that doesn't have the <html>, <DOCTYPE>, <body>\n",
      "        and <head> tags. If False, gives a single, standalone HTML file for viewing.\n",
      "    title : str, optional\n",
      "        The title for the diagram. Used in the HTML title.\n",
      "    use_declare_partial_info : ignored\n",
      "        This option is no longer used because it is now always true.\n",
      "        Still present for backwards compatibility.\n",
      "\n"
     ]
    }
   ],
   "source": [
    "help(om.n2)"
   ]
  },
  {
   "cell_type": "code",
   "execution_count": 5,
   "metadata": {},
   "outputs": [
    {
     "ename": "NameError",
     "evalue": "name 'unittest' is not defined",
     "output_type": "error",
     "traceback": [
      "\u001b[0;31m---------------------------------------------------------------------------\u001b[0m",
      "\u001b[0;31mNameError\u001b[0m                                 Traceback (most recent call last)",
      "\u001b[0;32m<ipython-input-5-9c7392fc8d43>\u001b[0m in \u001b[0;36m<module>\u001b[0;34m\u001b[0m\n\u001b[0;32m----> 1\u001b[0;31m \u001b[0munittest\u001b[0m\u001b[0;34m.\u001b[0m\u001b[0massertAlmostEqual\u001b[0m\u001b[0;34m(\u001b[0m\u001b[0;34m)\u001b[0m\u001b[0;34m\u001b[0m\u001b[0;34m\u001b[0m\u001b[0m\n\u001b[0m",
      "\u001b[0;31mNameError\u001b[0m: name 'unittest' is not defined"
     ]
    }
   ],
   "source": [
    "unittest.assertAlmostEqual()"
   ]
  },
  {
   "cell_type": "code",
   "execution_count": null,
   "metadata": {},
   "outputs": [],
   "source": []
  }
 ],
 "metadata": {
  "kernelspec": {
   "display_name": "Python 3",
   "language": "python",
   "name": "python3"
  },
  "language_info": {
   "codemirror_mode": {
    "name": "ipython",
    "version": 3
   },
   "file_extension": ".py",
   "mimetype": "text/x-python",
   "name": "python",
   "nbconvert_exporter": "python",
   "pygments_lexer": "ipython3",
   "version": "3.7.3"
  }
 },
 "nbformat": 4,
 "nbformat_minor": 4
}
