{
 "cells": [
  {
   "cell_type": "code",
   "execution_count": 1,
   "metadata": {},
   "outputs": [],
   "source": [
    "using BenchmarkTools\n",
    "using ReverseDiff: JacobianTape, JacobianConfig, jacobian, jacobian!, compile\n",
    "\n"
   ]
  },
  {
   "cell_type": "code",
   "execution_count": null,
   "metadata": {
    "code_folding": [
     0
    ]
   },
   "outputs": [],
   "source": []
  },
  {
   "cell_type": "code",
   "execution_count": 8,
   "metadata": {
    "code_folding": []
   },
   "outputs": [
    {
     "data": {
      "text/plain": [
       "airframe_source! (generic function with 1 method)"
      ]
     },
     "execution_count": 8,
     "metadata": {},
     "output_type": "execute_result"
    }
   ],
   "source": [
    "function airframe_source!(spl, pyna_ip, settings, ac, f, M_0, mu_0, c_0, rho_0, theta, phi, theta_flaps, I_landing_gear)\n",
    "    \n",
    "    # HSR calibration\n",
    "    if settings[\"airframe_hsr_calibration\"]\n",
    "        hsr_supp = pyna_ip.f_hsr_supp.(f, theta*ones(eltype(theta_flaps), (settings[\"n_frequency_bands\"], )))\n",
    "    end\n",
    "    \n",
    "    # Add airframe noise components\n",
    "    if \"wing\" in ac.comp_lst\n",
    "        trailing_edge_wing_fwd!(spl, settings, ac, f, M_0, c_0, rho_0, mu_0, theta, phi, hsr_supp)\n",
    "    end\n",
    "    if \"tail_v\" in ac.comp_lst\n",
    "        trailing_edge_vertical_tail_fwd!(spl, settings, ac, f)\n",
    "    end\n",
    "    if \"tail_h\" in ac.comp_lst\n",
    "        trailing_edge_horizontal_tail_fwd!(spl, x, settings, ac, f)\n",
    "    end\n",
    "    if \"les\" in ac.comp_lst\n",
    "        leading_edge_slat_fwd!(spl, x, settings, ac, f)\n",
    "    end\n",
    "    if \"tef\" in ac.comp_lst\n",
    "        trailing_edge_flap_fwd!(spl, x, settings, ac, f)\n",
    "    end\n",
    "    if \"lg\" in ac.comp_lst\n",
    "        landing_gear_fwd!(spl, x, settings, ac, f)\n",
    "    end\n",
    "end"
   ]
  },
  {
   "cell_type": "code",
   "execution_count": 85,
   "metadata": {
    "code_folding": [
     22
    ],
    "scrolled": true
   },
   "outputs": [
    {
     "data": {
      "text/plain": [
       "Aircraft(55000.0, 3, [\"wing\", \"tail_h\", \"les\", \"tef\", \"lg\"], 20.16, 21.3677, 150.41, 6.096, 5.6388, 4.7244, 20.51304, 11.1484, 1.0, 0.9144, 0.82296, 2.286, 1.8288, 4.0, 2.0, 2.0, 1.0, 0.024, 0.0175, 25, 48, 300.0, 1.68, 0.25, 0.65, 1.0, true, false, true, true)"
      ]
     },
     "execution_count": 85,
     "metadata": {},
     "output_type": "execute_result"
    }
   ],
   "source": [
    "# Inputs \n",
    "M_0 = 0.3\n",
    "c_0 = 300.\n",
    "rho_0 = 1.2\n",
    "mu_0 = 1e-5\n",
    "theta = 30.\n",
    "phi = 10.\n",
    "hsr_supp = ones(24)\n",
    "theta_flaps = 10.\n",
    "I_landing_gear = 1\n",
    "x_af = vcat(M_0, c_0, theta, phi, I_landing_gear)\n",
    "y_af = zeros(24)\n",
    "\n",
    "f = [50.11,63.09,79.43,100.,125.89,158.49,199.53,251.19,316.23,398.11,501.19,630.96,794.33,1000.,  \n",
    "     1258.93,1584.89,1995.26,2511.89,3162.28,3981.07,5011.87,6309.57,7943.28,10000.]\n",
    "\n",
    "settings = Dict()\n",
    "settings[\"r_0\"] = 0.3048\n",
    "settings[\"p_ref\"] = 2e-5\n",
    "settings[\"n_frequency_bands\"] = 24\n",
    "settings[\"n_frequency_subbands\"] = 5\n",
    "\n",
    "struct Aircraft\n",
    "    mtow\n",
    "    n_eng\n",
    "    comp_lst\n",
    "    af_S_h\n",
    "    af_S_v\n",
    "    af_S_w\n",
    "    af_b_f\n",
    "    af_b_h\n",
    "    af_b_v\n",
    "    af_b_w\n",
    "    af_S_f\n",
    "    af_s\n",
    "    af_d_mg\n",
    "    af_d_ng\n",
    "    af_l_mg\n",
    "    af_l_ng\n",
    "    af_n_mg\n",
    "    af_n_ng\n",
    "    af_N_mg\n",
    "    af_N_ng\n",
    "    c_d_g\n",
    "    mu_r\n",
    "    B_fan\n",
    "    V_fan\n",
    "    RSS_fan\n",
    "    M_d_fan\n",
    "    inc_F_n\n",
    "    TS_lower\n",
    "    TS_upper\n",
    "    af_clean_w\n",
    "    af_clean_h\n",
    "    af_clean_v\n",
    "    af_delta_wing\n",
    "end\n",
    "ac = Aircraft(55000.0,3,[\"wing\", \"tail_h\", \"les\", \"tef\", \"lg\"],   20.16,21.3677,150.41, 6.096,5.6388,4.7244,20.51304,11.1484,1.0,0.9144,0.82296,2.286,1.8288,4.0,  2.0,  2.0,  1.0,0.0240,  0.0175,25,  48,  300.0,1.68,0.25, 0.65,  1.0,  true,false, true,  true)"
   ]
  },
  {
   "cell_type": "code",
   "execution_count": 86,
   "metadata": {
    "scrolled": true
   },
   "outputs": [
    {
     "name": "stdout",
     "output_type": "stream",
     "text": [
      "  1.091747 seconds (2.25 M allocations: 114.200 MiB, 4.83% gc time)\n"
     ]
    },
    {
     "data": {
      "text/plain": [
       "24-element Array{Float64,1}:\n",
       "  45.885689291848244\n",
       "  71.21617153670186\n",
       " 108.1349247643244\n",
       " 159.30931418631178\n",
       " 225.97491987747847\n",
       " 306.336850569562\n",
       " 391.8743094108835\n",
       " 465.44505717327047\n",
       " 516.7725225046667\n",
       " 536.8426073910209\n",
       " 519.0222926709895\n",
       " 468.1701865096901\n",
       " 397.8209085319573\n",
       " 323.16030390206157\n",
       " 255.05892156028537\n",
       " 198.37008398930936\n",
       " 153.54096763112318\n",
       " 118.95182612468709\n",
       "  92.47872390846595\n",
       "  72.19940124563217\n",
       "  56.58904381187391\n",
       "  44.50069774130668\n",
       "  35.086340882895236\n",
       "  27.719019466267824"
      ]
     },
     "execution_count": 86,
     "metadata": {},
     "output_type": "execute_result"
    }
   ],
   "source": [
    "@time landing_gear_fwd!(y_af, x_af)"
   ]
  },
  {
   "cell_type": "code",
   "execution_count": 88,
   "metadata": {
    "code_folding": []
   },
   "outputs": [
    {
     "name": "stderr",
     "output_type": "stream",
     "text": [
      "WARNING: redefinition of constant h_tape. This may fail, cause incorrect answers, or produce other errors.\n"
     ]
    },
    {
     "data": {
      "text/plain": [
       "ReverseDiff.CompiledTape(#35)"
      ]
     },
     "execution_count": 88,
     "metadata": {},
     "output_type": "execute_result"
    }
   ],
   "source": [
    "Y = zeros(24)\n",
    "X = zeros(29)\n",
    "J = Y.*X'\n",
    "\n",
    "const h_tape = JacobianTape(landing_gear_fwd!, Y, X)\n",
    "const compiled_h_tape = compile(h_tape)"
   ]
  },
  {
   "cell_type": "code",
   "execution_count": 89,
   "metadata": {},
   "outputs": [
    {
     "name": "stdout",
     "output_type": "stream",
     "text": [
      "  2.997553 seconds (7.40 M allocations: 351.534 MiB, 3.27% gc time)\n"
     ]
    },
    {
     "data": {
      "text/plain": [
       "24×29 Array{Float64,2}:\n",
       "   730.73   -0.297356    2.44059  …   0.0     0.0      0.0      0.0\n",
       "  1158.89   -0.443174    3.76843      0.0     0.0      0.0      0.0\n",
       "  1814.69   -0.632182    5.67877      0.0     0.0      0.0      0.0\n",
       "  2779.87   -0.852615    8.28267      0.0     0.0      0.0      0.0\n",
       "  4125.97   -1.07408    11.6051       0.0     0.0      0.0      0.0\n",
       "  5893.72   -1.23366    15.4962   …   0.0     0.0      0.0      0.0\n",
       "  8057.54   -1.19461    19.4162       0.0     0.0      0.0      0.0\n",
       " 10248.5    -0.916883   22.5287       0.0     0.0      0.0      0.0\n",
       " 12018.9    -0.544085   24.5103       0.0     0.0      0.0      0.0\n",
       " 13223.7    -0.0189158  24.8825       0.0     0.0      0.0      0.0\n",
       " 13515.0     0.522205   23.483    …   0.0     0.0      0.0      0.0\n",
       " 12791.4     0.915593   20.7105       0.0     0.0      0.0      0.0\n",
       " 11281.4     1.08303    17.2748       0.0     0.0      0.0      0.0\n",
       "  9396.91    1.05205    13.85         0.0     0.0      0.0      0.0\n",
       "  7522.18    0.90846    10.8484       0.0     0.0      0.0      0.0\n",
       "  5885.26    0.732411    8.40984  …   0.0     0.0      0.0      0.0\n",
       "  4559.2     0.569808    6.50623      0.0     0.0      0.0      0.0\n",
       "  3526.01    0.436921    5.04533      0.0     0.0      0.0      0.0\n",
       "  2733.92    0.334229    3.92826      0.0     0.0      0.0      0.0\n",
       "  2128.53    0.256589    3.07146      0.0     0.0      0.0      0.0\n",
       "  1664.28    0.198124    2.41055  …  56.589   0.0      0.0      0.0\n",
       "  1306.19    0.153896    1.89764      0.0    44.5007   0.0      0.0\n",
       "  1028.29    0.120175    1.49742      0.0     0.0     35.0863   0.0\n",
       "   811.434   0.0942477   1.18373      0.0     0.0      0.0     27.719"
      ]
     },
     "execution_count": 89,
     "metadata": {},
     "output_type": "execute_result"
    }
   ],
   "source": [
    "@time jacobian!(J, compiled_h_tape, x_af)"
   ]
  },
  {
   "cell_type": "code",
   "execution_count": null,
   "metadata": {},
   "outputs": [],
   "source": []
  },
  {
   "cell_type": "code",
   "execution_count": null,
   "metadata": {},
   "outputs": [],
   "source": []
  }
 ],
 "metadata": {
  "kernelspec": {
   "display_name": "Julia 1.5.3",
   "language": "julia",
   "name": "julia-1.5"
  },
  "language_info": {
   "file_extension": ".jl",
   "mimetype": "application/julia",
   "name": "julia",
   "version": "1.5.3"
  }
 },
 "nbformat": 4,
 "nbformat_minor": 4
}
