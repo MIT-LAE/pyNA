{
 "cells": [
  {
   "cell_type": "code",
   "execution_count": 1,
   "metadata": {},
   "outputs": [],
   "source": [
    "using BenchmarkTools\n",
    "using ReverseDiff: JacobianTape, JacobianConfig, jacobian, jacobian!, compile"
   ]
  },
  {
   "cell_type": "code",
   "execution_count": 2,
   "metadata": {
    "code_folding": []
   },
   "outputs": [
    {
     "data": {
      "text/plain": [
       "#1 (generic function with 1 method)"
      ]
     },
     "execution_count": 2,
     "metadata": {},
     "output_type": "execute_result"
    }
   ],
   "source": [
    "function f_tone_corrections!(C, spl, settings)\n",
    "\n",
    "    # Step 1: Compute the slope of SPL\n",
    "    s = zeros(eltype(spl), (settings[\"n_frequency_bands\"], ))    \n",
    "    s[4:end] = spl[4:end] .- spl[3:end-1]\n",
    "    \n",
    "    # Step 2: Compute the absolute value of the slope and compare to 5    \n",
    "    slope = zeros(eltype(spl), (settings[\"n_frequency_bands\"], ))    \n",
    "    slope[4:end] = s[4:end] .- s[3:end-1]\n",
    "\n",
    "    slope_large = zeros(eltype(spl), (settings[\"n_frequency_bands\"], ))  \n",
    "    idx_step2 = findall(abs.(slope).>5)\n",
    "    slope_large[idx_step2] = ones(eltype(spl), (settings[\"n_frequency_bands\"], ))[idx_step2]\n",
    "\n",
    "    # Step 3: Compute the encircled values of SPL\n",
    "    spl_large = zeros(eltype(spl), (settings[\"n_frequency_bands\"], ))   \n",
    "    idx_step3a = findall((slope_large .== 1) .* (s.> 0) .* (s .- vcat(0, s[1:end-1]) .> 0) )\n",
    "    spl_large[idx_step3a] = ones(eltype(spl), (settings[\"n_frequency_bands\"],))[idx_step3a]\n",
    "    \n",
    "    interm = vcat(0, spl_large)\n",
    "    idx_step3b = findall( (slope_large .== 1) .* (s.<=0) .* (vcat(0, s[1:end-1]) .> 0) )\n",
    "    interm[idx_step3b] = ones(settings[\"n_frequency_bands\"], )[idx_step3b]\n",
    "    spl_large = interm[2:end]\n",
    "\n",
    "    # Step 4: Compute new adjusted sound pressure levels SPL'\n",
    "    spl_p = zeros(eltype(spl), (settings[\"n_frequency_bands\"], ))    \n",
    "    spl_p[24] = spl[22] + s[22]\n",
    "    spl_p[2:23]= 0.5 * (spl[1:22] .+ spl[3:24])\n",
    "\n",
    "    idx_step4 = findall(spl_large .==0)\n",
    "    spl_p[idx_step4] = spl[idx_step4]\n",
    "\n",
    "    # Step 5: Recompute the slope s'\n",
    "    s_p = zeros(eltype(spl), (settings[\"n_frequency_bands\"] + 1,))\n",
    "    s_p[4:end-1] = spl_p[4:end] .- spl_p[3:end-1]\n",
    "    s_p[3] = s_p[4]\n",
    "    # Compute 25th imaginary band\n",
    "    s_p[25] = s_p[24]\n",
    "\n",
    "    # Step 6: Compute arithmetic average of the 3 adjacent slopes\n",
    "    s_bar = zeros(eltype(spl), (settings[\"n_frequency_bands\"],))\n",
    "    s_bar[3:end-1] = 1/3 * (s_p[3:end-2] + s_p[4:end-1] + s_p[5:end])\n",
    "\n",
    "    # Step 7: Compute final 1/3 octave-band sound pressure level       \n",
    "    spl_pp = zeros(eltype(spl), (settings[\"n_frequency_bands\"],))\n",
    "    spl_pp[3] = spl[3]\n",
    "    spl_pp[4:end]  = cumsum(s_bar[3:end-1]) .+  spl[3]\n",
    "       \n",
    "    # Step 8: Compute the difference between SPL and SPL_pp\n",
    "    F = zeros(eltype(spl), (settings[\"n_frequency_bands\"],))\n",
    "    F[3:end] = spl[3:end] .- spl_pp[3:end]\n",
    "    \n",
    "    idx_step8 = findall(F.<1.5)\n",
    "    F[idx_step8] = zeros(eltype(spl), (settings[\"n_frequency_bands\"],))[idx_step8]\n",
    "    \n",
    "    # Step 9: Compute the correction factor C    \n",
    "    c10 = zeros(eltype(spl), (8,))\n",
    "    idx_step9a1 = findall(1.5 .<= F[3:10] .< 3 )\n",
    "    idx_step9a2 = findall(3.0 .<= F[3:10] .< 20)\n",
    "    idx_step9a3 = findall(20. .<= F[3:10]      )\n",
    "    c10[idx_step9a1] = F[3:10][idx_step9a1] / 3. .- 0.5\n",
    "    c10[idx_step9a2] = F[3:10][idx_step9a2] / 6.\n",
    "    c10[idx_step9a3] = F[3:10][idx_step9a3] * 0. .+ (3 .+ 1/3.)\n",
    "\n",
    "    c20 = zeros(eltype(spl), (10,))\n",
    "    idx_step9b1 = findall(1.5 .<= F[11:20] .< 3 )\n",
    "    idx_step9b2 = findall(3.0 .<= F[11:20] .< 20)\n",
    "    idx_step9b3 = findall(20. .<= F[11:20]      )\n",
    "    c20[idx_step9b1] = F[11:20][idx_step9b1] * 2 / 3. .- 1.   \n",
    "    c20[idx_step9b2] = F[11:20][idx_step9b2] / 3.   \n",
    "    c20[idx_step9b3] = F[11:20][idx_step9b3] * 0. .+ (6 .+ 2/3.)\n",
    "\n",
    "    cend = zeros(eltype(spl), (4,))\n",
    "    idx_step9c1 = findall(1.5 .<= F[21:end] .< 3 )\n",
    "    idx_step9c2 = findall(3.0 .<= F[21:end] .< 20)\n",
    "    idx_step9c3 = findall(20. .<= F[21:end]      )\n",
    "    cend[idx_step9c1] = F[21:end][idx_step9c1] / 3. .- 0.5 \n",
    "    cend[idx_step9c2] = F[21:end][idx_step9c2] / 6.  \n",
    "    cend[idx_step9c3] = F[21:end][idx_step9c3] * 0. .+ (3. .+ 1/3.)  \n",
    "    C .= vcat(0, 0, c10, c20, cend)\n",
    "      \n",
    "#     # Compute the largest of the tone correction\n",
    "#     if settings[\"tones_under_800Hz\"]\n",
    "#         c_max .= maximum(C)\n",
    "#     else\n",
    "#         c_max .= maximum(C[14:end])\n",
    "#     end\n",
    "end\n",
    "\n",
    "f_tone_corrections_fwd! = (y,x)->f_tone_corrections!(y, x, settings)"
   ]
  },
  {
   "cell_type": "code",
   "execution_count": 3,
   "metadata": {
    "scrolled": true
   },
   "outputs": [
    {
     "data": {
      "text/plain": [
       "false"
      ]
     },
     "execution_count": 3,
     "metadata": {},
     "output_type": "execute_result"
    }
   ],
   "source": [
    "# Inputs \n",
    "x_tc = [0., 0., 70., 62., 70., 80., 82., 83., 76., 80., 80., 79., 78., 80., 78., 76., 79., 85., 79., 78., 71., 60., 54., 45.]\n",
    "y_tc = zeros(24)\n",
    "\n",
    "settings = Dict()\n",
    "settings[\"n_frequency_bands\"] = 24\n",
    "settings[\"tones_under_800Hz\"] = false"
   ]
  },
  {
   "cell_type": "code",
   "execution_count": 4,
   "metadata": {
    "code_folding": []
   },
   "outputs": [
    {
     "data": {
      "text/plain": [
       "ReverseDiff.CompiledTape(#1)"
      ]
     },
     "execution_count": 4,
     "metadata": {},
     "output_type": "execute_result"
    }
   ],
   "source": [
    "Y = zeros(24)\n",
    "X = zeros(24)\n",
    "J = Y.*X'\n",
    "\n",
    "const c_tape = JacobianTape(f_tone_corrections_fwd!, Y, X)\n",
    "const compiled_c_tape = compile(c_tape)"
   ]
  },
  {
   "cell_type": "code",
   "execution_count": 5,
   "metadata": {
    "scrolled": true
   },
   "outputs": [
    {
     "name": "stdout",
     "output_type": "stream",
     "text": [
      "  4.880894 seconds (13.81 M allocations: 596.980 MiB, 5.14% gc time)\n"
     ]
    },
    {
     "data": {
      "text/plain": [
       "24-element Array{Float64,1}:\n",
       " 0.0\n",
       " 0.0\n",
       " 0.0\n",
       " 0.0\n",
       " 0.0\n",
       " 0.27777777777777624\n",
       " 0.055555555555557135\n",
       " 0.6666666666666666\n",
       " 0.0\n",
       " 0.16666666666666663\n",
       " 0.0\n",
       " 0.0\n",
       " 0.0\n",
       " 0.0\n",
       " 0.0\n",
       " 0.0\n",
       " 0.0\n",
       " 2.0\n",
       " 0.0\n",
       " 0.33333333333333326\n",
       " 0.0\n",
       " 0.0\n",
       " 0.0\n",
       " 0.0"
      ]
     },
     "execution_count": 5,
     "metadata": {},
     "output_type": "execute_result"
    }
   ],
   "source": [
    "@time f_tone_corrections_fwd!(y_tc, x_tc)"
   ]
  },
  {
   "cell_type": "code",
   "execution_count": 6,
   "metadata": {},
   "outputs": [
    {
     "name": "stdout",
     "output_type": "stream",
     "text": [
      "  0.113170 seconds (108.95 k allocations: 5.702 MiB)\n"
     ]
    },
    {
     "data": {
      "text/plain": [
       "24×24 Array{Float64,2}:\n",
       " 0.0  0.0  0.0  0.0  0.0  0.0  0.0  0.0  …  0.0  0.0  0.0  0.0  0.0  0.0  0.0\n",
       " 0.0  0.0  0.0  0.0  0.0  0.0  0.0  0.0     0.0  0.0  0.0  0.0  0.0  0.0  0.0\n",
       " 0.0  0.0  0.0  0.0  0.0  0.0  0.0  0.0     0.0  0.0  0.0  0.0  0.0  0.0  0.0\n",
       " 0.0  0.0  0.0  0.0  0.0  0.0  0.0  0.0     0.0  0.0  0.0  0.0  0.0  0.0  0.0\n",
       " 0.0  0.0  0.0  0.0  0.0  0.0  0.0  0.0     0.0  0.0  0.0  0.0  0.0  0.0  0.0\n",
       " 0.0  0.0  0.0  0.0  0.0  0.0  0.0  0.0  …  0.0  0.0  0.0  0.0  0.0  0.0  0.0\n",
       " 0.0  0.0  0.0  0.0  0.0  0.0  0.0  0.0     0.0  0.0  0.0  0.0  0.0  0.0  0.0\n",
       " 0.0  0.0  0.0  0.0  0.0  0.0  0.0  0.0     0.0  0.0  0.0  0.0  0.0  0.0  0.0\n",
       " 0.0  0.0  0.0  0.0  0.0  0.0  0.0  0.0     0.0  0.0  0.0  0.0  0.0  0.0  0.0\n",
       " 0.0  0.0  0.0  0.0  0.0  0.0  0.0  0.0     0.0  0.0  0.0  0.0  0.0  0.0  0.0\n",
       " 0.0  0.0  0.0  0.0  0.0  0.0  0.0  0.0  …  0.0  0.0  0.0  0.0  0.0  0.0  0.0\n",
       " 0.0  0.0  0.0  0.0  0.0  0.0  0.0  0.0     0.0  0.0  0.0  0.0  0.0  0.0  0.0\n",
       " 0.0  0.0  0.0  0.0  0.0  0.0  0.0  0.0     0.0  0.0  0.0  0.0  0.0  0.0  0.0\n",
       " 0.0  0.0  0.0  0.0  0.0  0.0  0.0  0.0     0.0  0.0  0.0  0.0  0.0  0.0  0.0\n",
       " 0.0  0.0  0.0  0.0  0.0  0.0  0.0  0.0     0.0  0.0  0.0  0.0  0.0  0.0  0.0\n",
       " 0.0  0.0  0.0  0.0  0.0  0.0  0.0  0.0  …  0.0  0.0  0.0  0.0  0.0  0.0  0.0\n",
       " 0.0  0.0  0.0  0.0  0.0  0.0  0.0  0.0     0.0  0.0  0.0  0.0  0.0  0.0  0.0\n",
       " 0.0  0.0  0.0  0.0  0.0  0.0  0.0  0.0     0.0  0.0  0.0  0.0  0.0  0.0  0.0\n",
       " 0.0  0.0  0.0  0.0  0.0  0.0  0.0  0.0     0.0  0.0  0.0  0.0  0.0  0.0  0.0\n",
       " 0.0  0.0  0.0  0.0  0.0  0.0  0.0  0.0     0.0  0.0  0.0  0.0  0.0  0.0  0.0\n",
       " 0.0  0.0  0.0  0.0  0.0  0.0  0.0  0.0  …  0.0  0.0  0.0  0.0  0.0  0.0  0.0\n",
       " 0.0  0.0  0.0  0.0  0.0  0.0  0.0  0.0     0.0  0.0  0.0  0.0  0.0  0.0  0.0\n",
       " 0.0  0.0  0.0  0.0  0.0  0.0  0.0  0.0     0.0  0.0  0.0  0.0  0.0  0.0  0.0\n",
       " 0.0  0.0  0.0  0.0  0.0  0.0  0.0  0.0     0.0  0.0  0.0  0.0  0.0  0.0  0.0"
      ]
     },
     "execution_count": 6,
     "metadata": {},
     "output_type": "execute_result"
    }
   ],
   "source": [
    "@time jacobian!(J, compiled_c_tape, x_tc)"
   ]
  },
  {
   "cell_type": "code",
   "execution_count": null,
   "metadata": {},
   "outputs": [],
   "source": []
  },
  {
   "cell_type": "code",
   "execution_count": null,
   "metadata": {},
   "outputs": [],
   "source": []
  }
 ],
 "metadata": {
  "kernelspec": {
   "display_name": "Julia 1.5.3",
   "language": "julia",
   "name": "julia-1.5"
  },
  "language_info": {
   "file_extension": ".jl",
   "mimetype": "application/julia",
   "name": "julia",
   "version": "1.5.3"
  }
 },
 "nbformat": 4,
 "nbformat_minor": 4
}
