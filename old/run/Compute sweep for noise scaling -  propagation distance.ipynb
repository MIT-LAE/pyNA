{
 "cells": [
  {
   "cell_type": "markdown",
   "metadata": {},
   "source": [
    "1. Engine thrust lapse (TOC/TO) and (TOC/00)\n",
    "2. Specific thrust at TOC vs. specific thrust at TO\n",
    "3. Rate of specific thrust with TS"
   ]
  },
  {
   "cell_type": "code",
   "execution_count": 1,
   "metadata": {
    "code_folding": [
     0
    ],
    "scrolled": true
   },
   "outputs": [
    {
     "data": {
      "text/html": [
       "<style>.container { width:100% !important; }</style>"
      ],
      "text/plain": [
       "<IPython.core.display.HTML object>"
      ]
     },
     "metadata": {},
     "output_type": "display_data"
    }
   ],
   "source": [
    "# Imports \n",
    "import os\n",
    "import sys\n",
    "sys.path.append(\"..\")\n",
    "os.environ[\"pyna_language\"] = 'python'\n",
    "import pdb\n",
    "import numpy as np\n",
    "import openmdao.api as om\n",
    "import pandas as pd\n",
    "pd.set_option('max_columns', None)\n",
    "pd.set_option('max_rows', None)\n",
    "import matplotlib.pyplot as plt\n",
    "from mpl_toolkits.axes_grid1.inset_locator import zoomed_inset_axes, mark_inset\n",
    "%matplotlib inline\n",
    "from pyNA.pyna import pyna\n",
    "from scipy import interpolate\n",
    "\n",
    "from IPython.display import clear_output\n",
    "from IPython.core.display import display, HTML\n",
    "display(HTML(\"<style>.container { width:100% !important; }</style>\"))"
   ]
  },
  {
   "cell_type": "code",
   "execution_count": 2,
   "metadata": {
    "code_folding": [
     1,
     34
    ]
   },
   "outputs": [],
   "source": [
    "# Definitions \n",
    "class Constants:\n",
    "    \"\"\"\n",
    "    \n",
    "    \"\"\"\n",
    "\n",
    "    def __init__(self):\n",
    "        \n",
    "        # Constants\n",
    "        self.gamma = 1.4               # Ratio of specific heats [-]\n",
    "        self.R = 287.                  # Gas constant air [J/kgK]\n",
    "        self.Cp = self.gamma*self.R/(self.gamma-1)  # Specific heat at constant pressure [J/kgK]\n",
    "        self.g = 9.80665               # Gravitational acceleration [m/s2]\n",
    "\n",
    "        # Fuel constants\n",
    "        self.LHV = 43e6                # Kerosene lower heating value [J/kg]\n",
    "\n",
    "        # Sea level values of atmosphere\n",
    "        self.rho_sl   = 1.225          # Sea level density [kg/m3]\n",
    "        self.P_sl     = 101325         # Sea level pressure [Pa]\n",
    "        self.T_sl     = 288.15         # Sea level temperature [K]\n",
    "        self.lapse_sl = 0.0065         # Lapse rate troposphere [1/m]\n",
    "\n",
    "        # z = 11km values of atmosphere\n",
    "        self.rho_z11 = 0.363918       # h = 11km density [kg/m3]\n",
    "        self.P_z11   = 22632.1        # h = 11km pressure [kg/m3]\n",
    "        self.T_z11   = 216.65         # h = 11km temperature [kg/m3]\n",
    "\n",
    "        # z = 20 values of atmosphere\n",
    "        self.rho_z20   = 0.0880349    # Sea level density [kg/m3]\n",
    "        self.P_z20     = 5474.89      # Sea level pressure [Pa]\n",
    "        self.T_z20     = 216.650      # Sea level temperature [K]\n",
    "        self.lapse_z20 = -0.0001      # Lapse rate troposphere [1/m]\n",
    "        \n",
    "class ACD:\n",
    "    \"\"\"\n",
    "    The Aircraft Conceptual Design (ACD) module contains the methods for the conceptual design of aircraft from first principles.\n",
    "    \n",
    "    \"\"\"\n",
    "\n",
    "    def __init__(self) -> None:\n",
    "        \n",
    "        \"\"\"\n",
    "        :param mtow: maximum take-off weight [kg]\n",
    "        :type mtow: float\n",
    "        :param M_0: cruise Mach number [-]\n",
    "        :type M_0: float\n",
    "        :param N_e: number of engines [-]\n",
    "        :type N_e: int\n",
    "        \"\"\"\n",
    "\n",
    "        self.c = Constants()\n",
    "\n",
    "    def compute_atmosphere(self, z): \n",
    "        \"\"\"\n",
    "        Calculate atmospheric properties at altitude z.\n",
    "        \n",
    "        :param z: altitude [m]\n",
    "        :type z: np.ndarray\n",
    "        \n",
    "        :return: [T, p, rho, a]\n",
    "        :rtype: list\n",
    "        \"\"\"\n",
    "        \n",
    "        ## Calculations\n",
    "        T = np.zeros(np.size(z))\n",
    "        rho = np.zeros(np.size(z))\n",
    "        p = np.zeros(np.size(z))\n",
    "        a = np.zeros(np.size(z))\n",
    "        \n",
    "        if np.size(z) == 1:\n",
    "            z = [z]\n",
    "        \n",
    "        for i, height in enumerate(z):\n",
    "            # Troposphere\n",
    "            if height >= -100. and height <= 11000.:\n",
    "                T[i]   = self.c.T_sl - self.c.lapse_sl*height\n",
    "                p[i]   = self.c.P_sl * (T[i]/self.c.T_sl)**(self.c.g/self.c.lapse_sl/self.c.R)\n",
    "                rho[i] = self.c.rho_sl * (T[i]/self.c.T_sl)**(self.c.g/self.c.lapse_sl/self.c.R-1)\n",
    "            # Tropopause\n",
    "            elif height > 11000. and height < 20000.: \n",
    "                T[i]   = self.c.T_z11\n",
    "                p[i]   = self.c.P_z11 * np.exp(-self.c.g*(height-11000)/self.c.R/T[i])\n",
    "                rho[i] = self.c.rho_z11 * np.exp(-self.c.g*(height-11000)/self.c.R/T[i])\n",
    "            # Stratosphere\n",
    "            elif height >=20000. and height < 32000:\n",
    "                T[i]   = self.c.T_z20 - self.c.lapse_z20*(height-20000)   \n",
    "                p[i]   = self.c.P_z20 * (T[i]/self.c.T_z20)**(self.c.g/self.c.lapse_z20/self.c.R)\n",
    "                rho[i] = self.c.rho_z20 * (T[i]/self.c.T_z20)**(self.c.g/self.c.lapse_z20/self.c.R-1)\n",
    "            else:\n",
    "                raise ValueError('Altitude is out of bounds (-100 < z < 32000) m.')\n",
    "\n",
    "            a[i] = np.sqrt(self.c.gamma*self.c.R*T[i])\n",
    "        \n",
    "        if np.size(z) == 1:\n",
    "            return T[0], p[0], rho[0], a[0]\n",
    "        else:\n",
    "            return T, p, rho, a\n",
    "        \n",
    "acd = ACD()"
   ]
  },
  {
   "cell_type": "code",
   "execution_count": 3,
   "metadata": {
    "code_folding": []
   },
   "outputs": [],
   "source": [
    "# Sweeps (STCA) / (GT Medium SST) \n",
    "W_S_lst = np.linspace(3500, 5000, 7)\n",
    "F_W_lst = np.linspace(0.325, 0.475, 7)\n",
    "\n",
    "case_lst = ['scaling', 'scaling_all_constant_LD6', 'scaling_all_constant_LD6_mid']\n",
    "clmax_lst = dict()\n",
    "LDmax_lst = dict()\n",
    "for k,case in enumerate(case_lst):\n",
    "    clmax_lst[case] = np.array([1.2, 1.2, 1.2])[k]\n",
    "    LDmax_lst[case] = np.array([6.718101501415649, 6.718101501415649, 6.718101501415649])[k]\n",
    "    \n",
    "k_to = 1.4"
   ]
  },
  {
   "cell_type": "code",
   "execution_count": 5,
   "metadata": {
    "code_folding": [
     0
    ]
   },
   "outputs": [],
   "source": [
    "# Compute F_ratio \n",
    "py = pyna()\n",
    "py.case_name = 'stca'\n",
    "py.initialize()\n",
    "\n",
    "# Load engine deck\n",
    "py.engine.get_performance_deck_variables(True, True, True, True, True)\n",
    "py.engine.get_performance_deck(atmosphere_type='stratified', thrust_lapse=True, F00=None)\n",
    "\n",
    "# Create engine deck interpolant\n",
    "F_n_interp = interpolate.RegularGridInterpolator((py.engine.deck['z'], py.engine.deck['M_0'], py.engine.deck['TS']), py.engine.deck['F_n'])\n",
    "\n",
    "case = 'scaling_all_constant_LD6_mid'\n",
    "\n",
    "for W_S in W_S_lst: \n",
    "    c_l_max = clmax_lst[case]\n",
    "    v_stall = np.sqrt(2*W_S/1.225/c_l_max)\n",
    "    v_max = 1.4*v_stall\n",
    "\n",
    "    F_ratio_sl = (F_n_interp((0, v_max/340.3, 1))/F_n_interp((0, 0, 1)))\n",
    "    F_ratio_z  = (F_n_interp((1000, v_max/336.4, 1))/F_n_interp((0, 0, 1)))\n",
    "    F_ratio = (F_ratio_sl+F_ratio_z)/2\n",
    "\n",
    "#     print(F_ratio)\n",
    "    \n",
    "# Result: choose F/FSLS = 0.782"
   ]
  },
  {
   "cell_type": "code",
   "execution_count": 12,
   "metadata": {
    "code_folding": [
     1
    ],
    "scrolled": true
   },
   "outputs": [],
   "source": [
    "# Compute trajectories for (z-TS) sweep \n",
    "if False:\n",
    "    ac_name = 'stca'\n",
    "    case = 'scaling_all_constant_LD6_mid'\n",
    "\n",
    "    for W_S in W_S_lst:    \n",
    "        for F_W in F_W_lst:\n",
    "\n",
    "            # W_S = W_S_lst[6]\n",
    "            # F_W = F_W_lst[3]\n",
    "\n",
    "            W = 55000*9.81\n",
    "\n",
    "            c_l_max = clmax_lst[case]\n",
    "            v_stall = np.sqrt(2*W_S/1.225/c_l_max)\n",
    "            v_max = 1.4*v_stall\n",
    "\n",
    "            pyna_settings = pyna.load_settings(case_name=ac_name)\n",
    "            pyna_settings.ac_name = ac_name\n",
    "            pyna_settings.case_name = ac_name\n",
    "            pyna_settings.engine_file_name = 'engine_deck_' + ac_name + '.csv'\n",
    "            pyna_settings.save_results = True\n",
    "            pyna_settings.output_directory_name = case\n",
    "            pyna_settings.max_iter = 200\n",
    "            pyna_settings.TS_to = 1.0\n",
    "            pyna_settings.TS_vnrs = 1.0\n",
    "            pyna_settings.PKROT = True\n",
    "            pyna_settings.engine_thrust_lapse = False\n",
    "            pyna_settings.atmosphere_type = 'sealevel'\n",
    "\n",
    "            pyna_settings.theta_flaps = 10.\n",
    "            pyna_settings.theta_slats = -6.\n",
    "\n",
    "            # pyna_settings.theta_flaps = 26.\n",
    "            # pyna_settings.theta_slats = -26.\n",
    "\n",
    "            pyna_settings.TS_cutback = 1.\n",
    "            pyna_settings.z_cutback = 455.\n",
    "            pyna_settings.output_file_name = pyna_settings.ac_name + '_WS' + str(np.round(W_S)) + '_F_W' + str(np.round(F_W,3))+ '.sql'\n",
    "\n",
    "            pyna_settings.Foo = F_W*W/3*F_ratio\n",
    "\n",
    "            # Compute trajectory \n",
    "            py = pyna(pyna_settings)\n",
    "            py.ac.v_max = v_max\n",
    "            py.ac.z_max\n",
    "\n",
    "            py.ac.af_S_w = W/W_S\n",
    "\n",
    "            converged = py.compute_trajectory(trajectory_mode='cutback', objective='t_end')\n",
    "\n",
    "            # Save timeseries\n",
    "            path_save_name = 'trajectory_' + pyna_settings.ac_name + '_WS' + str(np.round(W_S)) + '_F_W' + str(np.round(F_W,3))+ '.csv'\n",
    "            engine_save_name = 'engine_' + pyna_settings.ac_name + '_WS' + str(np.round(W_S)) + '_F_W' + str(np.round(F_W,3))+ '.csv'\n",
    "            py.save_time_series(py.problem, py.settings, py.ac, path_save_name, engine_save_name)"
   ]
  },
  {
   "cell_type": "code",
   "execution_count": 13,
   "metadata": {
    "code_folding": [
     1
    ]
   },
   "outputs": [],
   "source": [
    "# Compute noise for trajectories \n",
    "if False:\n",
    "    ac_name = 'stca'\n",
    "        \n",
    "    # Case 2\n",
    "    case = 'scaling_all_constant_LD6'\n",
    "    n_sl = 131\n",
    "    epnl_sideline = np.zeros((np.size(F_W_lst), np.size(W_S_lst), n_sl))\n",
    "    epnl_lateral = np.zeros((np.size(F_W_lst), np.size(W_S_lst)))\n",
    "    epnl_flyover = np.zeros((np.size(F_W_lst), np.size(W_S_lst)))\n",
    "\n",
    "    pyna_settings = pyna.load_settings(case_name=ac_name)\n",
    "    pyna_settings.ac_name = ac_name\n",
    "    pyna_settings.output_directory_name = case\n",
    "\n",
    "    for j, W_S in enumerate(W_S_lst):    \n",
    "        for i, F_W in enumerate(F_W_lst):\n",
    "\n",
    "            pyna_settings.engine_file_name = 'engine_' + pyna_settings.ac_name + '_WS' + str(np.round(W_S)) + '_F_W' + str(np.round(F_W,3))+ '.csv'\n",
    "            pyna_settings.trajectory_file_name = 'trajectory_' + pyna_settings.ac_name + '_WS' + str(np.round(W_S)) + '_F_W' + str(np.round(F_W,3))+ '.csv'\n",
    "            pyna_settings.lateral_attenuation = True\n",
    "            pyna_settings.observer_lst = ['contours',]\n",
    "\n",
    "            x_observer_lst = np.zeros((n_sl+1, 3))\n",
    "            x_observer_lst[:-1, 0] = np.linspace(0, 6500, n_sl)\n",
    "            x_observer_lst[:-1, 1] = 450*np.ones(n_sl)\n",
    "            x_observer_lst[:, 2] = 4*0.3048*np.ones(n_sl+1)\n",
    "            x_observer_lst[-1,0] = 6500.\n",
    "\n",
    "            pyna_settings.x_observer_array = x_observer_lst\n",
    "\n",
    "            py = pyna(pyna_settings)\n",
    "            py.compute_noise_time_series()\n",
    "\n",
    "            epnl_sideline[i,j,:] = py.problem.get_val('noise.epnl')[:-1]\n",
    "            epnl_lateral[i,j] = np.max(py.problem.get_val('noise.epnl')[:-1])\n",
    "            epnl_flyover[i,j] = py.problem.get_val('noise.epnl')[-1]\n",
    "\n",
    "    np.save('../cases/'+ac_name+'/output/'+case+'/sweeps/epnl_lateral.npy', epnl_lateral)\n",
    "    np.save('../cases/'+ac_name+'/output/'+case+'/sweeps/epnl_flyover.npy', epnl_flyover)\n",
    "    np.save('../cases/'+ac_name+'/output/'+case+'/sweeps/epnl_sideline.npy', epnl_sideline)\n",
    "\n",
    "    clear_output()"
   ]
  },
  {
   "cell_type": "code",
   "execution_count": 6,
   "metadata": {
    "code_folding": [
     0
    ]
   },
   "outputs": [],
   "source": [
    "# Load trajectories \n",
    "ac_name = 'stca'\n",
    "py.ac_name = ac_name\n",
    "\n",
    "data = dict()\n",
    "\n",
    "for k, case in enumerate(case_lst): \n",
    "    \n",
    "    data[case] = dict()\n",
    "    \n",
    "    for W_S in W_S_lst:\n",
    "\n",
    "        data[case][W_S] = dict()\n",
    "\n",
    "        for F_W in F_W_lst:\n",
    "\n",
    "            if case == 'scaling':\n",
    "                py.output_directory_name = 'scaling'\n",
    "                py.output_file_name = py.ac_name + '_WS' + str(np.round(W_S)) + '_F_W' + str(np.round(F_W,3))+ '.sql'\n",
    "                py.engine_file_name = 'engine_' + py.ac_name + '_WS' + str(np.round(W_S)) + '_F_W' + str(np.round(F_W,3))+ '.csv'\n",
    "                py.trajectory_file_name = 'trajectory_' + py.ac_name + '_WS' + str(np.round(W_S)) + '_F_W' + str(np.round(F_W,3))+ '.csv'\n",
    "\n",
    "                data[case][W_S][F_W] = pd.read_csv('../cases/'+ac_name+'/trajectory/scaling/'+py.trajectory_file_name)\n",
    "\n",
    "            if case == 'scaling_all_constant_LD6':\n",
    "                py.output_directory_name = 'scaling_all_constant_LD6'\n",
    "                py.output_file_name = py.ac_name + '_WS' + str(np.round(W_S)) + '_F_W' + str(np.round(F_W,3))+ '.sql'\n",
    "                py.engine_file_name = 'engine_' + py.ac_name + '_WS' + str(np.round(W_S)) + '_F_W' + str(np.round(F_W,3))+ '.csv'\n",
    "                py.trajectory_file_name = 'trajectory_' + py.ac_name + '_WS' + str(np.round(W_S)) + '_F_W' + str(np.round(F_W,3))+ '.csv'\n",
    "\n",
    "                data[case][W_S][F_W] = pd.read_csv('../cases/'+ac_name+'/trajectory/scaling_all_constant_LD6/'+py.trajectory_file_name)\n",
    "                 \n",
    "            if case == 'scaling_all_constant_LD6_mid':\n",
    "                py.output_directory_name = 'scaling_all_constant_LD6_mid'\n",
    "                py.output_file_name = py.ac_name + '_WS' + str(np.round(W_S)) + '_F_W' + str(np.round(F_W,3))+ '.sql'\n",
    "                py.engine_file_name = 'engine_' + py.ac_name + '_WS' + str(np.round(W_S)) + '_F_W' + str(np.round(F_W,3))+ '.csv'\n",
    "                py.trajectory_file_name = 'trajectory_' + py.ac_name + '_WS' + str(np.round(W_S)) + '_F_W' + str(np.round(F_W,3))+ '.csv'\n",
    "\n",
    "                data[case][W_S][F_W] = pd.read_csv('../cases/'+ac_name+'/trajectory/scaling_all_constant_LD6_mid/'+py.trajectory_file_name)\n"
   ]
  },
  {
   "cell_type": "code",
   "execution_count": 9,
   "metadata": {
    "code_folding": [
     1
    ]
   },
   "outputs": [],
   "source": [
    "# Figure 6.6 (a)\n",
    "if False:\n",
    "    fig, ax = plt.subplots(2,2, figsize=(18, 8))\n",
    "    plt.style.use('../utils/plot.mplstyle')\n",
    "\n",
    "    if not scaling:\n",
    "        ax[0,0].annotate(s='Flyover microphone', xy=(7000, 50), fontsize=18)\n",
    "     \n",
    "    case_lst_plot = ['scaling_all_constant_LD6']\n",
    "    \n",
    "    for iii, case in enumerate(case_lst_plot):\n",
    "\n",
    "        for i,W_S in enumerate(W_S_lst):\n",
    "            for j,F_W in enumerate(F_W_lst):\n",
    "\n",
    "                x_group     = 1.\n",
    "                t_group     = 1.\n",
    "                z_group     = 1.\n",
    "                v_group     = 1.\n",
    "                gamma_group = 1.\n",
    "                alpha_group = 1.  \n",
    "\n",
    "                ax[0,0].plot([6500*x_group], [0], 'o', markersize=5, markeredgecolor='black', markerfacecolor='grey')\n",
    "\n",
    "                ax[0,0].plot(data[case][W_S][F_W]['X [m]'].values*x_group, data[case][W_S][F_W]['Z [m]'].values*z_group)\n",
    "                ax[0,1].plot(data[case][W_S][F_W]['t_source [s]'].values*t_group, data[case][W_S][F_W]['V [m/s]'].values*v_group)\n",
    "                ax[1,0].plot(data[case][W_S][F_W]['t_source [s]'].values*t_group, data[case][W_S][F_W]['gamma [deg]'].values*gamma_group)\n",
    "                ax[1,1].plot(data[case][W_S][F_W]['t_source [s]'].values*t_group, data[case][W_S][F_W]['alpha [deg]'].values*alpha_group)\n",
    "\n",
    "    ax[0,0].set_xlabel('$X$ [m]')\n",
    "    ax[0,0].set_ylabel('$Z$ [m]')\n",
    "    ax[0,1].set_xlabel('$t$ [s]')\n",
    "    ax[0,1].set_ylabel('$V$ [m/s]')\n",
    "    ax[1,0].set_xlabel('$t$ [s]')\n",
    "    ax[1,0].set_ylabel(r'$\\gamma$ [deg]')\n",
    "    ax[1,1].set_xlabel('$t$ [s]')\n",
    "    ax[1,1].set_ylabel(r'$\\alpha$ [deg]')\n",
    "    \n",
    "    plt.subplots_adjust(hspace=0.4)"
   ]
  },
  {
   "cell_type": "code",
   "execution_count": 92,
   "metadata": {
    "code_folding": [
     1
    ]
   },
   "outputs": [],
   "source": [
    "# Figure 6.6 (b)\n",
    "if False:\n",
    "    fig, ax = plt.subplots(2,2, figsize=(18, 8))\n",
    "    plt.style.use('../utils/plot.mplstyle')\n",
    "\n",
    "    ax[0,0].annotate(s='Flyover microphones', xy=(0.5, 0.07), fontsize=18)\n",
    "    \n",
    "    case_lst_plot = ['scaling_all_constant_LD6']\n",
    "    \n",
    "    for iii, case in enumerate(case_lst_plot):\n",
    "\n",
    "        for i,W_S in enumerate(W_S_lst):\n",
    "            for j,F_W in enumerate(F_W_lst):\n",
    "\n",
    "                x_group     = F_W / W_S * clmax_lst[case] / k_to**2\n",
    "                t_group     = F_W / np.sqrt(W_S/clmax_lst[case]) / k_to\n",
    "                z_group     = F_W / W_S * clmax_lst[case]/(F_W-1/LDmax_lst[case]) / k_to**2\n",
    "                v_group     = 1/np.sqrt(W_S/clmax_lst[case])/ k_to\n",
    "                gamma_group = (np.pi/180)/(F_W-1/LDmax_lst[case])\n",
    "                alpha_group = (np.pi/180)\n",
    "\n",
    "                ax[0,0].plot([6500*x_group], [0], 'o', markersize=5, markeredgecolor='black', markerfacecolor='grey')\n",
    "\n",
    "                ax[0,0].plot(data[case][W_S][F_W]['X [m]'].values*x_group, data[case][W_S][F_W]['Z [m]'].values*z_group)\n",
    "                ax[0,1].plot(data[case][W_S][F_W]['t_source [s]'].values*t_group, data[case][W_S][F_W]['V [m/s]'].values*v_group)\n",
    "                ax[1,0].plot(data[case][W_S][F_W]['t_source [s]'].values*t_group, data[case][W_S][F_W]['gamma [deg]'].values*gamma_group)\n",
    "                ax[1,1].plot(data[case][W_S][F_W]['t_source [s]'].values*t_group, data[case][W_S][F_W]['alpha [deg]'].values*alpha_group)\n",
    "              \n",
    "        ax[0,0].plot([0, 0.1, 1.], [0, 0, np.tan(0.815)*(1.-0.1)], 'k--')\n",
    "            \n",
    "        ax[0,0].set_xlabel('$X^*$')\n",
    "        ax[0,0].set_ylabel('$Z^*$')\n",
    "        ax[0,0].set_ylim([-0.1, 1])\n",
    "        ax[0,1].set_xlabel('$t^*$')\n",
    "        ax[0,1].set_ylabel('$V^*$')\n",
    "        ax[0,1].set_ylim([-0.1, 2])\n",
    "        ax[1,0].set_xlabel('$t^*$')\n",
    "        ax[1,0].set_ylabel(r'$\\gamma^*$')\n",
    "        ax[1,0].set_ylim([-0.1, 1.1])\n",
    "        ax[1,1].set_xlabel('$t^*$')\n",
    "        ax[1,1].set_ylabel(r'$\\alpha^*$')\n",
    "        \n",
    "    plt.subplots_adjust(hspace=0.4)"
   ]
  },
  {
   "cell_type": "code",
   "execution_count": 99,
   "metadata": {
    "code_folding": [
     1
    ]
   },
   "outputs": [],
   "source": [
    "# Figure 6.7 (a)\n",
    "if False:\n",
    "    fig, ax = plt.subplots(2,2, figsize=(18, 8))\n",
    "    plt.style.use('../utils/plot.mplstyle')\n",
    "\n",
    "    ax[0,0].annotate(s='Flyover microphones', xy=(0.5, 0.05), fontsize=18)\n",
    "    \n",
    "    case_lst_plot = ['scaling']\n",
    "    \n",
    "    for iii, case in enumerate(case_lst_plot):\n",
    "\n",
    "        for i,W_S in enumerate(W_S_lst):\n",
    "            for j,F_W in enumerate(F_W_lst):\n",
    "\n",
    "                x_group     = F_W / W_S * clmax_lst[case] / k_to**2\n",
    "                t_group     = F_W / np.sqrt(W_S/clmax_lst[case]) / k_to\n",
    "                z_group     = F_W / W_S * clmax_lst[case]/(F_W-1/LDmax_lst[case]) / k_to**2\n",
    "                v_group     = 1/np.sqrt(W_S/clmax_lst[case])/ k_to\n",
    "                gamma_group = (np.pi/180)/(F_W-1/LDmax_lst[case])\n",
    "                alpha_group = (np.pi/180)\n",
    "                    \n",
    "                ax[0,0].plot([6500*x_group], [0], 'o', markersize=5, markeredgecolor='black', markerfacecolor='grey')\n",
    "                \n",
    "                ax[0,0].plot(data[case][W_S][F_W]['X [m]'].values*x_group, data[case][W_S][F_W]['Z [m]'].values*z_group)\n",
    "                ax[0,1].plot(data[case][W_S][F_W]['t_source [s]'].values*t_group, data[case][W_S][F_W]['V [m/s]'].values*v_group)\n",
    "                ax[1,0].plot(data[case][W_S][F_W]['t_source [s]'].values*t_group, data[case][W_S][F_W]['gamma [deg]'].values*gamma_group)\n",
    "                ax[1,1].plot(data[case][W_S][F_W]['t_source [s]'].values*t_group, data[case][W_S][F_W]['alpha [deg]'].values*alpha_group)\n",
    "    \n",
    "        ax[0,0].set_xlabel('$X^*$')\n",
    "        ax[0,0].set_ylabel('$Z^*$')\n",
    "        ax[0,0].set_ylim([-0.1, 1])\n",
    "        ax[0,1].set_xlabel('$t^*$')\n",
    "        ax[0,1].set_ylabel('$V^*$')\n",
    "        ax[0,1].set_ylim([-0.1, 2])\n",
    "        ax[1,0].set_xlabel('$t^*$')\n",
    "        ax[1,0].set_ylabel(r'$\\gamma^*$')\n",
    "        ax[1,0].set_ylim([-0.1, 1.1])\n",
    "        ax[1,1].set_xlabel('$t^*$')\n",
    "        ax[1,1].set_ylabel(r'$\\alpha^*$')\n",
    "\n",
    "    # Plot dashed line\n",
    "    W_S = 3500.\n",
    "    F_W = 0.40\n",
    "    \n",
    "    x_group     = F_W / W_S * clmax_lst[case] / k_to**2\n",
    "    t_group     = F_W / np.sqrt(W_S/clmax_lst[case]) / k_to\n",
    "    z_group     = F_W / W_S * clmax_lst[case]/(F_W-1/LDmax_lst[case]) / k_to**2\n",
    "    v_group     = 1/np.sqrt(W_S/clmax_lst[case])/ k_to\n",
    "    gamma_group = (np.pi/180)/(F_W-1/LDmax_lst[case])\n",
    "    alpha_group = (np.pi/180)\n",
    "                \n",
    "    ax[0,0].plot([0, 0.1, 1.2], [0, 0, np.tan(0.817)*(1.2-0.1)], 'k--')\n",
    "#     ax[0,0].plot([0, 0.13, 1.2], [0, 0, np.tan(0.54)*(1.2-0.13)], 'k--')\n",
    "#     ax[0,0].plot(data['scaling_all_constant_LD6'][W_S][F_W]['X [m]'].values*x_group, data['scaling_all_constant_LD6'][W_S][F_W]['Z [m]'].values*z_group, 'k--')\n",
    "    ax[0,1].plot(data['scaling_all_constant_LD6'][W_S][F_W]['t_source [s]'].values*t_group, data['scaling_all_constant_LD6'][W_S][F_W]['V [m/s]'].values*v_group, 'k--')\n",
    "    ax[1,0].plot(data['scaling_all_constant_LD6'][W_S][F_W]['t_source [s]'].values*t_group, data['scaling_all_constant_LD6'][W_S][F_W]['gamma [deg]'].values*gamma_group, 'k--')\n",
    "    ax[1,1].plot(data['scaling_all_constant_LD6'][W_S][F_W]['t_source [s]'].values*t_group, data['scaling_all_constant_LD6'][W_S][F_W]['alpha [deg]'].values*alpha_group, 'k--')\n",
    "    \n",
    "    ax[0,0].annotate(s='Scaling rule', xy=(0.33, 0.64), fontsize=18)\n",
    "    ax[0,1].annotate(s='Scaling rule', xy=(0.5, 1.42), fontsize=18)\n",
    "    ax[1,0].annotate(s='Scaling rule', xy=(0.65, 0.89), fontsize=18)\n",
    "    ax[1,1].annotate(s='Scaling rule', xy=(0.5, 0.18), fontsize=18)\n",
    "    ax[0,1].plot([0.43, 0.485], [1.28, 1.48], 'k', linewidth=1)\n",
    "    \n",
    "    plt.subplots_adjust(hspace=0.4)"
   ]
  },
  {
   "cell_type": "code",
   "execution_count": 109,
   "metadata": {
    "code_folding": [
     1
    ]
   },
   "outputs": [],
   "source": [
    "# Figure 6.7 (b)\n",
    "if False:\n",
    "    fig, ax = plt.subplots(2,2, figsize=(18, 8))\n",
    "    plt.style.use('../utils/plot.mplstyle')\n",
    "\n",
    "    ax[0,0].annotate(s='Flyover microphones', xy=(0.5, 0.05), fontsize=18)\n",
    "    \n",
    "    case_lst_plot = ['scaling']\n",
    "    \n",
    "    for iii, case in enumerate(case_lst_plot):\n",
    "\n",
    "        for i,W_S in enumerate(W_S_lst):\n",
    "            for j,F_W in enumerate(F_W_lst):\n",
    "\n",
    "                x_group     = F_W / W_S * clmax_lst[case] / k_to**2\n",
    "                t_group     = F_W / np.sqrt(W_S/clmax_lst[case]) / k_to\n",
    "                z_group     = F_W / W_S * clmax_lst[case]/(F_W-1/LDmax_lst[case]) / k_to**2\n",
    "                v_group     = 1/np.sqrt(W_S/clmax_lst[case])/ k_to\n",
    "                gamma_group = (np.pi/180)/(F_W-1/LDmax_lst[case])\n",
    "                alpha_group = (np.pi/180)\n",
    "                    \n",
    "                ax[0,0].plot([6500*x_group], [0], 'o', markersize=5, markeredgecolor='black', markerfacecolor='grey')\n",
    "                \n",
    "                ax[0,0].plot(data[case][W_S][F_W]['X [m]'].values*x_group, data[case][W_S][F_W]['Z [m]'].values*z_group)\n",
    "                ax[0,1].plot(data[case][W_S][F_W]['t_source [s]'].values*t_group, data[case][W_S][F_W]['V [m/s]'].values*v_group)\n",
    "                ax[1,0].plot(data[case][W_S][F_W]['t_source [s]'].values*t_group, data[case][W_S][F_W]['gamma [deg]'].values*gamma_group)\n",
    "                ax[1,1].plot(data[case][W_S][F_W]['t_source [s]'].values*t_group, data[case][W_S][F_W]['alpha [deg]'].values*alpha_group)\n",
    "    \n",
    "        ax[0,0].set_xlabel('$X^*$')\n",
    "        ax[0,0].set_ylabel('$Z^*$')\n",
    "        ax[0,0].set_ylim([-0.1, 1])\n",
    "        ax[0,1].set_xlabel('$t^*$')\n",
    "        ax[0,1].set_ylabel('$V^*$')\n",
    "        ax[0,1].set_ylim([-0.1, 2])\n",
    "        ax[1,0].set_xlabel('$t^*$')\n",
    "        ax[1,0].set_ylabel(r'$\\gamma^*$')\n",
    "        ax[1,0].set_ylim([-0.1, 1.1])\n",
    "        ax[1,1].set_xlabel('$t^*$')\n",
    "        ax[1,1].set_ylabel(r'$\\alpha^*$')\n",
    "\n",
    "    # Plot dashed line\n",
    "    W_S = 3500.\n",
    "    F_W = 0.40\n",
    "    \n",
    "    x_group     = F_W / W_S * clmax_lst[case] / k_to**2\n",
    "    t_group     = F_W / np.sqrt(W_S/clmax_lst[case]) / k_to\n",
    "    z_group     = F_W / W_S * clmax_lst[case]/(F_W-1/LDmax_lst[case]) / k_to**2\n",
    "    v_group     = 1/np.sqrt(W_S/clmax_lst[case])/ k_to\n",
    "    gamma_group = (np.pi/180)/(F_W-1/LDmax_lst[case])\n",
    "    alpha_group = (np.pi/180)\n",
    "                \n",
    "#     ax[0,0].plot([0, 0.1, 1.2], [0, 0, np.tan(0.817)*(1.2-0.1)], 'k--')\n",
    "    ax[0,0].plot([0, 0.13, 1.25], [0, 0, np.tan(0.54)*(1.25-0.13)], 'k--')\n",
    "#     ax[0,0].plot(data['scaling_all_constant_LD6'][W_S][F_W]['X [m]'].values*x_group, data['scaling_all_constant_LD6'][W_S][F_W]['Z [m]'].values*z_group, 'k--')\n",
    "    ax[0,1].plot(data['scaling_all_constant_LD6_mid'][W_S][F_W]['t_source [s]'].values*t_group, data['scaling_all_constant_LD6_mid'][W_S][F_W]['V [m/s]'].values*v_group, 'k--')\n",
    "    ax[1,0].plot(data['scaling_all_constant_LD6_mid'][W_S][F_W]['t_source [s]'].values*t_group, data['scaling_all_constant_LD6_mid'][W_S][F_W]['gamma [deg]'].values*gamma_group, 'k--')\n",
    "    ax[1,1].plot(data['scaling_all_constant_LD6_mid'][W_S][F_W]['t_source [s]'].values*t_group, data['scaling_all_constant_LD6_mid'][W_S][F_W]['alpha [deg]'].values*alpha_group, 'k--')\n",
    "    \n",
    "    ax[0,0].annotate(s='Scaling rule', xy=(0.79, 0.64), fontsize=18)\n",
    "    ax[0,1].annotate(s='Scaling rule', xy=(0.5, 1.42), fontsize=18)\n",
    "    ax[1,0].annotate(s='Scaling rule', xy=(0.65, 0.74), fontsize=18)\n",
    "    ax[1,1].annotate(s='Scaling rule', xy=(0.5, 0.18), fontsize=18)\n",
    "    ax[0,1].plot([0.43, 0.485], [1.28, 1.48], 'k', linewidth=1)\n",
    "    \n",
    "    plt.subplots_adjust(hspace=0.4)"
   ]
  },
  {
   "cell_type": "code",
   "execution_count": null,
   "metadata": {},
   "outputs": [],
   "source": []
  },
  {
   "cell_type": "code",
   "execution_count": 112,
   "metadata": {},
   "outputs": [],
   "source": [
    "# Assessment of the scaling rule for the flyover distance \n",
    "# Compute minimum distance between microphone and trajectory and source noise \n",
    "r_fly = dict()\n",
    "\n",
    "for k,case in enumerate(case_lst): \n",
    "    r_fly[case] = dict()\n",
    "    r_fly[case] = np.zeros((np.size(F_W_lst), np.size(W_S_lst)))\n",
    "    \n",
    "    for j,W_S in enumerate(W_S_lst):\n",
    "        for i,F_W in enumerate(F_W_lst):\n",
    "            # Compute distance to flyover microphone\n",
    "            dist = np.sqrt((data[case][W_S][F_W]['X [m]'].values-6500)**2+(data[case][W_S][F_W]['Z [m]'].values-0)**2)\n",
    "            r_fly[case][i,j] = np.min(dist)"
   ]
  },
  {
   "cell_type": "code",
   "execution_count": 113,
   "metadata": {
    "code_folding": []
   },
   "outputs": [],
   "source": [
    "def compute_flyover_distance(x_pp, theta, F00_W, W_S, LD_to, c_l_max, k_to, TS):\n",
    "\n",
    "    theta = theta * (TS*F00_W-1/LD_to)/(F00_W-1/LD_to)\n",
    "    \n",
    "    r_fly = (6500-x_pp*k_to**2*W_S/F00_W/c_l_max) * (F00_W-1/LD_to)*np.sin(theta)/np.sqrt((F00_W-1/LD_to)**2*np.sin(theta)**2 + np.cos(theta)**2)\n",
    "    \n",
    "    return r_fly"
   ]
  },
  {
   "cell_type": "code",
   "execution_count": 115,
   "metadata": {},
   "outputs": [],
   "source": [
    "# Assessment of the scaling rule for the flyover distance \n",
    "# Compute minimum distance between microphone and trajectory and source noise \n",
    "r_fly_scaling = dict()\n",
    "r_fly_scaling_u = dict()\n",
    "\n",
    "for k,case in enumerate(case_lst): \n",
    "    r_fly_scaling[case] = dict()\n",
    "    r_fly_scaling[case] = np.zeros((np.size(F_W_lst), np.size(W_S_lst)))\n",
    "    r_fly_scaling_u[case] = dict()\n",
    "    r_fly_scaling_u[case] = np.zeros((np.size(F_W_lst), np.size(W_S_lst)))\n",
    "    \n",
    "    for j,W_S in enumerate(W_S_lst):\n",
    "        for i,F_W in enumerate(F_W_lst):\n",
    "            # Compute distance to flyover microphone\n",
    "            r_fly_scaling[case][i,j] = compute_flyover_distance(x_pp=0.1, theta=0.817, F00_W=F_W, W_S=W_S, LD_to=LDmax_lst[case], c_l_max=clmax_lst[case], k_to=1.4, TS=1)\n",
    "            r_fly_scaling_u[case][i,j] = compute_flyover_distance(x_pp=0.13, theta=0.54, F00_W=F_W, W_S=W_S, LD_to=LDmax_lst[case], c_l_max=clmax_lst[case], k_to=1.4, TS=1)"
   ]
  },
  {
   "cell_type": "code",
   "execution_count": 121,
   "metadata": {},
   "outputs": [
    {
     "data": {
      "text/plain": [
       "<matplotlib.colorbar.Colorbar at 0x147a954e0>"
      ]
     },
     "execution_count": 121,
     "metadata": {},
     "output_type": "execute_result"
    },
    {
     "data": {
      "image/png": "[encoded data removed]",
      "text/plain": [
       "<Figure size 1500x400 with 4 Axes>"
      ]
     },
     "metadata": {
      "needs_background": "light"
     },
     "output_type": "display_data"
    }
   ],
   "source": [
    "# Plot error between scaling rule and actual trajectories\n",
    "fig,ax = plt.subplots(1,2, figsize=(15,4))\n",
    "c0 = ax[0].contourf((r_fly_scaling['scaling_all_constant_LD6']-r_fly['scaling'])/r_fly['scaling']*100)\n",
    "plt.colorbar(c0, ax=ax[0])\n",
    "\n",
    "c1 = ax[1].contourf((r_fly_scaling_u['scaling_all_constant_LD6']-r_fly['scaling'])/r_fly['scaling']*100)\n",
    "plt.colorbar(c1, ax=ax[1])"
   ]
  },
  {
   "cell_type": "code",
   "execution_count": 123,
   "metadata": {},
   "outputs": [],
   "source": [
    "# Compute source noise and propagation noise for the take-off trajectories\n",
    "r_min = dict()\n",
    "\n",
    "L_src = dict()\n",
    "L_prop = dict()\n",
    "\n",
    "for k,case in enumerate(case_lst): \n",
    "    r_min[case] = dict()\n",
    "    r_min[case] = np.zeros((np.size(F_W_lst), np.size(W_S_lst)))\n",
    "\n",
    "    L_src[case] = np.zeros((np.size(F_W_lst), np.size(W_S_lst)))\n",
    "    \n",
    "    L_prop[case] = dict()\n",
    "    L_prop[case] = np.zeros((np.size(F_W_lst), np.size(W_S_lst)))\n",
    "    \n",
    "    for j,W_S in enumerate(W_S_lst):\n",
    "        for i,F_W in enumerate(F_W_lst):\n",
    "    \n",
    "            # Compute distance to flyover microphone\n",
    "            dist = np.sqrt((data[case][W_S][F_W]['X [m]'].values-6500)**2+(data[case][W_S][F_W]['Z [m]'].values-0)**2)\n",
    "            r_min[case][i,j] = np.min(dist)\n",
    "                        \n",
    "            # Compute source strength\n",
    "            V_j = 410\n",
    "            V_0 = 1.4*np.sqrt(2*W_S/1.225/clmax_lst[case])\n",
    "            L_src[case][i,j] = 80*np.log10(V_j-V_0)\n",
    "            \n",
    "            # Compute propagation levels\n",
    "            L_prop[case][i,j] = 20*np.log10(1/r_min[case][i,j])"
   ]
  },
  {
   "cell_type": "code",
   "execution_count": 124,
   "metadata": {},
   "outputs": [],
   "source": [
    "# Load noise sweeps for take-off trajectories\n",
    "epnl = dict()\n",
    "for case in case_lst:\n",
    "    epnl[case] = dict()\n",
    "    \n",
    "    for mic in ['lateral', 'flyover', 'sideline']:\n",
    "        epnl[case][mic] = np.load('../cases/stca/output/'+case+'/sweeps/epnl_'+mic+'.npy')"
   ]
  },
  {
   "cell_type": "code",
   "execution_count": 140,
   "metadata": {},
   "outputs": [],
   "source": [
    "# Get proportionality coefficients for scaling rule \n",
    "def get_error_model(x, L_src, L_prop, epnl_fly):\n",
    "    \n",
    "    e = 0\n",
    "    for j,W_S in enumerate(W_S_lst):\n",
    "        for i,F_W in enumerate(F_W_lst):\n",
    "            \n",
    "            e += ( epnl_fly[i,j] - (x[0]*L_src[i,j] + x[1]*L_prop[i,j]) )**2\n",
    "                             \n",
    "    return e\n",
    "\n",
    "import scipy\n",
    "x = dict()\n",
    "for case in case_lst:\n",
    "    x[case]=scipy.optimize.minimize(get_error_model, [1,1], args=(L_src[case], L_prop[case], epnl[case]['flyover']), method='Nelder-Mead')\n",
    "\n",
    "x_opt = x['scaling'].x"
   ]
  },
  {
   "cell_type": "code",
   "execution_count": 150,
   "metadata": {},
   "outputs": [
    {
     "data": {
      "text/plain": [
       "<matplotlib.colorbar.Colorbar at 0x147b67a90>"
      ]
     },
     "execution_count": 150,
     "metadata": {},
     "output_type": "execute_result"
    },
    {
     "data": {
      "image/png": "[encoded data removed]",
      "text/plain": [
       "<Figure size 1200x500 with 2 Axes>"
      ]
     },
     "metadata": {
      "needs_background": "light"
     },
     "output_type": "display_data"
    }
   ],
   "source": [
    "# Error for proportionality coefficients\n",
    "L_scaling = x_opt[0]*L_src['scaling'] + x_opt[1]*L_prop['scaling']\n",
    "plt.contourf((L_scaling-epnl['scaling']['flyover'])/epnl['scaling']['flyover']*100)\n",
    "plt.colorbar()"
   ]
  },
  {
   "cell_type": "code",
   "execution_count": null,
   "metadata": {
    "code_folding": []
   },
   "outputs": [],
   "source": []
  },
  {
   "cell_type": "code",
   "execution_count": 20,
   "metadata": {},
   "outputs": [],
   "source": []
  },
  {
   "cell_type": "code",
   "execution_count": null,
   "metadata": {
    "code_folding": []
   },
   "outputs": [],
   "source": []
  },
  {
   "cell_type": "code",
   "execution_count": null,
   "metadata": {},
   "outputs": [],
   "source": []
  },
  {
   "cell_type": "code",
   "execution_count": null,
   "metadata": {},
   "outputs": [],
   "source": []
  },
  {
   "cell_type": "code",
   "execution_count": null,
   "metadata": {},
   "outputs": [],
   "source": []
  },
  {
   "cell_type": "code",
   "execution_count": null,
   "metadata": {},
   "outputs": [],
   "source": []
  },
  {
   "cell_type": "code",
   "execution_count": null,
   "metadata": {},
   "outputs": [],
   "source": []
  },
  {
   "cell_type": "code",
   "execution_count": 67,
   "metadata": {},
   "outputs": [],
   "source": []
  },
  {
   "cell_type": "code",
   "execution_count": 68,
   "metadata": {},
   "outputs": [],
   "source": []
  },
  {
   "cell_type": "code",
   "execution_count": 70,
   "metadata": {},
   "outputs": [],
   "source": []
  },
  {
   "cell_type": "code",
   "execution_count": null,
   "metadata": {},
   "outputs": [],
   "source": []
  },
  {
   "cell_type": "code",
   "execution_count": null,
   "metadata": {
    "code_folding": []
   },
   "outputs": [],
   "source": []
  },
  {
   "cell_type": "code",
   "execution_count": null,
   "metadata": {},
   "outputs": [],
   "source": []
  },
  {
   "cell_type": "code",
   "execution_count": null,
   "metadata": {},
   "outputs": [],
   "source": []
  },
  {
   "cell_type": "code",
   "execution_count": null,
   "metadata": {},
   "outputs": [],
   "source": []
  },
  {
   "cell_type": "code",
   "execution_count": null,
   "metadata": {},
   "outputs": [],
   "source": []
  },
  {
   "cell_type": "code",
   "execution_count": null,
   "metadata": {},
   "outputs": [],
   "source": []
  },
  {
   "cell_type": "code",
   "execution_count": null,
   "metadata": {},
   "outputs": [],
   "source": []
  },
  {
   "cell_type": "code",
   "execution_count": null,
   "metadata": {},
   "outputs": [],
   "source": []
  },
  {
   "cell_type": "code",
   "execution_count": null,
   "metadata": {},
   "outputs": [],
   "source": []
  },
  {
   "cell_type": "code",
   "execution_count": null,
   "metadata": {},
   "outputs": [],
   "source": []
  },
  {
   "cell_type": "code",
   "execution_count": null,
   "metadata": {},
   "outputs": [],
   "source": []
  },
  {
   "cell_type": "code",
   "execution_count": null,
   "metadata": {},
   "outputs": [],
   "source": []
  },
  {
   "cell_type": "code",
   "execution_count": null,
   "metadata": {},
   "outputs": [],
   "source": []
  },
  {
   "cell_type": "code",
   "execution_count": null,
   "metadata": {
    "code_folding": []
   },
   "outputs": [],
   "source": []
  },
  {
   "cell_type": "code",
   "execution_count": null,
   "metadata": {},
   "outputs": [],
   "source": []
  },
  {
   "cell_type": "code",
   "execution_count": null,
   "metadata": {},
   "outputs": [],
   "source": []
  }
 ],
 "metadata": {
  "kernelspec": {
   "display_name": "Python 3",
   "language": "python",
   "name": "python3"
  },
  "language_info": {
   "codemirror_mode": {
    "name": "ipython",
    "version": 3
   },
   "file_extension": ".py",
   "mimetype": "text/x-python",
   "name": "python",
   "nbconvert_exporter": "python",
   "pygments_lexer": "ipython3",
   "version": "3.7.3"
  }
 },
 "nbformat": 4,
 "nbformat_minor": 4
}
