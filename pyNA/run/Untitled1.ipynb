{
 "cells": [
  {
   "cell_type": "code",
   "execution_count": 1,
   "metadata": {},
   "outputs": [],
   "source": [
    "from pyNA.pyna import pyna"
   ]
  },
  {
   "cell_type": "code",
   "execution_count": 2,
   "metadata": {},
   "outputs": [],
   "source": [
    "settings = dict()\n",
    "settings['ac_name'] = 'stca'\n",
    "settings['case_name'] = 'stca'\n",
    "settings['engine_deck_file_name'] = 'engine_deck_stca.csv'\n",
    "settings['n_frequency_bands'] = 24\n",
    "settings['n_frequency_subbands'] = 5\n",
    "settings['fan_inlet_source'] = True\n",
    "settings['fan_discharge_source'] = True\n",
    "settings['core_source'] = True\n",
    "settings['jet_mixing_source'] = True\n",
    "settings['jet_shock_source'] = True\n",
    "settings['airframe_source'] = True\n",
    "settings['core_turbine_attenuation_method'] = 'ge'\n",
    "settings['atmosphere_mode'] = 'stratified'\n",
    "settings['thrust_lapse'] = True\n",
    "settings['F00'] = None\n",
    "\n",
    "settings['output_directory_name'] = '.'\n",
    "settings['time_history_file_name'] = 'time_history.csv'\n"
   ]
  },
  {
   "cell_type": "code",
   "execution_count": 3,
   "metadata": {},
   "outputs": [],
   "source": [
    "py = pyna(settings, trajectory_mode='model')"
   ]
  },
  {
   "cell_type": "code",
   "execution_count": null,
   "metadata": {},
   "outputs": [],
   "source": []
  },
  {
   "cell_type": "code",
   "execution_count": 7,
   "metadata": {},
   "outputs": [],
   "source": [
    "constant_LD = 5"
   ]
  },
  {
   "cell_type": "code",
   "execution_count": 8,
   "metadata": {},
   "outputs": [
    {
     "name": "stdout",
     "output_type": "stream",
     "text": [
      "lala\n"
     ]
    }
   ],
   "source": [
    "if constant_LD:\n",
    "    print('lala')"
   ]
  },
  {
   "cell_type": "code",
   "execution_count": 9,
   "metadata": {},
   "outputs": [],
   "source": [
    "lala = None"
   ]
  },
  {
   "cell_type": "code",
   "execution_count": 10,
   "metadata": {},
   "outputs": [
    {
     "data": {
      "text/plain": [
       "NoneType"
      ]
     },
     "execution_count": 10,
     "metadata": {},
     "output_type": "execute_result"
    }
   ],
   "source": [
    "type(lala)"
   ]
  },
  {
   "cell_type": "code",
   "execution_count": null,
   "metadata": {},
   "outputs": [],
   "source": []
  }
 ],
 "metadata": {
  "kernelspec": {
   "display_name": "Python 3",
   "language": "python",
   "name": "python3"
  },
  "language_info": {
   "codemirror_mode": {
    "name": "ipython",
    "version": 3
   },
   "file_extension": ".py",
   "mimetype": "text/x-python",
   "name": "python",
   "nbconvert_exporter": "python",
   "pygments_lexer": "ipython3",
   "version": "3.7.3"
  }
 },
 "nbformat": 4,
 "nbformat_minor": 4
}
