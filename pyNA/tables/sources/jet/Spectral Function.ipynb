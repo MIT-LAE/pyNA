{
 "cells": [
  {
   "cell_type": "code",
   "execution_count": 17,
   "metadata": {},
   "outputs": [
    {
     "data": {
      "text/html": [
       "<style>.container { width:100% !important; }</style>"
      ],
      "text/plain": [
       "<IPython.core.display.HTML object>"
      ]
     },
     "metadata": {},
     "output_type": "display_data"
    }
   ],
   "source": [
    "import numpy as np\n",
    "import pandas as pd\n",
    "import matplotlib.pyplot as plt\n",
    "from scipy.interpolate import RegularGridInterpolator\n",
    "import pdb\n",
    "\n",
    "from IPython.display import clear_output\n",
    "from IPython.core.display import display, HTML\n",
    "display(HTML(\"<style>.container { width:100% !important; }</style>\"))"
   ]
  },
  {
   "cell_type": "code",
   "execution_count": 18,
   "metadata": {},
   "outputs": [],
   "source": [
    "data = np.load(\"spectral_function.npy\")"
   ]
  },
  {
   "cell_type": "code",
   "execution_count": 19,
   "metadata": {},
   "outputs": [],
   "source": [
    "# Axes\n",
    "jet_F_angles = np.array([0, 90, 100, 110, 120, 130, 140, 150, 160, 170, 180])\n",
    "jet_F_temperature = np.array([1, 2, 2.5, 3, 3.5])\n",
    "jet_F_velocity = np.array([-0.4, 0.1, 0.125, 0.15, 0.175, 0.2, 0.225, 0.4])\n",
    "jet_F_strouhal = np.array([-2, -1.6, -1.3, -1.15, -1, -0.824, -0.699, -0.602, -0.5, -0.398, -0.301, -0.222, 0, 0.477, 1, 1.6, 1.7, 2.5])"
   ]
  },
  {
   "cell_type": "code",
   "execution_count": 20,
   "metadata": {},
   "outputs": [],
   "source": [
    "f_log10F = RegularGridInterpolator((jet_F_angles, jet_F_temperature, jet_F_velocity, jet_F_strouhal), data)"
   ]
  },
  {
   "cell_type": "code",
   "execution_count": 21,
   "metadata": {},
   "outputs": [
    {
     "data": {
      "text/plain": [
       "(11, 5, 8, 18)"
      ]
     },
     "execution_count": 21,
     "metadata": {},
     "output_type": "execute_result"
    }
   ],
   "source": [
    "data.shape"
   ]
  },
  {
   "cell_type": "code",
   "execution_count": 22,
   "metadata": {},
   "outputs": [],
   "source": [
    "data_new = np.zeros((data.shape[0], data.shape[1]+5, data.shape[2], data.shape[3]))"
   ]
  },
  {
   "cell_type": "code",
   "execution_count": 32,
   "metadata": {},
   "outputs": [],
   "source": [
    "jet_F_temp_new = np.array([0, 1, 2, 2.5, 3, 3.5, 4, 5, 6, 7])"
   ]
  },
  {
   "cell_type": "code",
   "execution_count": 46,
   "metadata": {},
   "outputs": [],
   "source": [
    "for i in np.arange(np.size(jet_F_angles)):\n",
    "    for j in np.arange(np.size(jet_F_temp_new)):\n",
    "        for k in np.arange(np.size(jet_F_velocity)):\n",
    "            for l in np.arange(np.size(jet_F_strouhal)):\n",
    "                \n",
    "                if jet_F_temp_new[j] in jet_F_temperature:\n",
    "                    idx = np.where(jet_F_temperature == jet_F_temp_new[j])[0][0]\n",
    "                    \n",
    "                    data_new[i,j,k,l] = data[i,idx,k,l]\n",
    "                else:\n",
    "                    \n",
    "                    theta = jet_F_angles[i]\n",
    "                    Tt_j_star = jet_F_temp_new[j]\n",
    "                    log10Vja0 = jet_F_velocity[k]\n",
    "                    log10St = jet_F_strouhal[l]\n",
    "                    \n",
    "#                     pdb.set_trace()\n",
    "                    \n",
    "                    if Tt_j_star > 3.5:\n",
    "                        mlog10F_a_lg = f_log10F((theta, 3.5, log10Vja0, log10St))\n",
    "                        mlog10F_b_lg = f_log10F((theta, 3.4, log10Vja0, log10St))\n",
    "\n",
    "                        data_new[i,j,k,l] = (mlog10F_a_lg - mlog10F_b_lg) / (0.1) * (Tt_j_star - 3.5) + mlog10F_a_lg\n",
    "\n",
    "                    elif Tt_j_star < 1:\n",
    "                        mlog10F_a_sm = f_log10F((theta, 1.1, log10Vja0, log10St))\n",
    "                        mlog10F_b_sm = f_log10F((theta, 1.0, log10Vja0, log10St))\n",
    "\n",
    "                        data_new[i,j,k,l] = (mlog10F_a_sm - mlog10F_b_sm) / (0.1) * (Tt_j_star - 1.0) + mlog10F_b_sm\n",
    "                "
   ]
  },
  {
   "cell_type": "code",
   "execution_count": 53,
   "metadata": {},
   "outputs": [
    {
     "data": {
      "text/plain": [
       "[<matplotlib.lines.Line2D at 0x1385bda20>]"
      ]
     },
     "execution_count": 53,
     "metadata": {},
     "output_type": "execute_result"
    },
    {
     "data": {
      "image/png": "[encoded data removed]",
      "text/plain": [
       "<Figure size 432x288 with 1 Axes>"
      ]
     },
     "metadata": {
      "needs_background": "light"
     },
     "output_type": "display_data"
    }
   ],
   "source": [
    "i = 9\n",
    "k = 1\n",
    "l = 16\n",
    "\n",
    "plt.plot(jet_F_temp_new, data_new[i, :, k, l], 'o-')\n",
    "plt.plot(jet_F_temperature, data[i, :, k, l])"
   ]
  },
  {
   "cell_type": "code",
   "execution_count": null,
   "metadata": {},
   "outputs": [],
   "source": []
  }
 ],
 "metadata": {
  "kernelspec": {
   "display_name": "Python 3",
   "language": "python",
   "name": "python3"
  },
  "language_info": {
   "codemirror_mode": {
    "name": "ipython",
    "version": 3
   },
   "file_extension": ".py",
   "mimetype": "text/x-python",
   "name": "python",
   "nbconvert_exporter": "python",
   "pygments_lexer": "ipython3",
   "version": "3.7.3"
  }
 },
 "nbformat": 4,
 "nbformat_minor": 4
}
