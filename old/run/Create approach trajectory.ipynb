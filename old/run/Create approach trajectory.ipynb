{
 "cells": [
  {
   "cell_type": "code",
   "execution_count": 1,
   "metadata": {},
   "outputs": [
    {
     "data": {
      "text/html": [
       "<style>.container { width:100% !important; }</style>"
      ],
      "text/plain": [
       "<IPython.core.display.HTML object>"
      ]
     },
     "metadata": {},
     "output_type": "display_data"
    }
   ],
   "source": [
    "# Imports \n",
    "import os\n",
    "import sys\n",
    "sys.path.append(\"..\")\n",
    "os.environ[\"pyna_language\"] = 'python'\n",
    "import pdb\n",
    "import numpy as np\n",
    "import openmdao.api as om\n",
    "import pandas as pd\n",
    "pd.set_option('max_columns', None)\n",
    "pd.set_option('max_rows', None)\n",
    "import matplotlib.pyplot as plt\n",
    "from mpl_toolkits.axes_grid1.inset_locator import zoomed_inset_axes, mark_inset\n",
    "%matplotlib inline\n",
    "from pyNA.pyna import pyna\n",
    "\n",
    "from scipy.interpolate import RegularGridInterpolator\n",
    "\n",
    "from IPython.display import clear_output\n",
    "from IPython.core.display import display, HTML\n",
    "display(HTML(\"<style>.container { width:100% !important; }</style>\"))"
   ]
  },
  {
   "cell_type": "code",
   "execution_count": 2,
   "metadata": {},
   "outputs": [],
   "source": [
    "# Inputs\n",
    "ac_name = 'a10'\n",
    "\n",
    "pyna_settings = pyna.load_settings(case_name =ac_name)\n",
    "pyna_settings.ac_name = ac_name\n",
    "pyna_settings.theta_flaps = 20.\n",
    "pyna_settings.theta_slats = -14\n",
    "pyna_settings.engine_file_name = 'engine_deck_'+ac_name+'.csv'\n",
    "\n",
    "# Start pyna\n",
    "py = pyna(settings=pyna_settings)\n",
    "py.ac.load_aerodynamics(py.settings)\n",
    "py.engine.load_deck(py.settings)\n",
    "\n",
    "gamma_approach = -3   # Glide slope [deg]\n",
    "k_approach = 1.3    # Approach speed ratio (Vapproach/Vstall) [-]"
   ]
  },
  {
   "cell_type": "code",
   "execution_count": 8,
   "metadata": {},
   "outputs": [],
   "source": [
    "# Compute approach path\n",
    "c_0 = 346.16136\n",
    "T_0 = 296.2191226\n",
    "p_0 = 97834.26355\n",
    "rho_0 = 1.150789769\n",
    "mu_0 = 1.83E-05\n",
    "I_0 = 3.97E+02\n",
    "\n",
    "f_clmax = RegularGridInterpolator((py.ac.aero['theta_flaps'], py.ac.aero['theta_slats']), py.ac.aero['c_l_max'][0,:,:])\n",
    "c_l_max = f_clmax((pyna_settings.theta_flaps, pyna_settings.theta_slats))\n",
    "\n",
    "v_stall = np.sqrt(2*9.80665 * py.ac.mtow / rho_0 / py.ac.af_S_w / c_l_max)\n",
    "v_approach = k_approach * v_stall\n",
    "L = 9.80665 * py.ac.mtow * np.cos(gamma_approach * np.pi / 180.)\n",
    "c_l = L / (0.5* rho_0 * v_approach ** 2 * py.ac.af_S_w)\n",
    "\n",
    "c_l_interp = RegularGridInterpolator((py.ac.aero['alpha'], py.ac.aero['theta_flaps'], py.ac.aero['theta_slats']), py.ac.aero['c_l'])        \n",
    "c_l_data = c_l_interp((py.ac.aero['alpha'], py.settings.theta_flaps, py.settings.theta_slats))\n",
    "c_d_interp = RegularGridInterpolator((py.ac.aero['alpha'], py.ac.aero['theta_flaps'], py.ac.aero['theta_slats']), py.ac.aero['c_d'])\n",
    "c_d_data = c_d_interp((py.ac.aero['alpha'], py.settings.theta_flaps, py.settings.theta_slats))     \n",
    "\n",
    "alpha = np.interp(c_l, c_l_data, py.ac.aero['alpha'])\n",
    "c_d = np.interp(alpha, py.ac.aero['alpha'], c_d_data)\n",
    "\n",
    "F_req = (c_d * 0.5 * rho_0 * v_approach**2 * py.ac.af_S_w) + py.ac.mtow*9.80065*np.sin(gamma_approach * np.pi / 180.)\n",
    "\n",
    "# Create engine deck interpolant\n",
    "F_n_interp = RegularGridInterpolator((py.engine.deck['z'], py.engine.deck['M_0'], py.engine.deck['TS']), py.engine.deck['F_n'])\n",
    "\n",
    "# Compute thrust available\n",
    "F_avail = F_n_interp((0., v_approach/c_0, 1.))\n",
    "\n",
    "# Compute thrust setting\n",
    "TS = F_req / (py.ac.n_eng * F_avail)\n",
    "\n",
    "# Compute time to fly trajectory\n",
    "x_init = - 5815.8888\n",
    "z_init = np.abs(x_init)*np.tan(-gamma_approach*np.pi/180)\n",
    "s = np.sqrt(x_init**2 + z_init**2)\n",
    "t_traj = s / v_approach"
   ]
  },
  {
   "cell_type": "code",
   "execution_count": 9,
   "metadata": {
    "code_folding": [
     0
    ]
   },
   "outputs": [],
   "source": [
    "# Create trajectory data frame \n",
    "t = pd.DataFrame()\n",
    "\n",
    "t['t_source [s]'] = np.arange(0, t_traj, 0.5)\n",
    "t['X [m]'] = x_init+v_approach*t['t_source [s]']*np.cos(gamma_approach*np.pi/180)\n",
    "t['Y [m]'] = np.zeros(np.size(t['t_source [s]']))\n",
    "t['Z [m]'] = z_init+v_approach*t['t_source [s]']*np.sin(gamma_approach*np.pi/180)\n",
    "t['V [m/s]'] = v_approach*np.ones(np.size(t['t_source [s]']))\n",
    "t['M_0 [-]'] = (v_approach/c_0)*np.ones(np.size(t['t_source [s]']))\n",
    "t['F_n [N]'] = F_avail*TS*np.ones(np.size(t['t_source [s]']))\n",
    "t['TS [-]'] = TS*np.ones(np.size(t['t_source [s]']))\n",
    "t['c_0 [m/s]'] = c_0*np.ones(np.size(t['t_source [s]']))\n",
    "t['T_0 [K]'] = T_0*np.ones(np.size(t['t_source [s]']))\n",
    "t['p_0 [Pa]'] = p_0*np.ones(np.size(t['t_source [s]']))\n",
    "t['rho_0 [kg/m3]'] = rho_0*np.ones(np.size(t['t_source [s]']))\n",
    "t['mu_0 [kg/ms]'] = mu_0*np.ones(np.size(t['t_source [s]']))\n",
    "t['I_0 [kg/m2s]'] = I_0*np.ones(np.size(t['t_source [s]']))\n",
    "t['alpha [deg]'] = alpha*np.ones(np.size(t['t_source [s]']))\n",
    "t['gamma [deg]'] = gamma_approach*np.ones(np.size(t['t_source [s]']))\n",
    "t['Airframe LG [-]'] = np.ones(np.size(t['t_source [s]']))\n",
    "t['Airframe delta_f [deg]'] = py.settings.theta_flaps * np.ones(np.size(t['t_source [s]']))\n",
    "t['Airframe delta_s [deg]'] = py.settings.theta_flaps * np.ones(np.size(t['t_source [s]']))\n"
   ]
  },
  {
   "cell_type": "code",
   "execution_count": 10,
   "metadata": {
    "code_folding": [
     0
    ]
   },
   "outputs": [],
   "source": [
    "# Create engine dataframe \n",
    "e = pd.DataFrame()\n",
    "\n",
    "e['t_source [s]'] = np.arange(0, t_traj, 0.5)\n",
    "e['Ne [-]'] = py.ac.n_eng*np.ones(np.size(t['t_source [s]']))\n",
    "e['TS [-]'] = TS*np.ones(np.size(t['t_source [s]']))\n",
    "\n",
    "f_int = RegularGridInterpolator((py.engine.deck['z'], py.engine.deck['M_0'], py.engine.deck['TS']), py.engine.deck['mdot_i_c'])\n",
    "e['Core mdot [kg/s]'] = f_int((0, v_approach/c_0, TS))\n",
    "f_int = RegularGridInterpolator((py.engine.deck['z'], py.engine.deck['M_0'], py.engine.deck['TS']), py.engine.deck['Pti_c'])\n",
    "e['Core Pt [Pa]'] = f_int((0, v_approach/c_0, TS))\n",
    "f_int = RegularGridInterpolator((py.engine.deck['z'], py.engine.deck['M_0'], py.engine.deck['TS']), py.engine.deck['Tti_c'])\n",
    "e['Core Tti [K]'] = f_int((0, v_approach/c_0, TS))\n",
    "f_int = RegularGridInterpolator((py.engine.deck['z'], py.engine.deck['M_0'], py.engine.deck['TS']), py.engine.deck['Ttj_c'])\n",
    "e['Core Ttj [K]'] = f_int((0, v_approach/c_0, TS))\n",
    "f_int = RegularGridInterpolator((py.engine.deck['z'], py.engine.deck['M_0'], py.engine.deck['TS']), py.engine.deck['DTt_des_c'])\n",
    "e['Core DT_t [K]'] = f_int((0, v_approach/c_0, TS))\n",
    "e['LPT rho_e [kg/m3]'] = np.zeros(np.size(t['t_source [s]']))\n",
    "e['LPT c_e [m/s]'] = np.zeros(np.size(t['t_source [s]']))\n",
    "e['HPT rho_i [kg/m3]'] = np.zeros(np.size(t['t_source [s]']))\n",
    "e['HPT c_i [m/s]'] = np.zeros(np.size(t['t_source [s]']))\n",
    "\n",
    "f_int = RegularGridInterpolator((py.engine.deck['z'], py.engine.deck['M_0'], py.engine.deck['TS']), py.engine.deck['A_j'])\n",
    "e['Jet A [m2]'] = f_int((0, v_approach/c_0, TS))\n",
    "f_int = RegularGridInterpolator((py.engine.deck['z'], py.engine.deck['M_0'], py.engine.deck['TS']), py.engine.deck['rho_j'])\n",
    "e['Jet rho [kg/m3]'] = f_int((0, v_approach/c_0, TS))\n",
    "f_int = RegularGridInterpolator((py.engine.deck['z'], py.engine.deck['M_0'], py.engine.deck['TS']), py.engine.deck['Tt_j'])\n",
    "e['Jet Tt [K]'] = f_int((0, v_approach/c_0, TS))\n",
    "f_int = RegularGridInterpolator((py.engine.deck['z'], py.engine.deck['M_0'], py.engine.deck['TS']), py.engine.deck['V_j'])\n",
    "e['Jet V [m/s]'] = f_int((0, v_approach/c_0, TS))\n",
    "e['Jet M [-]'] = np.ones(np.size(t['t_source [s]']))\n",
    "e['Jet delta [deg]'] = np.zeros(np.size(t['t_source [s]']))\n",
    "e['Airframe LG [-]'] = np.ones(np.size(t['t_source [s]']))\n",
    "e['Airframe delta_f [deg]'] = py.settings.theta_flaps*np.ones(np.size(t['t_source [s]']))\n",
    "\n",
    "f_int = RegularGridInterpolator((py.engine.deck['z'], py.engine.deck['M_0'], py.engine.deck['TS']), py.engine.deck['mdot_f'])\n",
    "e['Fan mdot in [kg/s]'] = f_int((0, v_approach/c_0, TS))\n",
    "f_int = RegularGridInterpolator((py.engine.deck['z'], py.engine.deck['M_0'], py.engine.deck['TS']), py.engine.deck['N_f'])\n",
    "e['Fan N [rpm]'] = 2.5*f_int((0, v_approach/c_0, TS))\n",
    "f_int = RegularGridInterpolator((py.engine.deck['z'], py.engine.deck['M_0'], py.engine.deck['TS']), py.engine.deck['DTt_f'])\n",
    "e['Fan delta T [K]'] = f_int((0, v_approach/c_0, TS))\n",
    "e['Fan B [-]'] = 25*np.ones(np.size(t['t_source [s]']))\n",
    "e['Fan V [-]'] = 48*np.ones(np.size(t['t_source [s]']))\n",
    "f_int = RegularGridInterpolator((py.engine.deck['z'], py.engine.deck['M_0'], py.engine.deck['TS']), py.engine.deck['d_f'])\n",
    "e['Fan d [m]'] = f_int((0, v_approach/c_0, TS))\n",
    "e['Fan M_d [-]'] = 1.68*np.ones(np.size(t['t_source [s]']))\n",
    "f_int = RegularGridInterpolator((py.engine.deck['z'], py.engine.deck['M_0'], py.engine.deck['TS']), py.engine.deck['A_f'])\n",
    "e['Fan A [m2]'] = f_int((0, v_approach/c_0, TS))\n",
    "e['Fan RSS [%]'] = 300.*np.ones(np.size(t['t_source [s]']))\n",
    "e['Fan IGV [-]'] = np.zeros(np.size(t['t_source [s]']))\n",
    "e['Fan ID [-]'] = np.zeros(np.size(t['t_source [s]']))"
   ]
  },
  {
   "cell_type": "code",
   "execution_count": 11,
   "metadata": {},
   "outputs": [],
   "source": [
    "# Save trajectories\n",
    "t.to_csv('../cases/'+ac_name+'/trajectory/trajectory_approach.csv', index=False)\n",
    "e.to_csv('../cases/'+ac_name+'/engine/engine_approach.csv', index=False)"
   ]
  },
  {
   "cell_type": "code",
   "execution_count": null,
   "metadata": {},
   "outputs": [],
   "source": []
  },
  {
   "cell_type": "code",
   "execution_count": null,
   "metadata": {},
   "outputs": [],
   "source": []
  }
 ],
 "metadata": {
  "kernelspec": {
   "display_name": "Python 3",
   "language": "python",
   "name": "python3"
  },
  "language_info": {
   "codemirror_mode": {
    "name": "ipython",
    "version": 3
   },
   "file_extension": ".py",
   "mimetype": "text/x-python",
   "name": "python",
   "nbconvert_exporter": "python",
   "pygments_lexer": "ipython3",
   "version": "3.7.3"
  }
 },
 "nbformat": 4,
 "nbformat_minor": 4
}
