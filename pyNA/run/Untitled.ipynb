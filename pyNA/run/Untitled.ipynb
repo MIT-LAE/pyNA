{
 "cells": [
  {
   "cell_type": "code",
   "execution_count": 1,
   "metadata": {},
   "outputs": [
    {
     "data": {
      "text/html": [
       "<style>.container { width:100% !important; }</style>"
      ],
      "text/plain": [
       "<IPython.core.display.HTML object>"
      ]
     },
     "metadata": {},
     "output_type": "display_data"
    }
   ],
   "source": [
    "# Imports \n",
    "import pdb\n",
    "import os\n",
    "os.environ['pyna_language'] = 'python'\n",
    "import pandas as pd\n",
    "import dymos as dm\n",
    "import numpy as np\n",
    "import datetime as dt\n",
    "from typing import Union\n",
    "import openmdao.api as om\n",
    "from pyNA.src.settings import Settings\n",
    "from pyNA.src.aircraft import Aircraft\n",
    "from pyNA.src.trajectory_src.atmosphere import Atmosphere\n",
    "from pyNA.src.engine import Engine\n",
    "from scipy.interpolate import RegularGridInterpolator\n",
    "from pyNA.src.trajectory_src.trajectory_ode import TrajectoryODE\n",
    "from pyNA.src.trajectory_src.mux import Mux\n",
    "from pyNA.src.trajectory_src.surrogate_noise import SurrogateNoise\n",
    "from pyNA.pyna import pyna\n",
    "import matplotlib.pyplot as plt\n",
    "%matplotlib inline\n",
    "import scipy\n",
    "from IPython.display import clear_output\n",
    "from IPython.core.display import display, HTML\n",
    "display(HTML(\"<style>.container { width:100% !important; }</style>\"))"
   ]
  },
  {
   "cell_type": "code",
   "execution_count": 2,
   "metadata": {},
   "outputs": [],
   "source": [
    "pyna_settings = pyna.load_settings(case_name='stca')\n",
    "pyna_settings.engine_file_name = \"engine_deck_stca.csv\"\n",
    "pyna_settings.TS_cutback = None\n",
    "pyna_settings.z_cutback = 25.\n",
    "pyna_settings.save_results = False\n",
    "pyna_settings.max_iter = 100\n",
    "\n",
    "py = pyna(pyna_settings)\n",
    "py.ac.load_aerodynamics(settings=py.settings)\n",
    "py.engine.load_deck(settings=py.settings)"
   ]
  },
  {
   "cell_type": "code",
   "execution_count": 3,
   "metadata": {},
   "outputs": [],
   "source": [
    "# Create aerodynamics cubic interpolants \n",
    "A  = np.zeros(np.size(py.ac.aero['alpha'])*np.size(py.ac.aero['theta_flaps'])*np.size(py.ac.aero['theta_slats']))\n",
    "TF = np.zeros(np.size(py.ac.aero['alpha'])*np.size(py.ac.aero['theta_flaps'])*np.size(py.ac.aero['theta_slats']))\n",
    "TS = np.zeros(np.size(py.ac.aero['alpha'])*np.size(py.ac.aero['theta_flaps'])*np.size(py.ac.aero['theta_slats']))\n",
    "CL = np.zeros(np.size(py.ac.aero['alpha'])*np.size(py.ac.aero['theta_flaps'])*np.size(py.ac.aero['theta_slats']))\n",
    "CD = np.zeros(np.size(py.ac.aero['alpha'])*np.size(py.ac.aero['theta_flaps'])*np.size(py.ac.aero['theta_slats']))\n",
    "\n",
    "cntr = -1\n",
    "for i, a in enumerate(py.ac.aero['alpha']):\n",
    "    for j, tf in enumerate(py.ac.aero['theta_flaps']):\n",
    "        for k, ts in enumerate(py.ac.aero['theta_slats']):\n",
    "            cntr = cntr + 1\n",
    "            A[cntr] = a\n",
    "            TF[cntr] = tf\n",
    "            TS[cntr] = ts\n",
    "            CL[cntr] = py.ac.aero['c_l'][i,j,k]\n",
    "            CD[cntr] = py.ac.aero['c_d'][i,j,k]\n",
    "\n",
    "f_alpha_c_l = scipy.interpolate.Rbf(CL, TF, TS, A, function='cubic')\n",
    "f_c_d = scipy.interpolate.Rbf(A, TF, TS, CD, function='cubic')\n",
    "\n",
    "F_n_interp = RegularGridInterpolator((py.engine.deck['z'], py.engine.deck['M_0'], py.engine.deck['TS']), py.engine.deck['F_n'])"
   ]
  },
  {
   "cell_type": "code",
   "execution_count": 4,
   "metadata": {},
   "outputs": [],
   "source": [
    "# Compute minimum thrust requirement\n",
    "def compute_minimum_TS(settings, ac, F_n_interp, f_alpha_c_l, f_c_d, z, v, theta_flaps):\n",
    "    \n",
    "    # Initialize limiting cases\n",
    "    case_lst = ['OEI', '4%CG']\n",
    "    gamma_lst = np.array([0.0, np.arctan(0.04)*180/np.pi])\n",
    "    nr_engine_lst = np.array([ac.n_eng - 1, ac.n_eng])\n",
    "\n",
    "    sol = dict()\n",
    "    sol['alpha'] = np.zeros(2)\n",
    "    sol['c_l'] = np.zeros(2)\n",
    "    sol['c_d'] = np.zeros(2) \n",
    "    sol['F_avail'] = np.zeros(2)\n",
    "    sol['F_req'] = np.zeros(2)\n",
    "    sol['TS'] = np.zeros(2)\n",
    "    \n",
    "    for i, case in enumerate(case_lst):\n",
    "        # Compute atmospheric properties at ac.z_max\n",
    "        prob_atm = om.Problem()\n",
    "        prob_atm.model.add_subsystem(\"atm\", Atmosphere(num_nodes=1, settings=settings))\n",
    "        prob_atm.setup(force_alloc_complex=True)\n",
    "        prob_atm.set_val('atm.z', z)\n",
    "        prob_atm.run_model()\n",
    "        rho_0 = prob_atm.get_val('atm.rho_0')\n",
    "        c_0 = prob_atm.get_val('atm.c_0')\n",
    "        \n",
    "        # Lift requirement for steady flight\n",
    "        L = 9.80665 * ac.mtow * np.cos(gamma_lst[i] * np.pi / 180.)\n",
    "        sol['c_l'][i] = L / (0.5* rho_0 * v ** 2 * ac.af_S_w)\n",
    "\n",
    "        # Compute required angle of attack to meet lift coefficient\n",
    "        sol['alpha'][i] = f_alpha_c_l(sol['c_l'][i], theta_flaps, settings.theta_slats)\n",
    "        \n",
    "        # Compute corresponding drag coefficient\n",
    "        sol['c_d'][i] = f_c_d(sol['alpha'][i], theta_flaps, settings.theta_slats)\n",
    "        \n",
    "        # Compute aircraft total thrust requirement\n",
    "        T = (sol['c_d'][i] * 0.5 * rho_0 * v ** 2 * ac.af_S_w) + ac.mtow * 9.80065 * np.sin(gamma_lst[i] * np.pi / 180.)\n",
    "\n",
    "        # Compute thrust requirement per engine\n",
    "        sol['F_req'][i] = T / nr_engine_lst[i]\n",
    "        \n",
    "        # Compute thrust available\n",
    "        sol['F_avail'][i] = (3/py.ac.n_eng)*F_n_interp((z, v / c_0, 1.))[0]\n",
    "\n",
    "        # Compute minimum thrust setting\n",
    "        sol['TS'][i] = sol['F_req'][i] / sol['F_avail'][i]\n",
    "                \n",
    "    # Return the maximum thrust requirement\n",
    "    return np.min((np.max(sol['TS']), 0.999))"
   ]
  },
  {
   "cell_type": "code",
   "execution_count": 5,
   "metadata": {},
   "outputs": [
    {
     "name": "stdout",
     "output_type": "stream",
     "text": [
      "0\n",
      "1\n",
      "2\n",
      "3\n",
      "4\n",
      "5\n",
      "6\n",
      "7\n",
      "8\n",
      "9\n",
      "10\n",
      "11\n",
      "12\n",
      "13\n",
      "14\n",
      "15\n",
      "16\n"
     ]
    }
   ],
   "source": [
    "z_lst = np.linspace(0, 1500, 17)\n",
    "v_lst = np.linspace(80, 130, 21)\n",
    "theta_flaps_lst = np.linspace(0, 26, 14)\n",
    "\n",
    "TS = np.zeros((17, 21, 14))\n",
    "\n",
    "for i, z in enumerate(z_lst):\n",
    "    print(i)\n",
    "    for j, v in enumerate(v_lst):\n",
    "        for k, th_flaps in enumerate(theta_flaps_lst):\n",
    "            \n",
    "            TS[i,j,k] = compute_minimum_TS(py.settings, py.ac, F_n_interp, f_alpha_c_l, f_c_d, z, v, th_flaps)"
   ]
  },
  {
   "cell_type": "code",
   "execution_count": 12,
   "metadata": {},
   "outputs": [
    {
     "data": {
      "text/plain": [
       "[<matplotlib.lines.Line2D at 0x139a9e668>]"
      ]
     },
     "execution_count": 12,
     "metadata": {},
     "output_type": "execute_result"
    },
    {
     "data": {
      "image/png": "[encoded data removed]",
      "text/plain": [
       "<Figure size 432x288 with 1 Axes>"
      ]
     },
     "metadata": {
      "needs_background": "light"
     },
     "output_type": "display_data"
    }
   ],
   "source": [
    "plt.plot(v_lst/0.514444, TS[0,:,5])\n"
   ]
  },
  {
   "cell_type": "code",
   "execution_count": null,
   "metadata": {},
   "outputs": [],
   "source": []
  },
  {
   "cell_type": "code",
   "execution_count": null,
   "metadata": {},
   "outputs": [],
   "source": []
  },
  {
   "cell_type": "code",
   "execution_count": null,
   "metadata": {},
   "outputs": [],
   "source": []
  },
  {
   "cell_type": "code",
   "execution_count": null,
   "metadata": {},
   "outputs": [],
   "source": []
  },
  {
   "cell_type": "code",
   "execution_count": 82,
   "metadata": {},
   "outputs": [],
   "source": [
    "class settings:\n",
    "    dT = 10.\n",
    "\n",
    "z = np.linspace(0, 1000., 101)\n",
    "T_0 = 288.15+settings.dT - 0.0065*z\n",
    "c_0 = np.sqrt(1.4*287*T_0)"
   ]
  },
  {
   "cell_type": "code",
   "execution_count": 83,
   "metadata": {},
   "outputs": [],
   "source": [
    "# Compute average speed of sound between source and observer\n",
    "n_intermediate = 11\n",
    "dz = z / n_intermediate\n",
    "c_bar = c_0\n",
    "for k in np.arange(1, n_intermediate):\n",
    "    T_im = T_0 - k * dz * (-0.0065)\n",
    "    c_im = np.sqrt(1.4 * 287. * T_im)\n",
    "    c_bar = (k) / (k + 1) * c_bar + c_im / (k + 1)"
   ]
  },
  {
   "cell_type": "code",
   "execution_count": 84,
   "metadata": {},
   "outputs": [
    {
     "data": {
      "text/plain": [
       "[<matplotlib.lines.Line2D at 0x130a356a0>]"
      ]
     },
     "execution_count": 84,
     "metadata": {},
     "output_type": "execute_result"
    },
    {
     "data": {
      "image/png": "[encoded data removed]",
      "text/plain": [
       "<Figure size 432x288 with 1 Axes>"
      ]
     },
     "metadata": {
      "needs_background": "light"
     },
     "output_type": "display_data"
    }
   ],
   "source": [
    "plt.plot(c_0, z)\n",
    "plt.plot(c_bar, z)"
   ]
  },
  {
   "cell_type": "code",
   "execution_count": 23,
   "metadata": {},
   "outputs": [
    {
     "data": {
      "text/plain": [
       "0.0"
      ]
     },
     "execution_count": 23,
     "metadata": {},
     "output_type": "execute_result"
    }
   ],
   "source": [
    "dz"
   ]
  },
  {
   "cell_type": "code",
   "execution_count": null,
   "metadata": {},
   "outputs": [],
   "source": []
  }
 ],
 "metadata": {
  "kernelspec": {
   "display_name": "Python 3",
   "language": "python",
   "name": "python3"
  },
  "language_info": {
   "codemirror_mode": {
    "name": "ipython",
    "version": 3
   },
   "file_extension": ".py",
   "mimetype": "text/x-python",
   "name": "python",
   "nbconvert_exporter": "python",
   "pygments_lexer": "ipython3",
   "version": "3.7.3"
  }
 },
 "nbformat": 4,
 "nbformat_minor": 4
}
