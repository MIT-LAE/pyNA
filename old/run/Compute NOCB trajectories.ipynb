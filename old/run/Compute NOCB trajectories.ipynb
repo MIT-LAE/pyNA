{
 "cells": [
  {
   "cell_type": "code",
   "execution_count": 1,
   "metadata": {
    "code_folding": [],
    "scrolled": true
   },
   "outputs": [
    {
     "data": {
      "text/html": [
       "<style>.container { width:100% !important; }</style>"
      ],
      "text/plain": [
       "<IPython.core.display.HTML object>"
      ]
     },
     "metadata": {},
     "output_type": "display_data"
    }
   ],
   "source": [
    "# Imports \n",
    "import os\n",
    "import sys\n",
    "sys.path.append(\"..\")\n",
    "os.environ[\"pyna_language\"] = 'julia'\n",
    "import pdb\n",
    "import numpy as np\n",
    "import openmdao.api as om\n",
    "import pandas as pd\n",
    "pd.set_option('max_columns', None)\n",
    "pd.set_option('max_rows', None)\n",
    "import matplotlib.pyplot as plt\n",
    "from mpl_toolkits.axes_grid1.inset_locator import zoomed_inset_axes, mark_inset\n",
    "%matplotlib inline\n",
    "from pyNA.pyna import pyna\n",
    "\n",
    "from IPython.display import clear_output\n",
    "from IPython.core.display import display, HTML\n",
    "display(HTML(\"<style>.container { width:100% !important; }</style>\"))"
   ]
  },
  {
   "cell_type": "code",
   "execution_count": 2,
   "metadata": {
    "code_folding": [
     0
    ]
   },
   "outputs": [],
   "source": [
    "# Inputs \n",
    "z_cb_lst = np.hstack((np.linspace(25, 250, 10), np.linspace(300, 750, 10)))\n",
    "\n",
    "TS_cb_lst = dict()\n",
    "TS_cb_lst['stca']= dict()\n",
    "TS_cb_lst['stca']['V2'] = np.linspace(0.75, 1.0, 11)\n",
    "TS_cb_lst['stca']['Vmax'] = np.linspace(0.4, 1.0, 25)\n",
    "TS_cb_lst['a10'] = dict()\n",
    "TS_cb_lst['a10']['V2'] = np.linspace(0.775, 1.0, 10)\n",
    "TS_cb_lst['a10']['Vmax'] = np.linspace(0.675, 1.0, 14)\n",
    "\n",
    "Vmax_lst = dict()\n",
    "Vmax_lst['stca'] = dict()\n",
    "Vmax_lst['stca']['V2'] = 197*0.51444444\n",
    "Vmax_lst['stca']['Vmax'] = 250*0.51444444\n",
    "Vmax_lst['a10'] = dict()\n",
    "Vmax_lst['a10']['V2'] = 234.4*0.51444444\n",
    "Vmax_lst['a10']['Vmax'] = 250*0.51444444"
   ]
  },
  {
   "cell_type": "markdown",
   "metadata": {},
   "source": [
    "### Compute trajectories"
   ]
  },
  {
   "cell_type": "code",
   "execution_count": 3,
   "metadata": {
    "code_folding": [
     1
    ],
    "scrolled": true
   },
   "outputs": [],
   "source": [
    "# Compute trajectories for (z-TS) sweep \n",
    "if False:\n",
    "        \n",
    "    for ac_name in ['stca', 'a10']:\n",
    "\n",
    "        for case in ['V2', 'Vmax']:\n",
    "            \n",
    "            py = pyna()\n",
    "            \n",
    "            py.case_name = ac_name\n",
    "            py.ac_name = ac_name\n",
    "            py.engine_deck_name = 'engine_deck_' + ac_name + '.csv'\n",
    "            py.save_results = True\n",
    "            py.output_directory_name = 'NOCB/' + case\n",
    "            py.tolerance = 1e-6\n",
    "            py.max_iter = 300\n",
    "            py.TS_to = 1.0\n",
    "            py.TS_vnrs = 1.0\n",
    "            py.pkrot = True\n",
    "\n",
    "            py.theta_flaps = 10.\n",
    "            py.theta_slats = -6.\n",
    "            \n",
    "            TS = 1\n",
    "            z_cb = 300.\n",
    "            \n",
    "            print(\"TS: \", TS)\n",
    "            print(\"z_cb:\", z_cb)\n",
    "\n",
    "            py.TS_cb = TS\n",
    "            py.z_cb = z_cb\n",
    "            py.output_file_name = py.ac_name + '.sql'\n",
    "\n",
    "            # Compute trajectory\n",
    "            py.v_max = Vmax_lst[ac_name][case]\n",
    "\n",
    "            converged = py.compute_trajectory(trajectory_mode='cutback', objective='t_end')\n",
    "\n",
    "            # Save timeseries\n",
    "            path_save_name = 'trajectory.csv'\n",
    "            engine_save_name = 'engine.csv'\n",
    "            py.save_time_series(py.path, py.airframe, path_save_name, engine_save_name)\n",
    "\n",
    "            clear_output()"
   ]
  },
  {
   "cell_type": "markdown",
   "metadata": {},
   "source": [
    "### Extract properties of the trajectories"
   ]
  },
  {
   "cell_type": "code",
   "execution_count": 4,
   "metadata": {
    "code_folding": [
     1
    ],
    "scrolled": true
   },
   "outputs": [],
   "source": [
    "# Compute noise time series\n",
    "if False:\n",
    "    \n",
    "    k_rot_lst = dict()\n",
    "    LD_climbout = dict()\n",
    "    \n",
    "    for ac_name in ['a10']:\n",
    "\n",
    "        k_rot_lst[ac_name] = dict()\n",
    "        LD_climbout[ac_name] = dict()\n",
    "        \n",
    "        for case in ['Vmax']:\n",
    "            \n",
    "            k_rot_lst[ac_name][case] = np.zeros((np.size(z_cb_lst), np.size(TS_cb_lst[ac_name][case])))\n",
    "            LD_climbout[ac_name][case] = np.zeros((np.size(z_cb_lst), np.size(TS_cb_lst[ac_name][case])))\n",
    "            \n",
    "            py = pyna()\n",
    "            \n",
    "            py.output_directory_name = 'STCB/' + case\n",
    "            py.case_name = ac_name\n",
    "            py.ac_name = ac_name\n",
    "            py.engine_deck_name = 'engine_deck_' + ac_name + '.csv'\n",
    "            py.save_results = True\n",
    "            py.output_directory_name = 'STCB/' + case\n",
    "            \n",
    "            for j,TS in enumerate(TS_cb_lst[ac_name][case]):\n",
    "                for i, z_cb in enumerate(z_cb_lst):\n",
    "\n",
    "                    py.output_file_name = py.ac_name + '_' + str(np.round(z_cb, 3)) + '_' + str(np.round(TS, 3)) + '.sql'\n",
    "                    \n",
    "                    print(ac_name, \" \", case, \" - TS: \", TS, \"; z_cb: \", z_cb)\n",
    "\n",
    "                    results = py.load_results(py.output_file_name)\n",
    "                    \n",
    "                    k_rot_lst[ac_name][case][i,j] = results.get_val('phases.groundroll.parameters:k_rot')\n",
    "                    LD_climbout[ac_name][case][i,j] = np.max(results.get_val('phases.cutback.interpolated.c_l')/results.get_val('phases.cutback.interpolated.c_d'))\n",
    "\n",
    "            np.save('../cases/'+ac_name+'/output/STCB/'+case+'/sweeps/k_rot.npy', k_rot_lst[ac_name][case])\n",
    "            np.save('../cases/'+ac_name+'/output/STCB/'+case+'/sweeps/LD_climbout.npy', LD_climbout[ac_name][case])\n",
    "\n",
    "            clear_output()"
   ]
  },
  {
   "cell_type": "markdown",
   "metadata": {},
   "source": [
    "### Compute certification noise levels"
   ]
  },
  {
   "cell_type": "code",
   "execution_count": 5,
   "metadata": {
    "code_folding": [],
    "scrolled": true
   },
   "outputs": [
    {
     "name": "stderr",
     "output_type": "stream",
     "text": [
      "/Users/laurensvoet/Library/Python/3.7/lib/python/site-packages/openmdao/recorders/sqlite_recorder.py:224: UserWarning:The existing case recorder file, /Users/laurensvoet/Documents/Research/pyNA/pyNA/cases/stca/dymos_solution.db, is being overwritten.\n"
     ]
    },
    {
     "name": "stdout",
     "output_type": "stream",
     "text": [
      "Model viewer data has already has already been recorded for Driver.\n"
     ]
    },
    {
     "ename": "RuntimeError",
     "evalue": "'noise' <class JuliaExplicitComp>: Error calling compute(), <PyCall.jlwrap (in a Julia function called from Python)\nJULIA: UndefVarError: kkk not defined\nStacktrace:\n [1] (::var\"#noise_model#17\")(::PynaInterpolations, ::Dict{Any,Any}, ::PyObject, ::PyObject, ::Dict{Any,Any}, ::String, ::Array{Float64,1}) at /Users/laurensvoet/Documents/Research/pyNA/pyNA/src/noise_src_jl/noise_model.jl:263\n [2] compute!(::NoiseModel{PynaInterpolations,Dict{Any,Any},PyObject,PyObject,Int64,Dict{Any,Any},String,var\"#noise_model#17\",var\"#16#18\"{Dict{Any,Any},PyObject,PyObject,Dict{Any,Any},String,var\"#noise_model#17\",PynaInterpolations}}, ::PyDict{String,PyArray,true}, ::PyDict{String,PyArray,true}) at /Users/laurensvoet/Documents/Research/pyNA/pyNA/src/noise_src_jl/noise_model.jl:0\n [3] compute!(::BigInt, ::PyDict{String,PyArray,true}, ::PyDict{String,PyArray,true}) at /Users/laurensvoet/Documents/Research/OpenMDAO.jl/src/OpenMDAO.jl:84\n [4] (::PyCall.FuncWrapper{Tuple{Integer,PyDict{String,PyArray,isdict} where isdict,PyDict{String,PyArray,isdict} where isdict},typeof(compute!)})(::BigInt, ::Vararg{Any,N} where N; kws::Base.Iterators.Pairs{Union{},Union{},Tuple{},NamedTuple{(),Tuple{}}}) at /Users/laurensvoet/.julia/packages/PyCall/3fwVL/src/callback.jl:56\n [5] (::PyCall.FuncWrapper{Tuple{Integer,PyDict{String,PyArray,isdict} where isdict,PyDict{String,PyArray,isdict} where isdict},typeof(compute!)})(::BigInt, ::Vararg{Any,N} where N) at /Users/laurensvoet/.julia/packages/PyCall/3fwVL/src/callback.jl:56\n [6] invokelatest(::Any, ::Any, ::Vararg{Any,N} where N; kwargs::Base.Iterators.Pairs{Union{},Union{},Tuple{},NamedTuple{(),Tuple{}}}) at ./essentials.jl:710\n [7] invokelatest(::Any, ::Any, ::Vararg{Any,N} where N) at ./essentials.jl:709\n [8] _pyjlwrap_call(::PyCall.FuncWrapper{Tuple{Integer,PyDict{String,PyArray,isdict} where isdict,PyDict{String,PyArray,isdict} where isdict},typeof(compute!)}, ::Ptr{PyCall.PyObject_struct}, ::Ptr{PyCall.PyObject_struct}) at /Users/laurensvoet/.julia/packages/PyCall/3fwVL/src/callback.jl:28\n [9] pyjlwrap_call(::Ptr{PyCall.PyObject_struct}, ::Ptr{PyCall.PyObject_struct}, ::Ptr{PyCall.PyObject_struct}) at /Users/laurensvoet/.julia/packages/PyCall/3fwVL/src/callback.jl:44>",
     "output_type": "error",
     "traceback": [
      "\u001b[0;31m---------------------------------------------------------------------------\u001b[0m",
      "\u001b[0;31mRuntimeError\u001b[0m                              Traceback (most recent call last)",
      "\u001b[0;32m~/Library/Python/3.7/lib/python/site-packages/openmdao/core/system.py\u001b[0m in \u001b[0;36m_call_user_function\u001b[0;34m(self, fname, protect_inputs, protect_outputs, protect_residuals)\u001b[0m\n\u001b[1;32m   2198\u001b[0m         \u001b[0;32mtry\u001b[0m\u001b[0;34m:\u001b[0m\u001b[0;34m\u001b[0m\u001b[0;34m\u001b[0m\u001b[0m\n\u001b[0;32m-> 2199\u001b[0;31m             \u001b[0;32myield\u001b[0m\u001b[0;34m\u001b[0m\u001b[0;34m\u001b[0m\u001b[0m\n\u001b[0m\u001b[1;32m   2200\u001b[0m         \u001b[0;32mexcept\u001b[0m \u001b[0mException\u001b[0m\u001b[0;34m:\u001b[0m\u001b[0;34m\u001b[0m\u001b[0;34m\u001b[0m\u001b[0m\n",
      "\u001b[0;32m~/Library/Python/3.7/lib/python/site-packages/openmdao/core/explicitcomponent.py\u001b[0m in \u001b[0;36m_compute_wrapper\u001b[0;34m(self)\u001b[0m\n\u001b[1;32m    257\u001b[0m             \u001b[0;32melse\u001b[0m\u001b[0;34m:\u001b[0m\u001b[0;34m\u001b[0m\u001b[0;34m\u001b[0m\u001b[0m\n\u001b[0;32m--> 258\u001b[0;31m                 \u001b[0mself\u001b[0m\u001b[0;34m.\u001b[0m\u001b[0mcompute\u001b[0m\u001b[0;34m(\u001b[0m\u001b[0;34m*\u001b[0m\u001b[0margs\u001b[0m\u001b[0;34m)\u001b[0m\u001b[0;34m\u001b[0m\u001b[0;34m\u001b[0m\u001b[0m\n\u001b[0m\u001b[1;32m    259\u001b[0m \u001b[0;34m\u001b[0m\u001b[0m\n",
      "\u001b[0;32m~/Documents/Research/OpenMDAO.jl/src/julia_comps.py\u001b[0m in \u001b[0;36mcompute\u001b[0;34m(self, inputs, outputs)\u001b[0m\n\u001b[1;32m     54\u001b[0m \u001b[0;34m\u001b[0m\u001b[0m\n\u001b[0;32m---> 55\u001b[0;31m         \u001b[0mself\u001b[0m\u001b[0;34m.\u001b[0m\u001b[0m_julia_compute\u001b[0m\u001b[0;34m(\u001b[0m\u001b[0mself\u001b[0m\u001b[0;34m.\u001b[0m\u001b[0m_jl_id\u001b[0m\u001b[0;34m,\u001b[0m \u001b[0minputs_dict\u001b[0m\u001b[0;34m,\u001b[0m \u001b[0moutputs_dict\u001b[0m\u001b[0;34m)\u001b[0m\u001b[0;34m\u001b[0m\u001b[0;34m\u001b[0m\u001b[0m\n\u001b[0m\u001b[1;32m     56\u001b[0m \u001b[0;34m\u001b[0m\u001b[0m\n",
      "\u001b[0;31mRuntimeError\u001b[0m: <PyCall.jlwrap (in a Julia function called from Python)\nJULIA: UndefVarError: kkk not defined\nStacktrace:\n [1] (::var\"#noise_model#17\")(::PynaInterpolations, ::Dict{Any,Any}, ::PyObject, ::PyObject, ::Dict{Any,Any}, ::String, ::Array{Float64,1}) at /Users/laurensvoet/Documents/Research/pyNA/pyNA/src/noise_src_jl/noise_model.jl:263\n [2] compute!(::NoiseModel{PynaInterpolations,Dict{Any,Any},PyObject,PyObject,Int64,Dict{Any,Any},String,var\"#noise_model#17\",var\"#16#18\"{Dict{Any,Any},PyObject,PyObject,Dict{Any,Any},String,var\"#noise_model#17\",PynaInterpolations}}, ::PyDict{String,PyArray,true}, ::PyDict{String,PyArray,true}) at /Users/laurensvoet/Documents/Research/pyNA/pyNA/src/noise_src_jl/noise_model.jl:0\n [3] compute!(::BigInt, ::PyDict{String,PyArray,true}, ::PyDict{String,PyArray,true}) at /Users/laurensvoet/Documents/Research/OpenMDAO.jl/src/OpenMDAO.jl:84\n [4] (::PyCall.FuncWrapper{Tuple{Integer,PyDict{String,PyArray,isdict} where isdict,PyDict{String,PyArray,isdict} where isdict},typeof(compute!)})(::BigInt, ::Vararg{Any,N} where N; kws::Base.Iterators.Pairs{Union{},Union{},Tuple{},NamedTuple{(),Tuple{}}}) at /Users/laurensvoet/.julia/packages/PyCall/3fwVL/src/callback.jl:56\n [5] (::PyCall.FuncWrapper{Tuple{Integer,PyDict{String,PyArray,isdict} where isdict,PyDict{String,PyArray,isdict} where isdict},typeof(compute!)})(::BigInt, ::Vararg{Any,N} where N) at /Users/laurensvoet/.julia/packages/PyCall/3fwVL/src/callback.jl:56\n [6] invokelatest(::Any, ::Any, ::Vararg{Any,N} where N; kwargs::Base.Iterators.Pairs{Union{},Union{},Tuple{},NamedTuple{(),Tuple{}}}) at ./essentials.jl:710\n [7] invokelatest(::Any, ::Any, ::Vararg{Any,N} where N) at ./essentials.jl:709\n [8] _pyjlwrap_call(::PyCall.FuncWrapper{Tuple{Integer,PyDict{String,PyArray,isdict} where isdict,PyDict{String,PyArray,isdict} where isdict},typeof(compute!)}, ::Ptr{PyCall.PyObject_struct}, ::Ptr{PyCall.PyObject_struct}) at /Users/laurensvoet/.julia/packages/PyCall/3fwVL/src/callback.jl:28\n [9] pyjlwrap_call(::Ptr{PyCall.PyObject_struct}, ::Ptr{PyCall.PyObject_struct}, ::Ptr{PyCall.PyObject_struct}) at /Users/laurensvoet/.julia/packages/PyCall/3fwVL/src/callback.jl:44>",
      "\nDuring handling of the above exception, another exception occurred:\n",
      "\u001b[0;31mRuntimeError\u001b[0m                              Traceback (most recent call last)",
      "\u001b[0;32m<ipython-input-5-e145947deee4>\u001b[0m in \u001b[0;36m<module>\u001b[0;34m\u001b[0m\n\u001b[1;32m     27\u001b[0m             \u001b[0mpy\u001b[0m\u001b[0;34m.\u001b[0m\u001b[0mx_observer_array\u001b[0m \u001b[0;34m=\u001b[0m \u001b[0mx_observer_lst\u001b[0m\u001b[0;34m\u001b[0m\u001b[0;34m\u001b[0m\u001b[0m\n\u001b[1;32m     28\u001b[0m \u001b[0;34m\u001b[0m\u001b[0m\n\u001b[0;32m---> 29\u001b[0;31m             \u001b[0mpy\u001b[0m\u001b[0;34m.\u001b[0m\u001b[0mcompute_noise_timeseries\u001b[0m\u001b[0;34m(\u001b[0m\u001b[0;34m)\u001b[0m\u001b[0;34m\u001b[0m\u001b[0;34m\u001b[0m\u001b[0m\n\u001b[0m\u001b[1;32m     30\u001b[0m \u001b[0;34m\u001b[0m\u001b[0m\n\u001b[1;32m     31\u001b[0m             \u001b[0mnp\u001b[0m\u001b[0;34m.\u001b[0m\u001b[0msave\u001b[0m\u001b[0;34m(\u001b[0m\u001b[0;34m'../cases/'\u001b[0m\u001b[0;34m+\u001b[0m\u001b[0mac_name\u001b[0m\u001b[0;34m+\u001b[0m\u001b[0;34m'/output/NOCB/'\u001b[0m\u001b[0;34m+\u001b[0m\u001b[0mcase\u001b[0m\u001b[0;34m+\u001b[0m\u001b[0;34m'/epnl.npy'\u001b[0m\u001b[0;34m,\u001b[0m \u001b[0mpy\u001b[0m\u001b[0;34m.\u001b[0m\u001b[0mnoise_timeseries\u001b[0m\u001b[0;34m.\u001b[0m\u001b[0mget_val\u001b[0m\u001b[0;34m(\u001b[0m\u001b[0;34m'noise.epnl'\u001b[0m\u001b[0;34m)\u001b[0m\u001b[0;34m)\u001b[0m\u001b[0;34m\u001b[0m\u001b[0;34m\u001b[0m\u001b[0m\n",
      "\u001b[0;32m~/Documents/Research/pyNA/pyNA/pyna.py\u001b[0m in \u001b[0;36mcompute_noise_timeseries\u001b[0;34m(self)\u001b[0m\n\u001b[1;32m    330\u001b[0m         \u001b[0mself\u001b[0m\u001b[0;34m.\u001b[0m\u001b[0mnoise_timeseries\u001b[0m \u001b[0;34m=\u001b[0m \u001b[0mNoiseTimeSeries\u001b[0m\u001b[0;34m(\u001b[0m\u001b[0mpyna_directory\u001b[0m\u001b[0;34m=\u001b[0m\u001b[0mself\u001b[0m\u001b[0;34m.\u001b[0m\u001b[0mpyna_directory\u001b[0m\u001b[0;34m,\u001b[0m \u001b[0mcase_name\u001b[0m\u001b[0;34m=\u001b[0m\u001b[0mself\u001b[0m\u001b[0;34m.\u001b[0m\u001b[0mcase_name\u001b[0m\u001b[0;34m,\u001b[0m \u001b[0mlanguage\u001b[0m\u001b[0;34m=\u001b[0m\u001b[0mself\u001b[0m\u001b[0;34m.\u001b[0m\u001b[0mlanguage\u001b[0m\u001b[0;34m,\u001b[0m \u001b[0msave_results\u001b[0m\u001b[0;34m=\u001b[0m\u001b[0mself\u001b[0m\u001b[0;34m.\u001b[0m\u001b[0msave_results\u001b[0m\u001b[0;34m,\u001b[0m \u001b[0msettings\u001b[0m\u001b[0;34m=\u001b[0m\u001b[0mself\u001b[0m\u001b[0;34m.\u001b[0m\u001b[0mnoise_settings\u001b[0m\u001b[0;34m,\u001b[0m \u001b[0mdata\u001b[0m\u001b[0;34m=\u001b[0m\u001b[0mself\u001b[0m\u001b[0;34m.\u001b[0m\u001b[0mnoise_data\u001b[0m\u001b[0;34m,\u001b[0m \u001b[0mcoloring_dir\u001b[0m\u001b[0;34m=\u001b[0m\u001b[0mself\u001b[0m\u001b[0;34m.\u001b[0m\u001b[0mpyna_directory\u001b[0m \u001b[0;34m+\u001b[0m \u001b[0;34m'/cases/'\u001b[0m \u001b[0;34m+\u001b[0m \u001b[0mself\u001b[0m\u001b[0;34m.\u001b[0m\u001b[0mcase_name\u001b[0m \u001b[0;34m+\u001b[0m \u001b[0;34m'/coloring_files/'\u001b[0m\u001b[0;34m)\u001b[0m\u001b[0;34m\u001b[0m\u001b[0;34m\u001b[0m\u001b[0m\n\u001b[1;32m    331\u001b[0m         \u001b[0mself\u001b[0m\u001b[0;34m.\u001b[0m\u001b[0mnoise_timeseries\u001b[0m\u001b[0;34m.\u001b[0m\u001b[0mcreate\u001b[0m\u001b[0;34m(\u001b[0m\u001b[0mairframe\u001b[0m\u001b[0;34m=\u001b[0m\u001b[0mself\u001b[0m\u001b[0;34m.\u001b[0m\u001b[0mairframe\u001b[0m\u001b[0;34m,\u001b[0m \u001b[0mn_t\u001b[0m\u001b[0;34m=\u001b[0m\u001b[0mself\u001b[0m\u001b[0;34m.\u001b[0m\u001b[0mn_t\u001b[0m\u001b[0;34m,\u001b[0m \u001b[0mmode\u001b[0m\u001b[0;34m=\u001b[0m\u001b[0;34m'trajectory'\u001b[0m\u001b[0;34m,\u001b[0m \u001b[0mobjective\u001b[0m\u001b[0;34m=\u001b[0m\u001b[0;34m'timeseries'\u001b[0m\u001b[0;34m)\u001b[0m\u001b[0;34m\u001b[0m\u001b[0;34m\u001b[0m\u001b[0m\n\u001b[0;32m--> 332\u001b[0;31m         \u001b[0mself\u001b[0m\u001b[0;34m.\u001b[0m\u001b[0mnoise_timeseries\u001b[0m\u001b[0;34m.\u001b[0m\u001b[0msolve\u001b[0m\u001b[0;34m(\u001b[0m\u001b[0mpath\u001b[0m\u001b[0;34m=\u001b[0m\u001b[0mself\u001b[0m\u001b[0;34m.\u001b[0m\u001b[0mpath\u001b[0m\u001b[0;34m,\u001b[0m \u001b[0mengine\u001b[0m\u001b[0;34m=\u001b[0m\u001b[0mself\u001b[0m\u001b[0;34m.\u001b[0m\u001b[0mengine\u001b[0m\u001b[0;34m.\u001b[0m\u001b[0mtimeseries\u001b[0m\u001b[0;34m,\u001b[0m \u001b[0mmode\u001b[0m\u001b[0;34m=\u001b[0m\u001b[0;34m'trajectory'\u001b[0m\u001b[0;34m)\u001b[0m\u001b[0;34m\u001b[0m\u001b[0;34m\u001b[0m\u001b[0m\n\u001b[0m\u001b[1;32m    333\u001b[0m \u001b[0;34m\u001b[0m\u001b[0m\n\u001b[1;32m    334\u001b[0m         \u001b[0;32mreturn\u001b[0m \u001b[0;32mNone\u001b[0m\u001b[0;34m\u001b[0m\u001b[0;34m\u001b[0m\u001b[0m\n",
      "\u001b[0;32m~/Documents/Research/pyNA/pyNA/src/noise_timeseries.py\u001b[0m in \u001b[0;36msolve\u001b[0;34m(self, path, engine, mode)\u001b[0m\n\u001b[1;32m    228\u001b[0m \u001b[0;34m\u001b[0m\u001b[0m\n\u001b[1;32m    229\u001b[0m         \u001b[0;31m# Run noise module\u001b[0m\u001b[0;34m\u001b[0m\u001b[0;34m\u001b[0m\u001b[0;34m\u001b[0m\u001b[0m\n\u001b[0;32m--> 230\u001b[0;31m         \u001b[0mdm\u001b[0m\u001b[0;34m.\u001b[0m\u001b[0mrun_problem\u001b[0m\u001b[0;34m(\u001b[0m\u001b[0mself\u001b[0m\u001b[0;34m,\u001b[0m \u001b[0mrun_driver\u001b[0m\u001b[0;34m=\u001b[0m\u001b[0;32mFalse\u001b[0m\u001b[0;34m,\u001b[0m \u001b[0msimulate\u001b[0m\u001b[0;34m=\u001b[0m\u001b[0;32mFalse\u001b[0m\u001b[0;34m,\u001b[0m \u001b[0msolution_record_file\u001b[0m\u001b[0;34m=\u001b[0m\u001b[0mself\u001b[0m\u001b[0;34m.\u001b[0m\u001b[0mpyna_directory\u001b[0m \u001b[0;34m+\u001b[0m \u001b[0;34m'/cases/'\u001b[0m \u001b[0;34m+\u001b[0m \u001b[0mself\u001b[0m\u001b[0;34m.\u001b[0m\u001b[0mcase_name\u001b[0m \u001b[0;34m+\u001b[0m \u001b[0;34m'/dymos_solution.db'\u001b[0m\u001b[0;34m)\u001b[0m\u001b[0;34m\u001b[0m\u001b[0;34m\u001b[0m\u001b[0m\n\u001b[0m\u001b[1;32m    231\u001b[0m \u001b[0;34m\u001b[0m\u001b[0m\n\u001b[1;32m    232\u001b[0m         \u001b[0;31m# Save the results\u001b[0m\u001b[0;34m\u001b[0m\u001b[0;34m\u001b[0m\u001b[0;34m\u001b[0m\u001b[0m\n",
      "\u001b[0;32m~/Library/Python/3.7/lib/python/site-packages/dymos/run_problem.py\u001b[0m in \u001b[0;36mrun_problem\u001b[0;34m(problem, refine_method, refine_iteration_limit, run_driver, simulate, restart, solution_record_file, simulation_record_file, make_plots, plot_dir)\u001b[0m\n\u001b[1;32m     65\u001b[0m         \u001b[0m_refine_iter\u001b[0m\u001b[0;34m(\u001b[0m\u001b[0mproblem\u001b[0m\u001b[0;34m,\u001b[0m \u001b[0mrefine_iteration_limit\u001b[0m\u001b[0;34m,\u001b[0m \u001b[0mrefine_method\u001b[0m\u001b[0;34m)\u001b[0m\u001b[0;34m\u001b[0m\u001b[0;34m\u001b[0m\u001b[0m\n\u001b[1;32m     66\u001b[0m     \u001b[0;32melse\u001b[0m\u001b[0;34m:\u001b[0m\u001b[0;34m\u001b[0m\u001b[0;34m\u001b[0m\u001b[0m\n\u001b[0;32m---> 67\u001b[0;31m         \u001b[0mfailed\u001b[0m \u001b[0;34m=\u001b[0m \u001b[0mproblem\u001b[0m\u001b[0;34m.\u001b[0m\u001b[0mrun_model\u001b[0m\u001b[0;34m(\u001b[0m\u001b[0;34m)\u001b[0m\u001b[0;34m\u001b[0m\u001b[0;34m\u001b[0m\u001b[0m\n\u001b[0m\u001b[1;32m     68\u001b[0m         \u001b[0;32mif\u001b[0m \u001b[0mrefine_iteration_limit\u001b[0m \u001b[0;34m>\u001b[0m \u001b[0;36m0\u001b[0m\u001b[0;34m:\u001b[0m\u001b[0;34m\u001b[0m\u001b[0;34m\u001b[0m\u001b[0m\n\u001b[1;32m     69\u001b[0m             \u001b[0mwarnings\u001b[0m\u001b[0;34m.\u001b[0m\u001b[0mwarn\u001b[0m\u001b[0;34m(\u001b[0m\u001b[0;34m\"Refinement not performed. Set run_driver to True to perform refinement.\"\u001b[0m\u001b[0;34m)\u001b[0m\u001b[0;34m\u001b[0m\u001b[0;34m\u001b[0m\u001b[0m\n",
      "\u001b[0;32m~/Library/Python/3.7/lib/python/site-packages/openmdao/core/problem.py\u001b[0m in \u001b[0;36mrun_model\u001b[0;34m(self, case_prefix, reset_iter_counts)\u001b[0m\n\u001b[1;32m    680\u001b[0m \u001b[0;34m\u001b[0m\u001b[0m\n\u001b[1;32m    681\u001b[0m         \u001b[0mself\u001b[0m\u001b[0;34m.\u001b[0m\u001b[0mmodel\u001b[0m\u001b[0;34m.\u001b[0m\u001b[0m_clear_iprint\u001b[0m\u001b[0;34m(\u001b[0m\u001b[0;34m)\u001b[0m\u001b[0;34m\u001b[0m\u001b[0;34m\u001b[0m\u001b[0m\n\u001b[0;32m--> 682\u001b[0;31m         \u001b[0mself\u001b[0m\u001b[0;34m.\u001b[0m\u001b[0mmodel\u001b[0m\u001b[0;34m.\u001b[0m\u001b[0mrun_solve_nonlinear\u001b[0m\u001b[0;34m(\u001b[0m\u001b[0;34m)\u001b[0m\u001b[0;34m\u001b[0m\u001b[0;34m\u001b[0m\u001b[0m\n\u001b[0m\u001b[1;32m    683\u001b[0m \u001b[0;34m\u001b[0m\u001b[0m\n\u001b[1;32m    684\u001b[0m     \u001b[0;32mdef\u001b[0m \u001b[0mrun_driver\u001b[0m\u001b[0;34m(\u001b[0m\u001b[0mself\u001b[0m\u001b[0;34m,\u001b[0m \u001b[0mcase_prefix\u001b[0m\u001b[0;34m=\u001b[0m\u001b[0;32mNone\u001b[0m\u001b[0;34m,\u001b[0m \u001b[0mreset_iter_counts\u001b[0m\u001b[0;34m=\u001b[0m\u001b[0;32mTrue\u001b[0m\u001b[0;34m)\u001b[0m\u001b[0;34m:\u001b[0m\u001b[0;34m\u001b[0m\u001b[0;34m\u001b[0m\u001b[0m\n",
      "\u001b[0;32m~/Library/Python/3.7/lib/python/site-packages/openmdao/core/system.py\u001b[0m in \u001b[0;36mrun_solve_nonlinear\u001b[0;34m(self)\u001b[0m\n\u001b[1;32m   3901\u001b[0m         \"\"\"\n\u001b[1;32m   3902\u001b[0m         \u001b[0;32mwith\u001b[0m \u001b[0mself\u001b[0m\u001b[0;34m.\u001b[0m\u001b[0m_scaled_context_all\u001b[0m\u001b[0;34m(\u001b[0m\u001b[0;34m)\u001b[0m\u001b[0;34m:\u001b[0m\u001b[0;34m\u001b[0m\u001b[0;34m\u001b[0m\u001b[0m\n\u001b[0;32m-> 3903\u001b[0;31m             \u001b[0mself\u001b[0m\u001b[0;34m.\u001b[0m\u001b[0m_solve_nonlinear\u001b[0m\u001b[0;34m(\u001b[0m\u001b[0;34m)\u001b[0m\u001b[0;34m\u001b[0m\u001b[0;34m\u001b[0m\u001b[0m\n\u001b[0m\u001b[1;32m   3904\u001b[0m \u001b[0;34m\u001b[0m\u001b[0m\n\u001b[1;32m   3905\u001b[0m     \u001b[0;32mdef\u001b[0m \u001b[0mrun_apply_linear\u001b[0m\u001b[0;34m(\u001b[0m\u001b[0mself\u001b[0m\u001b[0;34m,\u001b[0m \u001b[0mmode\u001b[0m\u001b[0;34m,\u001b[0m \u001b[0mscope_out\u001b[0m\u001b[0;34m=\u001b[0m\u001b[0;32mNone\u001b[0m\u001b[0;34m,\u001b[0m \u001b[0mscope_in\u001b[0m\u001b[0;34m=\u001b[0m\u001b[0;32mNone\u001b[0m\u001b[0;34m)\u001b[0m\u001b[0;34m:\u001b[0m\u001b[0;34m\u001b[0m\u001b[0;34m\u001b[0m\u001b[0m\n",
      "\u001b[0;32m~/Library/Python/3.7/lib/python/site-packages/openmdao/core/group.py\u001b[0m in \u001b[0;36m_solve_nonlinear\u001b[0;34m(self)\u001b[0m\n\u001b[1;32m   2558\u001b[0m \u001b[0;34m\u001b[0m\u001b[0m\n\u001b[1;32m   2559\u001b[0m         \u001b[0;32mwith\u001b[0m \u001b[0mRecording\u001b[0m\u001b[0;34m(\u001b[0m\u001b[0mname\u001b[0m \u001b[0;34m+\u001b[0m \u001b[0;34m'._solve_nonlinear'\u001b[0m\u001b[0;34m,\u001b[0m \u001b[0mself\u001b[0m\u001b[0;34m.\u001b[0m\u001b[0miter_count\u001b[0m\u001b[0;34m,\u001b[0m \u001b[0mself\u001b[0m\u001b[0;34m)\u001b[0m\u001b[0;34m:\u001b[0m\u001b[0;34m\u001b[0m\u001b[0;34m\u001b[0m\u001b[0m\n\u001b[0;32m-> 2560\u001b[0;31m             \u001b[0mself\u001b[0m\u001b[0;34m.\u001b[0m\u001b[0m_nonlinear_solver\u001b[0m\u001b[0;34m.\u001b[0m\u001b[0msolve\u001b[0m\u001b[0;34m(\u001b[0m\u001b[0;34m)\u001b[0m\u001b[0;34m\u001b[0m\u001b[0;34m\u001b[0m\u001b[0m\n\u001b[0m\u001b[1;32m   2561\u001b[0m \u001b[0;34m\u001b[0m\u001b[0m\n\u001b[1;32m   2562\u001b[0m         \u001b[0;31m# Iteration counter is incremented in the Recording context manager at exit.\u001b[0m\u001b[0;34m\u001b[0m\u001b[0;34m\u001b[0m\u001b[0;34m\u001b[0m\u001b[0m\n",
      "\u001b[0;32m~/Library/Python/3.7/lib/python/site-packages/openmdao/solvers/nonlinear/nonlinear_runonce.py\u001b[0m in \u001b[0;36msolve\u001b[0;34m(self)\u001b[0m\n\u001b[1;32m     40\u001b[0m             \u001b[0;31m# If this is not a parallel group, transfer for each subsystem just prior to running it.\u001b[0m\u001b[0;34m\u001b[0m\u001b[0;34m\u001b[0m\u001b[0;34m\u001b[0m\u001b[0m\n\u001b[1;32m     41\u001b[0m             \u001b[0;32melse\u001b[0m\u001b[0;34m:\u001b[0m\u001b[0;34m\u001b[0m\u001b[0;34m\u001b[0m\u001b[0m\n\u001b[0;32m---> 42\u001b[0;31m                 \u001b[0mself\u001b[0m\u001b[0;34m.\u001b[0m\u001b[0m_gs_iter\u001b[0m\u001b[0;34m(\u001b[0m\u001b[0;34m)\u001b[0m\u001b[0;34m\u001b[0m\u001b[0;34m\u001b[0m\u001b[0m\n\u001b[0m\u001b[1;32m     43\u001b[0m \u001b[0;34m\u001b[0m\u001b[0m\n\u001b[1;32m     44\u001b[0m             \u001b[0mrec\u001b[0m\u001b[0;34m.\u001b[0m\u001b[0mabs\u001b[0m \u001b[0;34m=\u001b[0m \u001b[0;36m0.0\u001b[0m\u001b[0;34m\u001b[0m\u001b[0;34m\u001b[0m\u001b[0m\n",
      "\u001b[0;32m~/Library/Python/3.7/lib/python/site-packages/openmdao/solvers/solver.py\u001b[0m in \u001b[0;36m_gs_iter\u001b[0;34m(self)\u001b[0m\n\u001b[1;32m    758\u001b[0m             \u001b[0;32mif\u001b[0m \u001b[0msubsys\u001b[0m\u001b[0;34m.\u001b[0m\u001b[0m_is_local\u001b[0m\u001b[0;34m:\u001b[0m\u001b[0;34m\u001b[0m\u001b[0;34m\u001b[0m\u001b[0m\n\u001b[1;32m    759\u001b[0m                 \u001b[0;32mtry\u001b[0m\u001b[0;34m:\u001b[0m\u001b[0;34m\u001b[0m\u001b[0;34m\u001b[0m\u001b[0m\n\u001b[0;32m--> 760\u001b[0;31m                     \u001b[0msubsys\u001b[0m\u001b[0;34m.\u001b[0m\u001b[0m_solve_nonlinear\u001b[0m\u001b[0;34m(\u001b[0m\u001b[0;34m)\u001b[0m\u001b[0;34m\u001b[0m\u001b[0;34m\u001b[0m\u001b[0m\n\u001b[0m\u001b[1;32m    761\u001b[0m                 \u001b[0;32mexcept\u001b[0m \u001b[0mAnalysisError\u001b[0m \u001b[0;32mas\u001b[0m \u001b[0merr\u001b[0m\u001b[0;34m:\u001b[0m\u001b[0;34m\u001b[0m\u001b[0;34m\u001b[0m\u001b[0m\n\u001b[1;32m    762\u001b[0m                     \u001b[0;32mif\u001b[0m \u001b[0;34m'reraise_child_analysiserror'\u001b[0m \u001b[0;32mnot\u001b[0m \u001b[0;32min\u001b[0m \u001b[0mself\u001b[0m\u001b[0;34m.\u001b[0m\u001b[0moptions\u001b[0m \u001b[0;32mor\u001b[0m\u001b[0;31m \u001b[0m\u001b[0;31m\\\u001b[0m\u001b[0;34m\u001b[0m\u001b[0;34m\u001b[0m\u001b[0m\n",
      "\u001b[0;32m~/Library/Python/3.7/lib/python/site-packages/openmdao/core/explicitcomponent.py\u001b[0m in \u001b[0;36m_solve_nonlinear\u001b[0;34m(self)\u001b[0m\n\u001b[1;32m    282\u001b[0m             \u001b[0;32mwith\u001b[0m \u001b[0mself\u001b[0m\u001b[0;34m.\u001b[0m\u001b[0m_unscaled_context\u001b[0m\u001b[0;34m(\u001b[0m\u001b[0moutputs\u001b[0m\u001b[0;34m=\u001b[0m\u001b[0;34m[\u001b[0m\u001b[0mself\u001b[0m\u001b[0;34m.\u001b[0m\u001b[0m_outputs\u001b[0m\u001b[0;34m]\u001b[0m\u001b[0;34m,\u001b[0m \u001b[0mresiduals\u001b[0m\u001b[0;34m=\u001b[0m\u001b[0;34m[\u001b[0m\u001b[0mself\u001b[0m\u001b[0;34m.\u001b[0m\u001b[0m_residuals\u001b[0m\u001b[0;34m]\u001b[0m\u001b[0;34m)\u001b[0m\u001b[0;34m:\u001b[0m\u001b[0;34m\u001b[0m\u001b[0;34m\u001b[0m\u001b[0m\n\u001b[1;32m    283\u001b[0m                 \u001b[0mself\u001b[0m\u001b[0;34m.\u001b[0m\u001b[0m_residuals\u001b[0m\u001b[0;34m.\u001b[0m\u001b[0mset_val\u001b[0m\u001b[0;34m(\u001b[0m\u001b[0;36m0.0\u001b[0m\u001b[0;34m)\u001b[0m\u001b[0;34m\u001b[0m\u001b[0;34m\u001b[0m\u001b[0m\n\u001b[0;32m--> 284\u001b[0;31m                 \u001b[0mself\u001b[0m\u001b[0;34m.\u001b[0m\u001b[0m_compute_wrapper\u001b[0m\u001b[0;34m(\u001b[0m\u001b[0;34m)\u001b[0m\u001b[0;34m\u001b[0m\u001b[0;34m\u001b[0m\u001b[0m\n\u001b[0m\u001b[1;32m    285\u001b[0m \u001b[0;34m\u001b[0m\u001b[0m\n\u001b[1;32m    286\u001b[0m             \u001b[0;31m# Iteration counter is incremented in the Recording context manager at exit.\u001b[0m\u001b[0;34m\u001b[0m\u001b[0;34m\u001b[0m\u001b[0;34m\u001b[0m\u001b[0m\n",
      "\u001b[0;32m~/Library/Python/3.7/lib/python/site-packages/openmdao/core/explicitcomponent.py\u001b[0m in \u001b[0;36m_compute_wrapper\u001b[0;34m(self)\u001b[0m\n\u001b[1;32m    256\u001b[0m                             \u001b[0mself\u001b[0m\u001b[0;34m.\u001b[0m\u001b[0m_discrete_outputs\u001b[0m\u001b[0;34m[\u001b[0m\u001b[0mname\u001b[0m\u001b[0;34m]\u001b[0m \u001b[0;34m=\u001b[0m \u001b[0mval\u001b[0m\u001b[0;34m\u001b[0m\u001b[0;34m\u001b[0m\u001b[0m\n\u001b[1;32m    257\u001b[0m             \u001b[0;32melse\u001b[0m\u001b[0;34m:\u001b[0m\u001b[0;34m\u001b[0m\u001b[0;34m\u001b[0m\u001b[0m\n\u001b[0;32m--> 258\u001b[0;31m                 \u001b[0mself\u001b[0m\u001b[0;34m.\u001b[0m\u001b[0mcompute\u001b[0m\u001b[0;34m(\u001b[0m\u001b[0;34m*\u001b[0m\u001b[0margs\u001b[0m\u001b[0;34m)\u001b[0m\u001b[0;34m\u001b[0m\u001b[0;34m\u001b[0m\u001b[0m\n\u001b[0m\u001b[1;32m    259\u001b[0m \u001b[0;34m\u001b[0m\u001b[0m\n\u001b[1;32m    260\u001b[0m     \u001b[0;32mdef\u001b[0m \u001b[0m_apply_nonlinear\u001b[0m\u001b[0;34m(\u001b[0m\u001b[0mself\u001b[0m\u001b[0;34m)\u001b[0m\u001b[0;34m:\u001b[0m\u001b[0;34m\u001b[0m\u001b[0;34m\u001b[0m\u001b[0m\n",
      "\u001b[0;32m/Library/Developer/CommandLineTools/Library/Frameworks/Python3.framework/Versions/3.7/lib/python3.7/contextlib.py\u001b[0m in \u001b[0;36m__exit__\u001b[0;34m(self, type, value, traceback)\u001b[0m\n\u001b[1;32m    128\u001b[0m                 \u001b[0mvalue\u001b[0m \u001b[0;34m=\u001b[0m \u001b[0mtype\u001b[0m\u001b[0;34m(\u001b[0m\u001b[0;34m)\u001b[0m\u001b[0;34m\u001b[0m\u001b[0;34m\u001b[0m\u001b[0m\n\u001b[1;32m    129\u001b[0m             \u001b[0;32mtry\u001b[0m\u001b[0;34m:\u001b[0m\u001b[0;34m\u001b[0m\u001b[0;34m\u001b[0m\u001b[0m\n\u001b[0;32m--> 130\u001b[0;31m                 \u001b[0mself\u001b[0m\u001b[0;34m.\u001b[0m\u001b[0mgen\u001b[0m\u001b[0;34m.\u001b[0m\u001b[0mthrow\u001b[0m\u001b[0;34m(\u001b[0m\u001b[0mtype\u001b[0m\u001b[0;34m,\u001b[0m \u001b[0mvalue\u001b[0m\u001b[0;34m,\u001b[0m \u001b[0mtraceback\u001b[0m\u001b[0;34m)\u001b[0m\u001b[0;34m\u001b[0m\u001b[0;34m\u001b[0m\u001b[0m\n\u001b[0m\u001b[1;32m    131\u001b[0m             \u001b[0;32mexcept\u001b[0m \u001b[0mStopIteration\u001b[0m \u001b[0;32mas\u001b[0m \u001b[0mexc\u001b[0m\u001b[0;34m:\u001b[0m\u001b[0;34m\u001b[0m\u001b[0;34m\u001b[0m\u001b[0m\n\u001b[1;32m    132\u001b[0m                 \u001b[0;31m# Suppress StopIteration *unless* it's the same exception that\u001b[0m\u001b[0;34m\u001b[0m\u001b[0;34m\u001b[0m\u001b[0;34m\u001b[0m\u001b[0m\n",
      "\u001b[0;32m~/Library/Python/3.7/lib/python/site-packages/openmdao/core/system.py\u001b[0m in \u001b[0;36m_call_user_function\u001b[0;34m(self, fname, protect_inputs, protect_outputs, protect_residuals)\u001b[0m\n\u001b[1;32m   2204\u001b[0m             \u001b[0;32melse\u001b[0m\u001b[0;34m:\u001b[0m\u001b[0;34m\u001b[0m\u001b[0;34m\u001b[0m\u001b[0m\n\u001b[1;32m   2205\u001b[0m                 raise err_type(\n\u001b[0;32m-> 2206\u001b[0;31m                     f\"{self.msginfo}: Error calling {fname}(), {err}\").with_traceback(trace)\n\u001b[0m\u001b[1;32m   2207\u001b[0m         \u001b[0;32mfinally\u001b[0m\u001b[0;34m:\u001b[0m\u001b[0;34m\u001b[0m\u001b[0;34m\u001b[0m\u001b[0m\n\u001b[1;32m   2208\u001b[0m             \u001b[0mself\u001b[0m\u001b[0;34m.\u001b[0m\u001b[0m_inputs\u001b[0m\u001b[0;34m.\u001b[0m\u001b[0mread_only\u001b[0m \u001b[0;34m=\u001b[0m \u001b[0;32mFalse\u001b[0m\u001b[0;34m\u001b[0m\u001b[0;34m\u001b[0m\u001b[0m\n",
      "\u001b[0;32m~/Library/Python/3.7/lib/python/site-packages/openmdao/core/system.py\u001b[0m in \u001b[0;36m_call_user_function\u001b[0;34m(self, fname, protect_inputs, protect_outputs, protect_residuals)\u001b[0m\n\u001b[1;32m   2197\u001b[0m \u001b[0;34m\u001b[0m\u001b[0m\n\u001b[1;32m   2198\u001b[0m         \u001b[0;32mtry\u001b[0m\u001b[0;34m:\u001b[0m\u001b[0;34m\u001b[0m\u001b[0;34m\u001b[0m\u001b[0m\n\u001b[0;32m-> 2199\u001b[0;31m             \u001b[0;32myield\u001b[0m\u001b[0;34m\u001b[0m\u001b[0;34m\u001b[0m\u001b[0m\n\u001b[0m\u001b[1;32m   2200\u001b[0m         \u001b[0;32mexcept\u001b[0m \u001b[0mException\u001b[0m\u001b[0;34m:\u001b[0m\u001b[0;34m\u001b[0m\u001b[0;34m\u001b[0m\u001b[0m\n\u001b[1;32m   2201\u001b[0m             \u001b[0merr_type\u001b[0m\u001b[0;34m,\u001b[0m \u001b[0merr\u001b[0m\u001b[0;34m,\u001b[0m \u001b[0mtrace\u001b[0m \u001b[0;34m=\u001b[0m \u001b[0msys\u001b[0m\u001b[0;34m.\u001b[0m\u001b[0mexc_info\u001b[0m\u001b[0;34m(\u001b[0m\u001b[0;34m)\u001b[0m\u001b[0;34m\u001b[0m\u001b[0;34m\u001b[0m\u001b[0m\n",
      "\u001b[0;32m~/Library/Python/3.7/lib/python/site-packages/openmdao/core/explicitcomponent.py\u001b[0m in \u001b[0;36m_compute_wrapper\u001b[0;34m(self)\u001b[0m\n\u001b[1;32m    256\u001b[0m                             \u001b[0mself\u001b[0m\u001b[0;34m.\u001b[0m\u001b[0m_discrete_outputs\u001b[0m\u001b[0;34m[\u001b[0m\u001b[0mname\u001b[0m\u001b[0;34m]\u001b[0m \u001b[0;34m=\u001b[0m \u001b[0mval\u001b[0m\u001b[0;34m\u001b[0m\u001b[0;34m\u001b[0m\u001b[0m\n\u001b[1;32m    257\u001b[0m             \u001b[0;32melse\u001b[0m\u001b[0;34m:\u001b[0m\u001b[0;34m\u001b[0m\u001b[0;34m\u001b[0m\u001b[0m\n\u001b[0;32m--> 258\u001b[0;31m                 \u001b[0mself\u001b[0m\u001b[0;34m.\u001b[0m\u001b[0mcompute\u001b[0m\u001b[0;34m(\u001b[0m\u001b[0;34m*\u001b[0m\u001b[0margs\u001b[0m\u001b[0;34m)\u001b[0m\u001b[0;34m\u001b[0m\u001b[0;34m\u001b[0m\u001b[0m\n\u001b[0m\u001b[1;32m    259\u001b[0m \u001b[0;34m\u001b[0m\u001b[0m\n\u001b[1;32m    260\u001b[0m     \u001b[0;32mdef\u001b[0m \u001b[0m_apply_nonlinear\u001b[0m\u001b[0;34m(\u001b[0m\u001b[0mself\u001b[0m\u001b[0;34m)\u001b[0m\u001b[0;34m:\u001b[0m\u001b[0;34m\u001b[0m\u001b[0;34m\u001b[0m\u001b[0m\n",
      "\u001b[0;32m~/Documents/Research/OpenMDAO.jl/src/julia_comps.py\u001b[0m in \u001b[0;36mcompute\u001b[0;34m(self, inputs, outputs)\u001b[0m\n\u001b[1;32m     53\u001b[0m         \u001b[0moutputs_dict\u001b[0m \u001b[0;34m=\u001b[0m \u001b[0mdict\u001b[0m\u001b[0;34m(\u001b[0m\u001b[0moutputs\u001b[0m\u001b[0;34m)\u001b[0m\u001b[0;34m\u001b[0m\u001b[0;34m\u001b[0m\u001b[0m\n\u001b[1;32m     54\u001b[0m \u001b[0;34m\u001b[0m\u001b[0m\n\u001b[0;32m---> 55\u001b[0;31m         \u001b[0mself\u001b[0m\u001b[0;34m.\u001b[0m\u001b[0m_julia_compute\u001b[0m\u001b[0;34m(\u001b[0m\u001b[0mself\u001b[0m\u001b[0;34m.\u001b[0m\u001b[0m_jl_id\u001b[0m\u001b[0;34m,\u001b[0m \u001b[0minputs_dict\u001b[0m\u001b[0;34m,\u001b[0m \u001b[0moutputs_dict\u001b[0m\u001b[0;34m)\u001b[0m\u001b[0;34m\u001b[0m\u001b[0;34m\u001b[0m\u001b[0m\n\u001b[0m\u001b[1;32m     56\u001b[0m \u001b[0;34m\u001b[0m\u001b[0m\n\u001b[1;32m     57\u001b[0m     \u001b[0;32mdef\u001b[0m \u001b[0mcompute_partials\u001b[0m\u001b[0;34m(\u001b[0m\u001b[0mself\u001b[0m\u001b[0;34m,\u001b[0m \u001b[0minputs\u001b[0m\u001b[0;34m,\u001b[0m \u001b[0mpartials\u001b[0m\u001b[0;34m)\u001b[0m\u001b[0;34m:\u001b[0m\u001b[0;34m\u001b[0m\u001b[0;34m\u001b[0m\u001b[0m\n",
      "\u001b[0;31mRuntimeError\u001b[0m: 'noise' <class JuliaExplicitComp>: Error calling compute(), <PyCall.jlwrap (in a Julia function called from Python)\nJULIA: UndefVarError: kkk not defined\nStacktrace:\n [1] (::var\"#noise_model#17\")(::PynaInterpolations, ::Dict{Any,Any}, ::PyObject, ::PyObject, ::Dict{Any,Any}, ::String, ::Array{Float64,1}) at /Users/laurensvoet/Documents/Research/pyNA/pyNA/src/noise_src_jl/noise_model.jl:263\n [2] compute!(::NoiseModel{PynaInterpolations,Dict{Any,Any},PyObject,PyObject,Int64,Dict{Any,Any},String,var\"#noise_model#17\",var\"#16#18\"{Dict{Any,Any},PyObject,PyObject,Dict{Any,Any},String,var\"#noise_model#17\",PynaInterpolations}}, ::PyDict{String,PyArray,true}, ::PyDict{String,PyArray,true}) at /Users/laurensvoet/Documents/Research/pyNA/pyNA/src/noise_src_jl/noise_model.jl:0\n [3] compute!(::BigInt, ::PyDict{String,PyArray,true}, ::PyDict{String,PyArray,true}) at /Users/laurensvoet/Documents/Research/OpenMDAO.jl/src/OpenMDAO.jl:84\n [4] (::PyCall.FuncWrapper{Tuple{Integer,PyDict{String,PyArray,isdict} where isdict,PyDict{String,PyArray,isdict} where isdict},typeof(compute!)})(::BigInt, ::Vararg{Any,N} where N; kws::Base.Iterators.Pairs{Union{},Union{},Tuple{},NamedTuple{(),Tuple{}}}) at /Users/laurensvoet/.julia/packages/PyCall/3fwVL/src/callback.jl:56\n [5] (::PyCall.FuncWrapper{Tuple{Integer,PyDict{String,PyArray,isdict} where isdict,PyDict{String,PyArray,isdict} where isdict},typeof(compute!)})(::BigInt, ::Vararg{Any,N} where N) at /Users/laurensvoet/.julia/packages/PyCall/3fwVL/src/callback.jl:56\n [6] invokelatest(::Any, ::Any, ::Vararg{Any,N} where N; kwargs::Base.Iterators.Pairs{Union{},Union{},Tuple{},NamedTuple{(),Tuple{}}}) at ./essentials.jl:710\n [7] invokelatest(::Any, ::Any, ::Vararg{Any,N} where N) at ./essentials.jl:709\n [8] _pyjlwrap_call(::PyCall.FuncWrapper{Tuple{Integer,PyDict{String,PyArray,isdict} where isdict,PyDict{String,PyArray,isdict} where isdict},typeof(compute!)}, ::Ptr{PyCall.PyObject_struct}, ::Ptr{PyCall.PyObject_struct}) at /Users/laurensvoet/.julia/packages/PyCall/3fwVL/src/callback.jl:28\n [9] pyjlwrap_call(::Ptr{PyCall.PyObject_struct}, ::Ptr{PyCall.PyObject_struct}, ::Ptr{PyCall.PyObject_struct}) at /Users/laurensvoet/.julia/packages/PyCall/3fwVL/src/callback.jl:44>"
     ]
    }
   ],
   "source": [
    "# Compute noise time series\n",
    "if True:\n",
    "        \n",
    "    for ac_name in ['stca']:\n",
    "\n",
    "        for case in ['Vmax']:\n",
    "#         for case in ['V2']:\n",
    "            \n",
    "            n_sl = 131\n",
    "            py = pyna()\n",
    "            py.ac_name = ac_name\n",
    "            py.case_name = ac_name\n",
    "            py.output_directory_name = 'NOCB/' + case\n",
    "            \n",
    "            py.output_file_name = py.ac_name + '.sql'\n",
    "            py.engine_timeseries_name = 'engine.csv'\n",
    "            py.trajectory_file_name = 'trajectory.csv'\n",
    "\n",
    "            py.observer_lst = ['contours',]\n",
    "\n",
    "            x_observer_lst = np.zeros((n_sl+1, 3))\n",
    "            x_observer_lst[:-1, 0] = np.linspace(0, 6500, n_sl)\n",
    "            x_observer_lst[:-1, 1] = 450*np.ones(n_sl)\n",
    "            x_observer_lst[:, 2] = 4*0.3048*np.ones(n_sl+1)\n",
    "            x_observer_lst[-1,0] = 6500.\n",
    "\n",
    "            py.x_observer_array = x_observer_lst\n",
    "\n",
    "            py.compute_noise_timeseries()\n",
    "\n",
    "            np.save('../cases/'+ac_name+'/output/NOCB/'+case+'/epnl.npy', py.noise_timeseries.get_val('noise.epnl'))\n",
    "\n",
    "            clear_output()"
   ]
  }
 ],
 "metadata": {
  "kernelspec": {
   "display_name": "Python 3",
   "language": "python",
   "name": "python3"
  },
  "language_info": {
   "codemirror_mode": {
    "name": "ipython",
    "version": 3
   },
   "file_extension": ".py",
   "mimetype": "text/x-python",
   "name": "python",
   "nbconvert_exporter": "python",
   "pygments_lexer": "ipython3",
   "version": "3.7.3"
  }
 },
 "nbformat": 4,
 "nbformat_minor": 4
}
