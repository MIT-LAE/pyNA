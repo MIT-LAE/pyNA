{
 "cells": [
  {
   "cell_type": "code",
   "execution_count": 1,
   "metadata": {},
   "outputs": [
    {
     "data": {
      "text/html": [
       "<style>.container { width:100% !important; }</style>"
      ],
      "text/plain": [
       "<IPython.core.display.HTML object>"
      ]
     },
     "metadata": {},
     "output_type": "display_data"
    }
   ],
   "source": [
    "# Imports \n",
    "import os\n",
    "import sys\n",
    "sys.path.append(\"..\")\n",
    "os.environ[\"pyna_language\"] = 'python'\n",
    "import pdb\n",
    "import numpy as np\n",
    "import openmdao.api as om\n",
    "import pandas as pd\n",
    "pd.set_option('max_columns', None)\n",
    "pd.set_option('max_rows', None)\n",
    "import matplotlib.pyplot as plt\n",
    "from mpl_toolkits.axes_grid1.inset_locator import zoomed_inset_axes, mark_inset\n",
    "%matplotlib inline\n",
    "from pyNA.pyna import pyna\n",
    "\n",
    "from IPython.display import clear_output\n",
    "from IPython.core.display import display, HTML\n",
    "display(HTML(\"<style>.container { width:100% !important; }</style>\"))"
   ]
  },
  {
   "cell_type": "code",
   "execution_count": 18,
   "metadata": {},
   "outputs": [],
   "source": [
    "# Load verification trajectory\n",
    "nasa_std = pd.read_csv('../cases/nasa_stca_standard/trajectory/Trajectory_to.csv')\n",
    "\n",
    "pyna_settings = pyna.load_settings(case_name='stca')\n",
    "pyna_settings.engine_file_name = \"engine_deck_stca.csv\"\n",
    "pyna_settings.output_directory_name = \"STCB/V2\"\n",
    "pyna_settings.save_results = True\n",
    "pyna_settings.max_iter = 150\n",
    "\n",
    "py = pyna(pyna_settings)"
   ]
  },
  {
   "cell_type": "markdown",
   "metadata": {},
   "source": [
    "## V2"
   ]
  },
  {
   "cell_type": "code",
   "execution_count": 19,
   "metadata": {},
   "outputs": [],
   "source": [
    "TS = 0.56\n",
    "z_cb = 25.0\n",
    "results_v2 = dict()\n",
    "file_name = pyna_settings.ac_name + '_' + str(np.round(z_cb,2)) + '_' + str(np.round(TS,2)) + '.sql'\n",
    "results_v2[str(TS)+'_'+str(z_cb)] = py.load_results(file_name)\n"
   ]
  },
  {
   "cell_type": "code",
   "execution_count": 4,
   "metadata": {},
   "outputs": [],
   "source": [
    "# Sweep lists\n",
    "py.settings.output_directory_name = 'STCB/V2'\n",
    "\n",
    "z_cb_lst_v2 = np.hstack((np.linspace(25, 350, 14), np.linspace(400, 750, 8)))\n",
    "TS_cb_lst_v2 = np.hstack(([0.56, 0.575], np.linspace(0.6, 1., 17)))\n",
    "\n",
    "# Load results\n",
    "results_v2 = dict()\n",
    "\n",
    "for j, TS in enumerate(TS_cb_lst_v2[:19]):\n",
    "    for i, z_cb in enumerate(z_cb_lst_v2):\n",
    "        file_name = pyna_settings.ac_name + '_' + str(np.round(z_cb,2)) + '_' + str(np.round(TS,2)) + '.sql'\n",
    "        results_v2[str(TS)+'_'+str(z_cb)] = py.load_results(file_name)"
   ]
  },
  {
   "cell_type": "markdown",
   "metadata": {},
   "source": [
    "## Vmax"
   ]
  },
  {
   "cell_type": "code",
   "execution_count": 6,
   "metadata": {},
   "outputs": [],
   "source": [
    "# Sweep lists\n",
    "py.settings.output_directory_name = 'STCB/Vmax'\n",
    "\n",
    "z_cb_lst_vmax = np.hstack((np.linspace(25, 350, 14), np.linspace(400, 750, 8)))\n",
    "TS_cb_lst_vmax = np.linspace(0.475, 1., 22)\n",
    "\n",
    "# Load results\n",
    "results_vmax = dict()\n",
    "\n",
    "for j, TS in enumerate(TS_cb_lst_vmax):\n",
    "    for i, z_cb in enumerate(z_cb_lst_vmax):\n",
    "        file_name = pyna_settings.ac_name + '_' + str(np.round(z_cb,2)) + '_' + str(np.round(TS,2)) + '.sql'\n",
    "        results_vmax[str(TS)+'_'+str(z_cb)] = py.load_results(file_name)"
   ]
  },
  {
   "cell_type": "markdown",
   "metadata": {},
   "source": [
    "## Results"
   ]
  },
  {
   "cell_type": "code",
   "execution_count": 13,
   "metadata": {},
   "outputs": [
    {
     "data": {
      "text/plain": [
       "<matplotlib.colorbar.Colorbar at 0x29c86e1d0>"
      ]
     },
     "execution_count": 13,
     "metadata": {},
     "output_type": "execute_result"
    },
    {
     "data": {
      "image/png": "[encoded data removed]",
      "text/plain": [
       "<Figure size 1080x360 with 2 Axes>"
      ]
     },
     "metadata": {
      "needs_background": "light"
     },
     "output_type": "display_data"
    }
   ],
   "source": [
    "krot_v2 = np.zeros((np.size(z_cb_lst_v2), np.size(TS_cb_lst_v2)))\n",
    "LD_v2 = np.zeros((np.size(z_cb_lst_v2), np.size(TS_cb_lst_v2)))\n",
    "\n",
    "for j, TS in enumerate(TS_cb_lst_v2):\n",
    "    for i, z_cb in enumerate(z_cb_lst_v2):\n",
    "        krot_v2[i,j] = results_v2[str(TS)+'_'+str(z_cb)].get_val('phases.flapsdown.parameters:k_rot')[-1]\n",
    "        LD_v2[i,j] = results_v2[str(TS)+'_'+str(z_cb)].get_val('phases.cutback.interpolated.L')[-1]/results_v2[str(TS)+'_'+str(z_cb)].get_val('phases.cutback.interpolated.D')[-1]\n",
    "        \n",
    "plt.figure(figsize=(15,5))\n",
    "plt.contourf(TS_cb_lst_v2, z_cb_lst_v2, LD_v2, levels=10)\n",
    "plt.colorbar()"
   ]
  },
  {
   "cell_type": "code",
   "execution_count": 14,
   "metadata": {},
   "outputs": [
    {
     "data": {
      "text/plain": [
       "<matplotlib.colorbar.Colorbar at 0x29c3217f0>"
      ]
     },
     "execution_count": 14,
     "metadata": {},
     "output_type": "execute_result"
    },
    {
     "data": {
      "image/png": "[encoded data removed]",
      "text/plain": [
       "<Figure size 1080x360 with 2 Axes>"
      ]
     },
     "metadata": {
      "needs_background": "light"
     },
     "output_type": "display_data"
    }
   ],
   "source": [
    "krot_vmax = np.zeros((np.size(z_cb_lst_vmax), np.size(TS_cb_lst_vmax)))\n",
    "LD_vmax = np.zeros((np.size(z_cb_lst_vmax), np.size(TS_cb_lst_vmax)))\n",
    "\n",
    "for j, TS in enumerate(TS_cb_lst_vmax):\n",
    "    for i, z_cb in enumerate(z_cb_lst_vmax):\n",
    "        krot_vmax[i,j] = results_vmax[str(TS)+'_'+str(z_cb)].get_val('phases.flapsdown.parameters:k_rot')[-1]\n",
    "        LD_vmax[i,j] = results_vmax[str(TS)+'_'+str(z_cb)].get_val('phases.cutback.interpolated.L')[-1]/results_vmax[str(TS)+'_'+str(z_cb)].get_val('phases.cutback.interpolated.D')[-1]\n",
    "        \n",
    "plt.figure(figsize=(15,5))\n",
    "plt.contourf(TS_cb_lst_vmax, z_cb_lst_vmax, LD_vmax, levels=10)\n",
    "plt.colorbar()"
   ]
  },
  {
   "cell_type": "code",
   "execution_count": null,
   "metadata": {},
   "outputs": [],
   "source": []
  },
  {
   "cell_type": "code",
   "execution_count": null,
   "metadata": {},
   "outputs": [],
   "source": []
  },
  {
   "cell_type": "code",
   "execution_count": null,
   "metadata": {},
   "outputs": [],
   "source": []
  }
 ],
 "metadata": {
  "kernelspec": {
   "display_name": "Python 3",
   "language": "python",
   "name": "python3"
  },
  "language_info": {
   "codemirror_mode": {
    "name": "ipython",
    "version": 3
   },
   "file_extension": ".py",
   "mimetype": "text/x-python",
   "name": "python",
   "nbconvert_exporter": "python",
   "pygments_lexer": "ipython3",
   "version": "3.7.3"
  }
 },
 "nbformat": 4,
 "nbformat_minor": 4
}
