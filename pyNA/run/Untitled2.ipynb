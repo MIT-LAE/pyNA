{
 "cells": [
  {
   "cell_type": "code",
   "execution_count": 20,
   "id": "723e28a6",
   "metadata": {},
   "outputs": [
    {
     "name": "stderr",
     "output_type": "stream",
     "text": [
      "/var/folders/6w/2tdqp9m179gg5blnzww9hgjc0000gn/T/ipykernel_67639/2012753567.py:6: DeprecationWarning: Importing display from IPython.core.display is deprecated since IPython 7.14, please import from IPython display\n",
      "  from IPython.core.display import display, HTML\n"
     ]
    },
    {
     "data": {
      "text/html": [
       "<style>.container { width:100% !important; }</style>"
      ],
      "text/plain": [
       "<IPython.core.display.HTML object>"
      ]
     },
     "metadata": {},
     "output_type": "display_data"
    }
   ],
   "source": [
    "import numpy as np\n",
    "import jax\n",
    "import jax.numpy as jnp\n",
    "\n",
    "from IPython.display import clear_output\n",
    "from IPython.core.display import display, HTML\n",
    "display(HTML(\"<style>.container { width:100% !important; }</style>\"))"
   ]
  },
  {
   "cell_type": "code",
   "execution_count": 24,
   "id": "253426ad",
   "metadata": {},
   "outputs": [
    {
     "ename": "ValueError",
     "evalue": "could not broadcast input array from shape (11,) into shape (11,101)",
     "output_type": "error",
     "traceback": [
      "\u001b[0;31m---------------------------------------------------------------------------\u001b[0m",
      "\u001b[0;31mValueError\u001b[0m                                Traceback (most recent call last)",
      "Cell \u001b[0;32mIn[24], line 6\u001b[0m\n\u001b[1;32m      3\u001b[0m n_obs \u001b[38;5;241m=\u001b[39m \u001b[38;5;241m11\u001b[39m\n\u001b[1;32m      5\u001b[0m x_obs \u001b[38;5;241m=\u001b[39m np\u001b[38;5;241m.\u001b[39mzeros((n_obs, \u001b[38;5;241m3\u001b[39m, n_t))\n\u001b[0;32m----> 6\u001b[0m x_obs[:,\u001b[38;5;241m0\u001b[39m] \u001b[38;5;241m=\u001b[39m np\u001b[38;5;241m.\u001b[39mlinspace(\u001b[38;5;241m100\u001b[39m, \u001b[38;5;241m6500\u001b[39m, n_obs)\n\u001b[1;32m      7\u001b[0m x_obs[:,\u001b[38;5;241m2\u001b[39m] \u001b[38;5;241m=\u001b[39m \u001b[38;5;241m4\u001b[39m\u001b[38;5;241m*\u001b[39m\u001b[38;5;241m0.3048\u001b[39m\u001b[38;5;241m*\u001b[39mnp\u001b[38;5;241m.\u001b[39mones(n_obs)\n\u001b[1;32m      8\u001b[0m x_obs \u001b[38;5;241m=\u001b[39m jnp\u001b[38;5;241m.\u001b[39marray(x_obs)\n",
      "\u001b[0;31mValueError\u001b[0m: could not broadcast input array from shape (11,) into shape (11,101)"
     ]
    }
   ],
   "source": [
    "# Inputs\n",
    "n_obs = 11\n",
    "\n",
    "x_obs = np.zeros((n_obs, 3, n_t))\n",
    "x_obs[:,0] = np.linspace(100, 6500, n_obs)\n",
    "x_obs[:,2] = 4*0.3048*np.ones(n_obs)\n",
    "x_obs = jnp.array(x_obs)\n",
    "\n",
    "n_t = 101\n",
    "x = jnp.linspace(0, 1000, n_t)\n",
    "y = jnp.linspace(0, 10, n_t)\n",
    "z = jnp.linspace(0, 100, n_t)\n",
    "alpha = jnp.linspace(0, 10, n_t)\n",
    "gamma = jnp.linspace(10, 20, n_t)\n",
    "t_s = jnp.linspace(0, 100, n_t)\n",
    "c_0 = 340. * jnp.ones(n_t,)\n",
    "T_0 = 300. * jnp.ones(n_t,)"
   ]
  },
  {
   "cell_type": "code",
   "execution_count": 3,
   "id": "0bd3d6b0",
   "metadata": {},
   "outputs": [
    {
     "ename": "ValueError",
     "evalue": "Incompatible shapes for broadcasting: shapes=[(101, 11, 3), (101,)]",
     "output_type": "error",
     "traceback": [
      "\u001b[0;31m---------------------------------------------------------------------------\u001b[0m",
      "\u001b[0;31mValueError\u001b[0m                                Traceback (most recent call last)",
      "    \u001b[0;31m[... skipping hidden 1 frame]\u001b[0m\n",
      "File \u001b[0;32m~/miniconda3/lib/python3.10/site-packages/jax/_src/util.py:253\u001b[0m, in \u001b[0;36mcache.<locals>.wrap.<locals>.wrapper\u001b[0;34m(*args, **kwargs)\u001b[0m\n\u001b[1;32m    252\u001b[0m \u001b[38;5;28;01melse\u001b[39;00m:\n\u001b[0;32m--> 253\u001b[0m   \u001b[38;5;28;01mreturn\u001b[39;00m \u001b[43mcached\u001b[49m\u001b[43m(\u001b[49m\u001b[43mconfig\u001b[49m\u001b[38;5;241;43m.\u001b[39;49m\u001b[43m_trace_context\u001b[49m\u001b[43m(\u001b[49m\u001b[43m)\u001b[49m\u001b[43m,\u001b[49m\u001b[43m \u001b[49m\u001b[38;5;241;43m*\u001b[39;49m\u001b[43margs\u001b[49m\u001b[43m,\u001b[49m\u001b[43m \u001b[49m\u001b[38;5;241;43m*\u001b[39;49m\u001b[38;5;241;43m*\u001b[39;49m\u001b[43mkwargs\u001b[49m\u001b[43m)\u001b[49m\n",
      "File \u001b[0;32m~/miniconda3/lib/python3.10/site-packages/jax/_src/util.py:246\u001b[0m, in \u001b[0;36mcache.<locals>.wrap.<locals>.cached\u001b[0;34m(_, *args, **kwargs)\u001b[0m\n\u001b[1;32m    244\u001b[0m \u001b[38;5;129m@functools\u001b[39m\u001b[38;5;241m.\u001b[39mlru_cache(max_size)\n\u001b[1;32m    245\u001b[0m \u001b[38;5;28;01mdef\u001b[39;00m \u001b[38;5;21mcached\u001b[39m(_, \u001b[38;5;241m*\u001b[39margs, \u001b[38;5;241m*\u001b[39m\u001b[38;5;241m*\u001b[39mkwargs):\n\u001b[0;32m--> 246\u001b[0m   \u001b[38;5;28;01mreturn\u001b[39;00m \u001b[43mf\u001b[49m\u001b[43m(\u001b[49m\u001b[38;5;241;43m*\u001b[39;49m\u001b[43margs\u001b[49m\u001b[43m,\u001b[49m\u001b[43m \u001b[49m\u001b[38;5;241;43m*\u001b[39;49m\u001b[38;5;241;43m*\u001b[39;49m\u001b[43mkwargs\u001b[49m\u001b[43m)\u001b[49m\n",
      "File \u001b[0;32m~/miniconda3/lib/python3.10/site-packages/jax/_src/lax/lax.py:147\u001b[0m, in \u001b[0;36m_broadcast_shapes_cached\u001b[0;34m(*shapes)\u001b[0m\n\u001b[1;32m    145\u001b[0m \u001b[38;5;129m@cache\u001b[39m()\n\u001b[1;32m    146\u001b[0m \u001b[38;5;28;01mdef\u001b[39;00m \u001b[38;5;21m_broadcast_shapes_cached\u001b[39m(\u001b[38;5;241m*\u001b[39mshapes: Tuple[\u001b[38;5;28mint\u001b[39m, \u001b[38;5;241m.\u001b[39m\u001b[38;5;241m.\u001b[39m\u001b[38;5;241m.\u001b[39m]) \u001b[38;5;241m-\u001b[39m\u001b[38;5;241m>\u001b[39m Tuple[\u001b[38;5;28mint\u001b[39m, \u001b[38;5;241m.\u001b[39m\u001b[38;5;241m.\u001b[39m\u001b[38;5;241m.\u001b[39m]:\n\u001b[0;32m--> 147\u001b[0m   \u001b[38;5;28;01mreturn\u001b[39;00m \u001b[43m_broadcast_shapes_uncached\u001b[49m\u001b[43m(\u001b[49m\u001b[38;5;241;43m*\u001b[39;49m\u001b[43mshapes\u001b[49m\u001b[43m)\u001b[49m\n",
      "File \u001b[0;32m~/miniconda3/lib/python3.10/site-packages/jax/_src/lax/lax.py:163\u001b[0m, in \u001b[0;36m_broadcast_shapes_uncached\u001b[0;34m(*shapes)\u001b[0m\n\u001b[1;32m    162\u001b[0m \u001b[38;5;28;01mif\u001b[39;00m result_shape \u001b[38;5;129;01mis\u001b[39;00m \u001b[38;5;28;01mNone\u001b[39;00m:\n\u001b[0;32m--> 163\u001b[0m   \u001b[38;5;28;01mraise\u001b[39;00m \u001b[38;5;167;01mValueError\u001b[39;00m(\u001b[38;5;124mf\u001b[39m\u001b[38;5;124m\"\u001b[39m\u001b[38;5;124mIncompatible shapes for broadcasting: shapes=\u001b[39m\u001b[38;5;132;01m{\u001b[39;00m\u001b[38;5;28mlist\u001b[39m(shapes)\u001b[38;5;132;01m}\u001b[39;00m\u001b[38;5;124m\"\u001b[39m)\n\u001b[1;32m    164\u001b[0m \u001b[38;5;28;01mreturn\u001b[39;00m result_shape\n",
      "\u001b[0;31mValueError\u001b[0m: Incompatible shapes for broadcasting: shapes=[(101, 11, 3), (101,)]",
      "\nDuring handling of the above exception, another exception occurred:\n",
      "\u001b[0;31mValueError\u001b[0m                                Traceback (most recent call last)",
      "Cell \u001b[0;32mIn[3], line 9\u001b[0m\n\u001b[1;32m      5\u001b[0m psi_B \u001b[38;5;241m=\u001b[39m jnp\u001b[38;5;241m.\u001b[39mzeros(alpha\u001b[38;5;241m.\u001b[39mshape)\n\u001b[1;32m      7\u001b[0m \u001b[38;5;66;03m# Compute the relative observer-source position vector i.e. difference between observer and ac coordinate\u001b[39;00m\n\u001b[1;32m      8\u001b[0m \u001b[38;5;66;03m# Note: add 4 meters to the alitude of the aircraft (for engine height)\u001b[39;00m\n\u001b[0;32m----> 9\u001b[0m r_0 \u001b[38;5;241m=\u001b[39m  \u001b[43mx_obs\u001b[49m\u001b[38;5;241;43m*\u001b[39;49m\u001b[43mjnp\u001b[49m\u001b[38;5;241;43m.\u001b[39;49m\u001b[43mones\u001b[49m\u001b[43m(\u001b[49m\u001b[43m(\u001b[49m\u001b[43mn_t\u001b[49m\u001b[43m,\u001b[49m\u001b[43m \u001b[49m\u001b[43mn_obs\u001b[49m\u001b[43m,\u001b[49m\u001b[43m \u001b[49m\u001b[38;5;241;43m3\u001b[39;49m\u001b[43m)\u001b[49m\u001b[43m)\u001b[49m\u001b[43m \u001b[49m\u001b[38;5;241;43m-\u001b[39;49m\u001b[43m \u001b[49m\u001b[43mx\u001b[49m\n\u001b[1;32m     10\u001b[0m r_1 \u001b[38;5;241m=\u001b[39m  x_obs\u001b[38;5;241m*\u001b[39mjnp\u001b[38;5;241m.\u001b[39mones((n_t, n_obs, \u001b[38;5;241m3\u001b[39m)) \u001b[38;5;241m-\u001b[39m y\n\u001b[1;32m     11\u001b[0m r_2 \u001b[38;5;241m=\u001b[39m \u001b[38;5;241m-\u001b[39mx_obs\u001b[38;5;241m*\u001b[39mjnp\u001b[38;5;241m.\u001b[39mones((n_t, n_obs, \u001b[38;5;241m3\u001b[39m)) \u001b[38;5;241m+\u001b[39m (z \u001b[38;5;241m+\u001b[39m \u001b[38;5;241m4.\u001b[39m)\n",
      "File \u001b[0;32m~/miniconda3/lib/python3.10/site-packages/jax/_src/numpy/lax_numpy.py:4936\u001b[0m, in \u001b[0;36m_defer_to_unrecognized_arg.<locals>.deferring_binary_op\u001b[0;34m(self, other)\u001b[0m\n\u001b[1;32m   4934\u001b[0m args \u001b[38;5;241m=\u001b[39m (other, \u001b[38;5;28mself\u001b[39m) \u001b[38;5;28;01mif\u001b[39;00m swap \u001b[38;5;28;01melse\u001b[39;00m (\u001b[38;5;28mself\u001b[39m, other)\n\u001b[1;32m   4935\u001b[0m \u001b[38;5;28;01mif\u001b[39;00m \u001b[38;5;28misinstance\u001b[39m(other, _accepted_binop_types):\n\u001b[0;32m-> 4936\u001b[0m   \u001b[38;5;28;01mreturn\u001b[39;00m \u001b[43mbinary_op\u001b[49m\u001b[43m(\u001b[49m\u001b[38;5;241;43m*\u001b[39;49m\u001b[43margs\u001b[49m\u001b[43m)\u001b[49m\n\u001b[1;32m   4937\u001b[0m \u001b[38;5;28;01mif\u001b[39;00m \u001b[38;5;28misinstance\u001b[39m(other, _rejected_binop_types):\n\u001b[1;32m   4938\u001b[0m   \u001b[38;5;28;01mraise\u001b[39;00m \u001b[38;5;167;01mTypeError\u001b[39;00m(\u001b[38;5;124mf\u001b[39m\u001b[38;5;124m\"\u001b[39m\u001b[38;5;124munsupported operand type(s) for \u001b[39m\u001b[38;5;132;01m{\u001b[39;00mopchar\u001b[38;5;132;01m}\u001b[39;00m\u001b[38;5;124m: \u001b[39m\u001b[38;5;124m\"\u001b[39m\n\u001b[1;32m   4939\u001b[0m                   \u001b[38;5;124mf\u001b[39m\u001b[38;5;124m\"\u001b[39m\u001b[38;5;132;01m{\u001b[39;00m\u001b[38;5;28mtype\u001b[39m(args[\u001b[38;5;241m0\u001b[39m])\u001b[38;5;241m.\u001b[39m\u001b[38;5;18m__name__\u001b[39m\u001b[38;5;132;01m!r}\u001b[39;00m\u001b[38;5;124m and \u001b[39m\u001b[38;5;132;01m{\u001b[39;00m\u001b[38;5;28mtype\u001b[39m(args[\u001b[38;5;241m1\u001b[39m])\u001b[38;5;241m.\u001b[39m\u001b[38;5;18m__name__\u001b[39m\u001b[38;5;132;01m!r}\u001b[39;00m\u001b[38;5;124m\"\u001b[39m)\n",
      "    \u001b[0;31m[... skipping hidden 11 frame]\u001b[0m\n",
      "File \u001b[0;32m~/miniconda3/lib/python3.10/site-packages/jax/_src/numpy/ufuncs.py:83\u001b[0m, in \u001b[0;36m_one_to_one_binop.<locals>.<lambda>\u001b[0;34m(x1, x2)\u001b[0m\n\u001b[1;32m     81\u001b[0m   fn \u001b[38;5;241m=\u001b[39m \u001b[38;5;28;01mlambda\u001b[39;00m x1, x2: lax_fn(\u001b[38;5;241m*\u001b[39m_promote_args_numeric(numpy_fn\u001b[38;5;241m.\u001b[39m\u001b[38;5;18m__name__\u001b[39m, x1, x2))\n\u001b[1;32m     82\u001b[0m \u001b[38;5;28;01melse\u001b[39;00m:\n\u001b[0;32m---> 83\u001b[0m   fn \u001b[38;5;241m=\u001b[39m \u001b[38;5;28;01mlambda\u001b[39;00m x1, x2: lax_fn(\u001b[38;5;241m*\u001b[39m\u001b[43m_promote_args\u001b[49m\u001b[43m(\u001b[49m\u001b[43mnumpy_fn\u001b[49m\u001b[38;5;241;43m.\u001b[39;49m\u001b[38;5;18;43m__name__\u001b[39;49m\u001b[43m,\u001b[49m\u001b[43m \u001b[49m\u001b[43mx1\u001b[49m\u001b[43m,\u001b[49m\u001b[43m \u001b[49m\u001b[43mx2\u001b[49m\u001b[43m)\u001b[49m)\n\u001b[1;32m     84\u001b[0m fn\u001b[38;5;241m.\u001b[39m\u001b[38;5;18m__qualname__\u001b[39m \u001b[38;5;241m=\u001b[39m \u001b[38;5;124mf\u001b[39m\u001b[38;5;124m\"\u001b[39m\u001b[38;5;124mjax.numpy.\u001b[39m\u001b[38;5;132;01m{\u001b[39;00mnumpy_fn\u001b[38;5;241m.\u001b[39m\u001b[38;5;18m__name__\u001b[39m\u001b[38;5;132;01m}\u001b[39;00m\u001b[38;5;124m\"\u001b[39m\n\u001b[1;32m     85\u001b[0m fn \u001b[38;5;241m=\u001b[39m jit(fn, inline\u001b[38;5;241m=\u001b[39m\u001b[38;5;28;01mTrue\u001b[39;00m)\n",
      "File \u001b[0;32m~/miniconda3/lib/python3.10/site-packages/jax/_src/numpy/util.py:365\u001b[0m, in \u001b[0;36m_promote_args\u001b[0;34m(fun_name, *args)\u001b[0m\n\u001b[1;32m    363\u001b[0m _check_arraylike(fun_name, \u001b[38;5;241m*\u001b[39margs)\n\u001b[1;32m    364\u001b[0m _check_no_float0s(fun_name, \u001b[38;5;241m*\u001b[39margs)\n\u001b[0;32m--> 365\u001b[0m \u001b[38;5;28;01mreturn\u001b[39;00m \u001b[43m_promote_shapes\u001b[49m\u001b[43m(\u001b[49m\u001b[43mfun_name\u001b[49m\u001b[43m,\u001b[49m\u001b[43m \u001b[49m\u001b[38;5;241;43m*\u001b[39;49m\u001b[43m_promote_dtypes\u001b[49m\u001b[43m(\u001b[49m\u001b[38;5;241;43m*\u001b[39;49m\u001b[43margs\u001b[49m\u001b[43m)\u001b[49m\u001b[43m)\u001b[49m\n",
      "File \u001b[0;32m~/miniconda3/lib/python3.10/site-packages/jax/_src/numpy/util.py:258\u001b[0m, in \u001b[0;36m_promote_shapes\u001b[0;34m(fun_name, *args)\u001b[0m\n\u001b[1;32m    256\u001b[0m \u001b[38;5;28;01mif\u001b[39;00m config\u001b[38;5;241m.\u001b[39mjax_numpy_rank_promotion \u001b[38;5;241m!=\u001b[39m \u001b[38;5;124m\"\u001b[39m\u001b[38;5;124mallow\u001b[39m\u001b[38;5;124m\"\u001b[39m:\n\u001b[1;32m    257\u001b[0m   _rank_promotion_warning_or_error(fun_name, shapes)\n\u001b[0;32m--> 258\u001b[0m result_rank \u001b[38;5;241m=\u001b[39m \u001b[38;5;28mlen\u001b[39m(\u001b[43mlax\u001b[49m\u001b[38;5;241;43m.\u001b[39;49m\u001b[43mbroadcast_shapes\u001b[49m\u001b[43m(\u001b[49m\u001b[38;5;241;43m*\u001b[39;49m\u001b[43mshapes\u001b[49m\u001b[43m)\u001b[49m)\n\u001b[1;32m    259\u001b[0m \u001b[38;5;28;01mreturn\u001b[39;00m [_broadcast_to(arg, (\u001b[38;5;241m1\u001b[39m,) \u001b[38;5;241m*\u001b[39m (result_rank \u001b[38;5;241m-\u001b[39m \u001b[38;5;28mlen\u001b[39m(shp)) \u001b[38;5;241m+\u001b[39m shp)\n\u001b[1;32m    260\u001b[0m         \u001b[38;5;28;01mfor\u001b[39;00m arg, shp \u001b[38;5;129;01min\u001b[39;00m \u001b[38;5;28mzip\u001b[39m(args, shapes)]\n",
      "    \u001b[0;31m[... skipping hidden 1 frame]\u001b[0m\n",
      "File \u001b[0;32m~/miniconda3/lib/python3.10/site-packages/jax/_src/lax/lax.py:163\u001b[0m, in \u001b[0;36m_broadcast_shapes_uncached\u001b[0;34m(*shapes)\u001b[0m\n\u001b[1;32m    161\u001b[0m result_shape \u001b[38;5;241m=\u001b[39m _try_broadcast_shapes(shape_list)\n\u001b[1;32m    162\u001b[0m \u001b[38;5;28;01mif\u001b[39;00m result_shape \u001b[38;5;129;01mis\u001b[39;00m \u001b[38;5;28;01mNone\u001b[39;00m:\n\u001b[0;32m--> 163\u001b[0m   \u001b[38;5;28;01mraise\u001b[39;00m \u001b[38;5;167;01mValueError\u001b[39;00m(\u001b[38;5;124mf\u001b[39m\u001b[38;5;124m\"\u001b[39m\u001b[38;5;124mIncompatible shapes for broadcasting: shapes=\u001b[39m\u001b[38;5;132;01m{\u001b[39;00m\u001b[38;5;28mlist\u001b[39m(shapes)\u001b[38;5;132;01m}\u001b[39;00m\u001b[38;5;124m\"\u001b[39m)\n\u001b[1;32m    164\u001b[0m \u001b[38;5;28;01mreturn\u001b[39;00m result_shape\n",
      "\u001b[0;31mValueError\u001b[0m: Incompatible shapes for broadcasting: shapes=[(101, 11, 3), (101,)]"
     ]
    }
   ],
   "source": [
    "# Geometry calculations\n",
    "# Compute body angles (psi_B, theta_B, phi_B): angle of body w.r.t. horizontal\n",
    "theta_B = alpha + gamma\n",
    "phi_B = jnp.zeros(alpha.shape)\n",
    "psi_B = jnp.zeros(alpha.shape)\n",
    "\n",
    "# Compute the relative observer-source position vector i.e. difference between observer and ac coordinate\n",
    "# Note: add 4 meters to the alitude of the aircraft (for engine height)\n",
    "r_0 =  x_obs[:,0] - x\n",
    "# r_1 =  x_obs[1] - y\n",
    "# r_2 = -x_obs[2] + (z + 4)\n"
   ]
  },
  {
   "cell_type": "code",
   "execution_count": null,
   "id": "f0bbb1cf",
   "metadata": {},
   "outputs": [],
   "source": []
  },
  {
   "cell_type": "code",
   "execution_count": 47,
   "id": "11c8ab7e",
   "metadata": {
    "code_folding": []
   },
   "outputs": [],
   "source": [
    "def compute_geometry(x, y, z, alpha, gamma, t_s, c_0, T_0, x_obs):\n",
    "\n",
    "    # Iterate over observers\n",
    "    for i in np.arange(n_obs):\n",
    "\n",
    "        # Geometry calculations\n",
    "        # Compute body angles (psi_B, theta_B, phi_B): angle of body w.r.t. horizontal\n",
    "        theta_B = alpha + gamma\n",
    "        phi_B = np.zeros(alpha.shape)\n",
    "        psi_B = np.zeros(alpha.shape)\n",
    "\n",
    "        # Compute the relative observer-source position vector i.e. difference between observer and ac coordinate\n",
    "        # Note: add 4 meters to the alitude of the aircraft (for engine height)\n",
    "        r_0 =  settings['x_observer_array'][i,0] - x\n",
    "        r_1 =  settings['x_observer_array'][i,1] - y\n",
    "        r_2 = -settings['x_observer_array'][i,2] + (z + 4)\n",
    "\n",
    "        # Compute the distance of the observer-source vector\n",
    "        R = np.sqrt(r_0 ** 2 + r_1 ** 2 + r_2 ** 2)\n",
    "        outputs['r'][i,:] = R\n",
    "\n",
    "        # Normalize the distance vector\n",
    "        # Source: Zorumski report 1982 part 1. Chapter 2.2 Equation 17\n",
    "        n_vcr_a_0 = r_0 / R\n",
    "        n_vcr_a_1 = r_1 / R\n",
    "        n_vcr_a_2 = r_2 / R\n",
    "\n",
    "        # Define elevation angle\n",
    "        # Source: Zorumski report 1982 part 1. Chapter 2.2 Equation 21\n",
    "        outputs['beta'][i,:] = 180. / np.pi * np.arcsin(n_vcr_a_2)\n",
    "\n",
    "        # Transformation direction cosines (Euler angles) to the source coordinate system (i.e. take position of the aircraft into account)\n",
    "        # Source: Zorumski report 1982 part 1. Chapter 2.2 Equation 22-25\n",
    "        cth  = np.cos(np.pi / 180. * theta_B)\n",
    "        sth  = np.sin(np.pi / 180. * theta_B)\n",
    "        cphi = np.cos(np.pi / 180. * phi_B)\n",
    "        sphi = np.sin(np.pi / 180. * phi_B)\n",
    "        cpsi = np.cos(np.pi / 180. * psi_B)\n",
    "        spsi = np.sin(np.pi / 180. * psi_B)\n",
    "\n",
    "        n_vcr_s_0 = cth * cpsi * n_vcr_a_0 + cth * spsi * n_vcr_a_1 - sth * n_vcr_a_2\n",
    "        n_vcr_s_1 = (-spsi * cphi + sphi * sth * cpsi) * n_vcr_a_0 + ( cphi * cpsi + sphi * sth * spsi) * n_vcr_a_1 + sphi * cth * n_vcr_a_2\n",
    "        n_vcr_s_2 = (spsi * sphi + cphi * sth * cpsi) * n_vcr_a_0 + ( -sphi * cpsi + cphi * sth * spsi) * n_vcr_a_1 + cphi * cth * n_vcr_a_2\n",
    "\n",
    "        # Compute polar directivity angle\n",
    "        # Source: Zorumski report 1982 part 1. Chapter 2.2 Equation 26\n",
    "        theta = 180. / np.pi * np.arccos(n_vcr_s_0)\n",
    "        outputs['theta'][i,:] = theta\n",
    "\n",
    "        # Compute azimuthal directivity angle\n",
    "        # Source: Zorumski report 1982 part 1. Chapter 2.2 Equation 27\n",
    "        phi = -180. / np.pi * np.arctan2(n_vcr_s_1, n_vcr_s_2)\n",
    "        if settings['case_name'] in [\"nasa_stca_standard\", \"stca_enginedesign_standard\"]:\n",
    "            outputs['phi'][i, :] = np.zeros(n_t)\n",
    "        else:\n",
    "            phi[phi==-180.] = np.zeros(n_t)[phi==-180.]\n",
    "            outputs['phi'][i,:] = phi\n",
    "\n",
    "        # Compute average speed of sound between source and observer\n",
    "        n_intermediate = 11\n",
    "        dz = z / n_intermediate\n",
    "        c_bar = c_0\n",
    "        for k in np.arange(1, n_intermediate):\n",
    "            T_im = T_0 - k * dz * (-0.0065)\n",
    "            c_im = np.sqrt(1.4 * 287. * T_im)\n",
    "            c_bar = (k) / (k + 1) * c_bar + c_im / (k + 1)\n",
    "        outputs['c_bar'][i,:] = c_bar\n",
    "\n",
    "        # Compute observed time\n",
    "        # Source: Zorumski report 1982 part 1. Chapter 2.2 Equation 20\n",
    "        outputs['t_o'][i,:] = t_s + outputs['r'][i,:] / outputs['c_bar'][i,:]\n",
    "\n",
    "    return "
   ]
  },
  {
   "cell_type": "code",
   "execution_count": 53,
   "id": "3fe37da8",
   "metadata": {},
   "outputs": [],
   "source": []
  },
  {
   "cell_type": "code",
   "execution_count": 54,
   "id": "2fd975cf",
   "metadata": {},
   "outputs": [
    {
     "data": {
      "text/plain": [
       "(DeviceArray([3528.811 , 3528.7117, 3528.6125, ..., 2540.702 , 2540.6038,\n",
       "              2540.5054], dtype=float32),\n",
       " DeviceArray([12.411426, 12.413254, 12.415129, ..., 33.692154, 33.694454,\n",
       "              33.696766], dtype=float32))"
      ]
     },
     "execution_count": 54,
     "metadata": {},
     "output_type": "execute_result"
    }
   ],
   "source": [
    "compute_geometry(x, y, z, alpha, gamma, t_s, c_0, T_0, x_obs)"
   ]
  },
  {
   "cell_type": "code",
   "execution_count": 55,
   "id": "597e96a4",
   "metadata": {
    "scrolled": false
   },
   "outputs": [
    {
     "name": "stdout",
     "output_type": "stream",
     "text": [
      "CPU times: user 9.78 s, sys: 10.1 s, total: 19.9 s\n",
      "Wall time: 8.7 s\n"
     ]
    },
    {
     "data": {
      "text/plain": [
       "(DeviceArray([[-0.9918354 , -0.        , -0.        , ..., -0.        ,\n",
       "               -0.        , -0.        ],\n",
       "              [-0.        , -0.99183506, -0.        , ..., -0.        ,\n",
       "               -0.        , -0.        ],\n",
       "              [-0.        , -0.        , -0.9918346 , ..., -0.        ,\n",
       "               -0.        , -0.        ],\n",
       "              ...,\n",
       "              [-0.        , -0.        , -0.        , ..., -0.98405886,\n",
       "               -0.        , -0.        ],\n",
       "              [-0.        , -0.        , -0.        , ..., -0.        ,\n",
       "               -0.9840574 , -0.        ],\n",
       "              [-0.        , -0.        , -0.        , ..., -0.        ,\n",
       "               -0.        , -0.9840562 ]], dtype=float32),\n",
       " DeviceArray([[ 0.00122017, -0.        , -0.        , ..., -0.        ,\n",
       "               -0.        , -0.        ],\n",
       "              [-0.        ,  0.00122013, -0.        , ..., -0.        ,\n",
       "               -0.        , -0.        ],\n",
       "              [-0.        , -0.        ,  0.00122008, ..., -0.        ,\n",
       "               -0.        , -0.        ],\n",
       "              ...,\n",
       "              [-0.        , -0.        , -0.        , ...,  0.0019226 ,\n",
       "               -0.        , -0.        ],\n",
       "              [-0.        , -0.        , -0.        , ..., -0.        ,\n",
       "                0.0019228 , -0.        ],\n",
       "              [-0.        , -0.        , -0.        , ..., -0.        ,\n",
       "               -0.        ,  0.00192298]], dtype=float32))"
      ]
     },
     "execution_count": 55,
     "metadata": {},
     "output_type": "execute_result"
    }
   ],
   "source": [
    "f_p = jax.jacfwd(compute_geometry, argnums=0)\n",
    "\n",
    "%time J = f_p(x, y, z, alpha, gamma, t_s, c_0, T_0, x_obs)\n",
    "\n",
    "J"
   ]
  },
  {
   "cell_type": "code",
   "execution_count": 56,
   "id": "f0ed8441",
   "metadata": {},
   "outputs": [
    {
     "name": "stdout",
     "output_type": "stream",
     "text": [
      "CPU times: user 68.3 ms, sys: 4.73 ms, total: 73.1 ms\n",
      "Wall time: 72.2 ms\n"
     ]
    },
    {
     "data": {
      "text/plain": [
       "((DeviceArray([3528.811 , 3528.7117, 3528.6125, ..., 2540.702 , 2540.6038,\n",
       "               2540.5054], dtype=float32),\n",
       "  DeviceArray([12.411426, 12.413254, 12.415129, ..., 33.692154, 33.694454,\n",
       "               33.696766], dtype=float32)),\n",
       " (DeviceArray([-0.9918354 , -0.99183506, -0.9918346 , ..., -0.98405886,\n",
       "               -0.9840574 , -0.9840562 ], dtype=float32),\n",
       "  DeviceArray([0.00122017, 0.00122013, 0.00122008, ..., 0.0019226 ,\n",
       "               0.0019228 , 0.00192298], dtype=float32)))"
      ]
     },
     "execution_count": 56,
     "metadata": {},
     "output_type": "execute_result"
    }
   ],
   "source": [
    "%time jax.jvp(compute_geometry, (x, y, z, alpha, gamma, t_s, c_0, T_0, x_obs), (jnp.ones(nn), jnp.zeros(nn), jnp.zeros(nn), jnp.zeros(nn), jnp.zeros(nn), jnp.zeros(nn), jnp.zeros(nn), jnp.zeros(nn), jnp.zeros(3)))"
   ]
  },
  {
   "cell_type": "code",
   "execution_count": 34,
   "id": "300cae26",
   "metadata": {},
   "outputs": [
    {
     "name": "stdout",
     "output_type": "stream",
     "text": [
      "CPU times: user 38 µs, sys: 6 µs, total: 44 µs\n",
      "Wall time: 49.1 µs\n"
     ]
    },
    {
     "data": {
      "text/plain": [
       "DeviceArray([ 0.        , -0.914945  ,  0.73850435,  0.31885597,\n",
       "             -0.9958712 ,  0.48499522,  0.60442543, -0.97282773,\n",
       "              0.18080507,  0.82687956], dtype=float32)"
      ]
     },
     "execution_count": 34,
     "metadata": {},
     "output_type": "execute_result"
    }
   ],
   "source": [
    "%time jnp.sin(x)"
   ]
  },
  {
   "cell_type": "code",
   "execution_count": null,
   "id": "51c39a02",
   "metadata": {},
   "outputs": [],
   "source": []
  },
  {
   "cell_type": "code",
   "execution_count": 26,
   "id": "a853e27a",
   "metadata": {},
   "outputs": [],
   "source": [
    "import matplotlib.pyplot as plt"
   ]
  },
  {
   "cell_type": "code",
   "execution_count": 28,
   "id": "19866386",
   "metadata": {},
   "outputs": [
    {
     "data": {
      "text/plain": [
       "<matplotlib.image.AxesImage at 0x7f875b50eb90>"
      ]
     },
     "execution_count": 28,
     "metadata": {},
     "output_type": "execute_result"
    },
    {
     "data": {
      "image/png": "[encoded data removed]",
      "text/plain": [
       "<Figure size 640x480 with 1 Axes>"
      ]
     },
     "metadata": {},
     "output_type": "display_data"
    }
   ],
   "source": [
    "plt.spy(J)"
   ]
  },
  {
   "cell_type": "code",
   "execution_count": null,
   "id": "d7937eda",
   "metadata": {},
   "outputs": [],
   "source": []
  }
 ],
 "metadata": {
  "kernelspec": {
   "display_name": "Python 3 (ipykernel)",
   "language": "python",
   "name": "python3"
  },
  "language_info": {
   "codemirror_mode": {
    "name": "ipython",
    "version": 3
   },
   "file_extension": ".py",
   "mimetype": "text/x-python",
   "name": "python",
   "nbconvert_exporter": "python",
   "pygments_lexer": "ipython3",
   "version": "3.10.9"
  }
 },
 "nbformat": 4,
 "nbformat_minor": 5
}
