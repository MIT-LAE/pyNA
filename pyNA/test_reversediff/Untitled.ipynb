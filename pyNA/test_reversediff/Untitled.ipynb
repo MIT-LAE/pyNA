{
 "cells": [
  {
   "cell_type": "code",
   "execution_count": 63,
   "metadata": {},
   "outputs": [
    {
     "data": {
      "text/plain": [
       "get_a_weighting_interpolation_functions (generic function with 1 method)"
      ]
     },
     "execution_count": 63,
     "metadata": {},
     "output_type": "execute_result"
    }
   ],
   "source": [
    "using BenchmarkTools\n",
    "using ReverseDiff: JacobianTape, jacobian!, compile\n",
    "using Revise\n",
    "using CSV\n",
    "using DataFrames\n",
    "include(\"../src/noise_src_jl/get_interpolation_functions.jl\")"
   ]
  },
  {
   "cell_type": "code",
   "execution_count": 158,
   "metadata": {},
   "outputs": [
    {
     "data": {
      "text/plain": [
       "get_noise! (generic function with 1 method)"
      ]
     },
     "execution_count": 158,
     "metadata": {},
     "output_type": "execute_result"
    }
   ],
   "source": [
    "function get_noise!(output_v, input_v)\n",
    "   \n",
    "    n_obs = 12\n",
    "    n_t_target = 100\n",
    "    \n",
    "    t_o = zeros(eltype(input_v), (n_obs, n_t_target))\n",
    "    level = zeros(eltype(input_v), (n_obs, n_t_target))\n",
    "    level_int = zeros(eltype(input_v), n_obs)\n",
    "    \n",
    "    for i in 1:1:n_obs\n",
    "        for j in 1:1:n_t_target\n",
    "        \n",
    "            continue\n",
    "            t_o[i,j] = input_v[4]*3\n",
    "            \n",
    "            level[i,j] = input_v[2]*2\n",
    "            \n",
    "        end\n",
    "        \n",
    "        level_int[i] = sum(@view(level[i,:]))\n",
    "    end\n",
    "    \n",
    "    output_v = [level_int[2], level_int[end]]\n",
    "    \n",
    "end"
   ]
  },
  {
   "cell_type": "code",
   "execution_count": 162,
   "metadata": {},
   "outputs": [
    {
     "name": "stdout",
     "output_type": "stream",
     "text": [
      "  0.000034 seconds (8 allocations: 19.625 KiB)\n"
     ]
    },
    {
     "data": {
      "text/plain": [
       "2-element Array{Float64,1}:\n",
       " 0.0\n",
       " 0.0"
      ]
     },
     "execution_count": 162,
     "metadata": {},
     "output_type": "execute_result"
    }
   ],
   "source": [
    "output_v = zeros(2)\n",
    "@time get_noise!(output_v, vcat(1., 4., 5., 2., 3., 4., 5.))"
   ]
  },
  {
   "cell_type": "code",
   "execution_count": 163,
   "metadata": {},
   "outputs": [
    {
     "data": {
      "text/plain": [
       "2-element Array{Float64,1}:\n",
       " 0.0\n",
       " 0.0"
      ]
     },
     "execution_count": 163,
     "metadata": {},
     "output_type": "execute_result"
    }
   ],
   "source": [
    "output_v"
   ]
  },
  {
   "cell_type": "code",
   "execution_count": null,
   "metadata": {},
   "outputs": [],
   "source": []
  }
 ],
 "metadata": {
  "kernelspec": {
   "display_name": "Julia 1.5.3",
   "language": "julia",
   "name": "julia-1.5"
  },
  "language_info": {
   "file_extension": ".jl",
   "mimetype": "application/julia",
   "name": "julia",
   "version": "1.5.3"
  }
 },
 "nbformat": 4,
 "nbformat_minor": 4
}
