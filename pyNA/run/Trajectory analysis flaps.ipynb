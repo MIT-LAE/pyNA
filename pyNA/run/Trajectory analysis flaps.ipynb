{
 "cells": [
  {
   "cell_type": "code",
   "execution_count": 1,
   "metadata": {
    "code_folding": [
     0
    ]
   },
   "outputs": [
    {
     "data": {
      "text/html": [
       "<style>.container { width:100% !important; }</style>"
      ],
      "text/plain": [
       "<IPython.core.display.HTML object>"
      ]
     },
     "metadata": {},
     "output_type": "display_data"
    }
   ],
   "source": [
    "# Imports \n",
    "import os\n",
    "import sys\n",
    "sys.path.append(\"..\")\n",
    "os.environ[\"pyna_language\"] = 'python'\n",
    "import pdb\n",
    "import numpy as np\n",
    "import openmdao.api as om\n",
    "import pandas as pd\n",
    "pd.set_option('max_columns', None)\n",
    "pd.set_option('max_rows', None)\n",
    "import matplotlib.pyplot as plt\n",
    "%matplotlib inline\n",
    "from pyNA.pyna import pyna\n",
    "\n",
    "from IPython.display import clear_output\n",
    "from IPython.core.display import display, HTML\n",
    "display(HTML(\"<style>.container { width:100% !important; }</style>\"))"
   ]
  },
  {
   "cell_type": "code",
   "execution_count": 2,
   "metadata": {
    "scrolled": true
   },
   "outputs": [],
   "source": [
    "# Load verification trajectory\n",
    "nasa_std = pd.read_csv('../cases/NASA STCA Standard/trajectory/Trajectory_to.csv')\n",
    "\n",
    "pyna_settings = pyna.load_settings(case_name='stca')\n",
    "pyna_settings.engine_file_name = \"engine_deck_stca.csv\"\n",
    "pyna_settings.TS_cutback = 1.\n",
    "pyna_settings.z_cutback = 1000.\n",
    "pyna_settings.theta_flaps = 0."
   ]
  },
  {
   "cell_type": "code",
   "execution_count": 3,
   "metadata": {
    "scrolled": true
   },
   "outputs": [],
   "source": [
    "# py = pyna(pyna_settings)\n",
    "# py.compute_trajectory()"
   ]
  },
  {
   "cell_type": "code",
   "execution_count": 4,
   "metadata": {
    "scrolled": true
   },
   "outputs": [],
   "source": [
    "# Run trajectories\n",
    "n_flaps = 14\n",
    "theta_flaps_lst = np.linspace(0, 26, n_flaps)\n",
    "\n",
    "converged = np.ones(n_flaps)\n",
    "py = dict()\n",
    "for i, pyna_settings.theta_flaps in enumerate(theta_flaps_lst):\n",
    "    py[str(i)] = pyna(pyna_settings)\n",
    "    converged[i] = py[str(i)].compute_trajectory()\n",
    "\n",
    "clear_output()"
   ]
  },
  {
   "cell_type": "code",
   "execution_count": 5,
   "metadata": {
    "code_folding": []
   },
   "outputs": [],
   "source": [
    "# Analyze the trajectories \n",
    "n_flaps = 14\n",
    "theta_flaps_lst = np.linspace(0, 26, n_flaps)\n",
    "x_groundroll = np.zeros(n_flaps)\n",
    "cl_groundroll = np.zeros(n_flaps)\n",
    "cd_groundroll = np.zeros(n_flaps)\n",
    "\n",
    "v_rotation = np.zeros(n_flaps)\n",
    "x_rotation = np.zeros(n_flaps)\n",
    "\n",
    "x_climb = np.zeros(n_flaps)\n",
    "gamma_climb = np.zeros(n_flaps)\n",
    "F_n_climb = np.zeros(n_flaps)\n",
    "v_climb = np.zeros(n_flaps)\n",
    "alpha_climb = np.zeros(n_flaps)\n",
    "c_l_climb = np.zeros(n_flaps)\n",
    "c_d_climb = np.zeros(n_flaps)\n",
    "D_climb = np.zeros(n_flaps)\n",
    "L_climb = np.zeros(n_flaps)\n",
    "vdot_climb = np.zeros(n_flaps)\n",
    "gammadot_climb = np.zeros(n_flaps)\n",
    "\n",
    "for i, _ in enumerate(theta_flaps_lst):\n",
    "    if converged[i]:\n",
    "        x_groundroll[i] = py[str(i)].problem.get_val('phases.groundroll.interpolated.states:x')[-1]\n",
    "        cl_groundroll[i] = py[str(i)].problem.get_val('phases.groundroll.interpolated.c_l')[-1]\n",
    "        cd_groundroll[i] = py[str(i)].problem.get_val('phases.groundroll.interpolated.c_d')[-1]\n",
    "\n",
    "        x_rotation[i] = py[str(i)].problem.get_val('phases.rotation.interpolated.states:x')[-1] - py[str(i)].problem.get_val('phases.groundroll.interpolated.states:x')[-1]\n",
    "        v_rotation[i] = py[str(i)].ac.v_rot\n",
    "    \n",
    "        x_climb[i] = py[str(i)].problem.get_val('phases.climb.interpolated.states:x')[-1] - py[str(i)].problem.get_val('phases.rotation.interpolated.states:x')[-1]\n",
    "        gamma_climb[i] = py[str(i)].problem.get_val('phases.climb.interpolated.states:gamma')[-1]\n",
    "        alpha_climb[i] = py[str(i)].problem.get_val('phases.climb.interpolated.controls:alpha')[-1]\n",
    "        F_n_climb[i] = py[str(i)].problem.get_val('phases.climb.interpolated.F_n')[-1]\n",
    "        v_climb[i] = py[str(i)].problem.get_val('phases.climb.interpolated.states:v')[-1]\n",
    "        c_l_climb[i] = py[str(i)].problem.get_val('phases.climb.interpolated.c_l')[-1]\n",
    "        c_d_climb[i] = py[str(i)].problem.get_val('phases.climb.interpolated.c_d')[-1]\n",
    "        D_climb[i] = py[str(i)].problem.get_val('phases.climb.interpolated.D')[-1]\n",
    "        L_climb[i] = py[str(i)].problem.get_val('phases.climb.interpolated.L')[-1]\n",
    "        vdot_climb[i] = py[str(i)].problem.get_val('phases.climb.interpolated.state_rates:v')[-1]\n",
    "        gammadot_climb[i] = py[str(i)].problem.get_val('phases.climb.interpolated.state_rates:gamma')[-1]\n",
    "        \n",
    "# x_total = x_groundroll + x_rotation + x_climb"
   ]
  },
  {
   "cell_type": "code",
   "execution_count": null,
   "metadata": {},
   "outputs": [],
   "source": [
    "fig, ax = plt.subplots(1,2,figsize=(20,4))\n",
    "plt.style.use('../utils/plot.mplstyle')\n",
    "ax[0].plot(theta_flaps_lst, x_groundroll, '-o', label='groundroll')\n",
    "ax[0].plot(theta_flaps_lst, x_rotation, '-o', label='rotation')\n",
    "ax[0].plot(theta_flaps_lst, x_climb, '-o', label='climb')\n",
    "ax[0].plot(theta_flaps_lst, x_vnrs, '-o', label='vnrs')\n",
    "\n",
    "# ax[0].plot(theta_flaps_lst, x_total/x_total[0], 'k--', label='total')\n",
    "\n",
    "ax[0].set_xlabel(r'$\\theta_{flap}$ [deg]')\n",
    "ax[0].set_ylabel(r'$x/x_{no\\ flaps}$')\n",
    "ax[0].legend(fontsize=14, loc='lower left', bbox_to_anchor=(0.0, 1.0), ncol=1, borderaxespad=0, frameon=False)\n",
    "ax[0].set_ylim([-0.05*np.max(x_vnrs),1.05*np.max(x_vnrs)])\n",
    "\n",
    "plt.subplots_adjust(wspace=0.4)"
   ]
  },
  {
   "cell_type": "code",
   "execution_count": null,
   "metadata": {},
   "outputs": [],
   "source": [
    "fig, ax = plt.subplots(1,2,figsize=(20,4))\n",
    "plt.style.use('../utils/plot.mplstyle')\n",
    "ax[0].plot(theta_flaps_lst, x_groundroll, '-o', label='groundroll')\n",
    "ax[0].plot(theta_flaps_lst, x_rotation, '-o', label='rotation')\n",
    "ax[0].plot(theta_flaps_lst, x_climb, '-o', label='climb')\n",
    "ax[0].plot(theta_flaps_lst, x_vnrs, '-o', label='vnrs')\n",
    "\n",
    "ax[0].plot(theta_flaps_lst, x_total, 'k--', label='total')\n",
    "\n",
    "ax[0].set_xlabel(r'$\\theta_{flap}$ [deg]')\n",
    "ax[0].set_ylabel(r'$x/x_{no\\ flaps}$')\n",
    "ax[0].legend(fontsize=14, loc='lower left', bbox_to_anchor=(0.0, 1.0), ncol=1, borderaxespad=0, frameon=False)\n",
    "# ax[0].set_ylim([0.8,1.5])\n",
    "\n",
    "plt.subplots_adjust(wspace=0.4)"
   ]
  },
  {
   "cell_type": "code",
   "execution_count": null,
   "metadata": {
    "code_folding": [
     11
    ],
    "scrolled": true
   },
   "outputs": [],
   "source": [
    "# Iterate through flap settings\n",
    "n_flaps = 14\n",
    "theta_flaps_lst = np.linspace(0, 26, n_flaps)\n",
    "x_groundroll = np.zeros(n_flaps)\n",
    "x_rotation = np.zeros(n_flaps)\n",
    "x_climb = np.zeros(n_flaps)\n",
    "cd_groundroll = np.zeros(n_flaps)\n",
    "cl_groundroll = np.zeros(n_flaps)\n",
    "v_rotation = np.zeros(n_flaps)\n",
    "\n",
    "\n",
    "for i, pyna_settings.theta_flaps in enumerate(theta_flaps_lst):\n",
    "    py = pyna(pyna_settings)\n",
    "    py.compute_trajectory()\n",
    "    x_groundroll[i] = py.problem.get_val('phases.groundroll.interpolated.states:x')[-1]\n",
    "    x_rotation[i] = py.problem.get_val('phases.rotation.interpolated.states:x')[-1] - py.problem.get_val('phases.groundroll.interpolated.states:x')[-1]\n",
    "    x_climb[i] = py.problem.get_val('phases.climb.interpolated.states:x')[-1] - py.problem.get_val('phases.rotation.interpolated.states:x')[-1]\n",
    "\n",
    "    cl_groundroll[i] = py.problem.get_val('trajectory.c_l')[-1]\n",
    "    cd_groundroll[i] = py.problem.get_val('trajectory.c_d')[-1]\n",
    "    v_rotation[i] = py.ac.v_rot\n",
    "    clear_output()"
   ]
  },
  {
   "cell_type": "code",
   "execution_count": null,
   "metadata": {},
   "outputs": [],
   "source": [
    "plt.plot(theta_flaps_lst, x_climb)"
   ]
  },
  {
   "cell_type": "markdown",
   "metadata": {},
   "source": [
    "# Climb"
   ]
  },
  {
   "cell_type": "code",
   "execution_count": null,
   "metadata": {},
   "outputs": [],
   "source": [
    "fig, ax = plt.subplots(1, 4, figsize=(22,4))\n",
    "plt.style.use('../utils/plot.mplstyle')\n",
    "ax[0].plot(theta_flaps_lst, x_groundroll/x_groundroll[0], label='groundroll')\n",
    "ax[0].plot(theta_flaps_lst, x_rotation/x_rotation[0], label='rotation')\n",
    "ax[0].plot(theta_flaps_lst, x_climb/x_climb[0], label='climb')\n",
    "ax[0].plot(theta_flaps_lst, x_total/x_total[0], '--k', label='total')\n",
    "ax[0].set_xlabel(r'$\\theta_{flap}$ [deg]')\n",
    "ax[0].set_ylabel(r'$x/x_{no\\ flaps}$')\n",
    "ax[0].legend(fontsize=14, loc='lower left', frameon=False, bbox_to_anchor=(0, 1.0), ncol=2)\n",
    "\n",
    "term1 = 3*F_n_climb * np.cos((alpha_climb + 1)*np.pi/180) / (55000 * 9.81)\n",
    "term2 = D_climb / (55000 * 9.81)\n",
    "\n",
    "# ax[1].plot(theta_flaps_lst, term1)\n",
    "\n",
    "lala = F_n_climb\n",
    "lala1= np.cos((alpha_climb + 1)*np.pi/180)\n",
    "\n",
    "ax[1].plot(theta_flaps_lst, v_climb/v_climb[0])\n",
    "ax[1].set_xlabel(r'$\\theta_{flap}$ [deg]')\n",
    "ax[1].set_ylabel(r'$v/v_{no\\ flaps}$')\n",
    "\n",
    "ax[2].plot(theta_flaps_lst, v_climb**2*c_d_climb)\n",
    "ax[2].set_xlabel(r'$\\theta_{flap}$ [deg]')\n",
    "ax[2].set_ylabel(r'$c_{d}v^2/(c_{d}v^2)_{no\\ flaps}$')\n",
    "\n",
    "ax[3].plot(theta_flaps_lst, alpha_climb/alpha_climb[0])\n",
    "ax[3].set_xlabel(r'$\\theta_{flap}$ [deg]')\n",
    "ax[3].set_ylabel(r'$\\alpha/\\alpha_{no\\ flaps}$')\n",
    "\n",
    "plt.subplots_adjust(wspace=0.32)"
   ]
  },
  {
   "cell_type": "markdown",
   "metadata": {},
   "source": [
    "# Rotation"
   ]
  },
  {
   "cell_type": "code",
   "execution_count": null,
   "metadata": {},
   "outputs": [],
   "source": [
    "fig, ax = plt.subplots(1,2,figsize=(15,4))\n",
    "plt.style.use('../utils/plot.mplstyle')\n",
    "ax[0].plot(theta_flaps_lst, x_groundroll/x_groundroll[0], label='groundroll')\n",
    "ax[0].plot(theta_flaps_lst, x_rotation/x_rotation[0], label='rotation')\n",
    "ax[0].plot(theta_flaps_lst, x_total/x_total[0], '--k', label='total')\n",
    "ax[0].set_xlabel(r'$\\theta_{flap}$ [deg]')\n",
    "ax[0].set_ylabel(r'$x/x_{no\\ flaps}$')\n",
    "ax[0].legend(fontsize=14, frameon=False)\n",
    "ax[1].plot(theta_flaps_lst, cl_groundroll/cl_groundroll[0])\n",
    "ax[1].set_xlabel(r'$\\theta_{flap}$ [deg]')\n",
    "ax[1].set_ylabel(r'$c_l/c_{l, no\\ flaps}$ [-]')\n",
    "ax[1].plot()\n",
    "plt.subplots_adjust(wspace=0.4)"
   ]
  },
  {
   "cell_type": "markdown",
   "metadata": {},
   "source": [
    "# Groundroll "
   ]
  },
  {
   "cell_type": "code",
   "execution_count": 7,
   "metadata": {},
   "outputs": [
    {
     "name": "stderr",
     "output_type": "stream",
     "text": [
      "/Users/laurensvoet/Library/Python/3.7/lib/python/site-packages/ipykernel_launcher.py:7: RuntimeWarning: invalid value encountered in true_divide\n",
      "  import sys\n"
     ]
    },
    {
     "data": {
      "image/png": "[encoded data removed]",
      "text/plain": [
       "<Figure size 1584x288 with 3 Axes>"
      ]
     },
     "metadata": {
      "needs_background": "light"
     },
     "output_type": "display_data"
    }
   ],
   "source": [
    "fig, ax = plt.subplots(1,3,figsize=(22,4))\n",
    "plt.style.use('../utils/plot.mplstyle')\n",
    "ax[0].plot(theta_flaps_lst, x_groundroll/x_groundroll[0], label='groundroll')\n",
    "ax[0].set_xlabel(r'$\\theta_{flap}$ [deg]')\n",
    "ax[0].set_ylabel(r'$x_{gr}/x_{gr, no\\ flaps}$')\n",
    "ax[0].legend(fontsize=14, frameon=False)\n",
    "ax[1].plot(theta_flaps_lst, v_rotation/v_rotation[0])\n",
    "ax[1].set_xlabel(r'$\\theta_{flap}$ [deg]')\n",
    "ax[1].set_ylabel(r'$v_{rot}/v_{rot, no\\ flaps}$')\n",
    "ax[2].plot(theta_flaps_lst, cd_groundroll/cd_groundroll[0])\n",
    "ax[2].set_xlabel(r'$\\theta_{flap}$ [deg]')\n",
    "ax[2].set_ylabel(r'$c_d/c_{d, no\\ flaps}$')\n",
    "plt.subplots_adjust(wspace=0.25)"
   ]
  },
  {
   "cell_type": "code",
   "execution_count": null,
   "metadata": {},
   "outputs": [],
   "source": []
  },
  {
   "cell_type": "code",
   "execution_count": null,
   "metadata": {},
   "outputs": [],
   "source": []
  },
  {
   "cell_type": "code",
   "execution_count": null,
   "metadata": {},
   "outputs": [],
   "source": []
  },
  {
   "cell_type": "code",
   "execution_count": null,
   "metadata": {},
   "outputs": [],
   "source": []
  },
  {
   "cell_type": "code",
   "execution_count": null,
   "metadata": {},
   "outputs": [],
   "source": []
  },
  {
   "cell_type": "code",
   "execution_count": null,
   "metadata": {},
   "outputs": [],
   "source": [
    "om.n2(py['0'].problem)"
   ]
  },
  {
   "cell_type": "code",
   "execution_count": null,
   "metadata": {},
   "outputs": [],
   "source": []
  },
  {
   "cell_type": "code",
   "execution_count": null,
   "metadata": {},
   "outputs": [],
   "source": []
  },
  {
   "cell_type": "code",
   "execution_count": null,
   "metadata": {},
   "outputs": [],
   "source": [
    "# Analyze the trajectories \n",
    "n_flaps = 14\n",
    "theta_flaps_lst = np.linspace(0, 26, n_flaps)\n",
    "x_groundroll = np.zeros(n_flaps)\n",
    "x_rotation = np.zeros(n_flaps)\n",
    "x_climb = np.zeros(n_flaps)\n",
    "cd_groundroll = np.zeros(n_flaps)\n",
    "cl_groundroll = np.zeros(n_flaps)\n",
    "v_rotation = np.zeros(n_flaps)\n",
    "# gamma_climb = np.zeros(n_flaps)\n",
    "# F_n_climb = np.zeros(n_flaps)\n",
    "# v_climb = np.zeros(n_flaps)\n",
    "# alpha_climb = np.zeros(n_flaps)\n",
    "# c_l_climb = np.zeros(n_flaps)\n",
    "# c_d_climb = np.zeros(n_flaps)\n",
    "# D_climb = np.zeros(n_flaps)\n",
    "# L_climb = np.zeros(n_flaps)\n",
    "# vdot_climb = np.zeros(n_flaps)\n",
    "# gammadot_climb = np.zeros(n_flaps)\n",
    "x_vnrs = np.zeros(n_flaps)\n",
    "\n",
    "for i, _ in enumerate(theta_flaps_lst):\n",
    "    x_groundroll[i] = py[str(i)].problem.get_val('phases.groundroll.interpolated.states:x')[-1]\n",
    "    cl_groundroll[i] = py[str(i)].problem.get_val('phases.groundroll.interpolated.c_l')[-1]\n",
    "    cd_groundroll[i] = py[str(i)].problem.get_val('phases.groundroll.interpolated.c_d')[-1]\n",
    "\n",
    "    x_rotation[i] = py[str(i)].problem.get_val('phases.rotation.interpolated.states:x')[-1] - py[str(i)].problem.get_val('phases.groundroll.interpolated.states:x')[-1]\n",
    "    v_rotation[i] = py[str(i)].ac.v_rot\n",
    "    \n",
    "    x_climb[i] = py[str(i)].problem.get_val('phases.climb.interpolated.states:x')[-1] - py[str(i)].problem.get_val('phases.rotation.interpolated.states:x')[-1]\n",
    "#     gamma_climb[i] = py[str(i)].problem.get_val('phases.climb.interpolated.states:gamma')[-1]\n",
    "#     alpha_climb[i] = py[str(i)].problem.get_val('phases.climb.interpolated.controls:alpha')[-1]\n",
    "#     F_n_climb[i] = py[str(i)].problem.get_val('phases.climb.interpolated.F_n')[-1]\n",
    "#     v_climb[i] = py[str(i)].problem.get_val('phases.climb.interpolated.states:v')[-1]\n",
    "#     c_l_climb[i] = py[str(i)].problem.get_val('phases.climb.interpolated.c_l')[-1]\n",
    "#     c_d_climb[i] = py[str(i)].problem.get_val('phases.climb.interpolated.c_d')[-1]\n",
    "#     D_climb[i] = py[str(i)].problem.get_val('phases.climb.interpolated.D')[-1]\n",
    "#     L_climb[i] = py[str(i)].problem.get_val('phases.climb.interpolated.L')[-1]\n",
    "#     vdot_climb[i] = py[str(i)].problem.get_val('phases.climb.interpolated.state_rates:v')[-1]\n",
    "#     gammadot_climb[i] = py[str(i)].problem.get_val('phases.climb.interpolated.state_rates:gamma')[-1]\n",
    "\n",
    "    x_vnrs[i] = py[str(i)].problem.get_val('phases.vnrs.interpolated.states:x')[-1] - py[str(i)].problem.get_val('phases.climb.interpolated.states:x')[-1]\n",
    "    \n",
    "x_total = x_groundroll + x_rotation + x_climb + x_vnrs"
   ]
  }
 ],
 "metadata": {
  "kernelspec": {
   "display_name": "Python 3",
   "language": "python",
   "name": "python3"
  },
  "language_info": {
   "codemirror_mode": {
    "name": "ipython",
    "version": 3
   },
   "file_extension": ".py",
   "mimetype": "text/x-python",
   "name": "python",
   "nbconvert_exporter": "python",
   "pygments_lexer": "ipython3",
   "version": "3.7.3"
  }
 },
 "nbformat": 4,
 "nbformat_minor": 4
}
