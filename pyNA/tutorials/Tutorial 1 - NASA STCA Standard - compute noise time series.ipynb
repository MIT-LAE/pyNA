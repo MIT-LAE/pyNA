{
 "cells": [
  {
   "cell_type": "markdown",
   "metadata": {},
   "source": [
    "This tutorial shows how to calculate noise for a time series using pyNA.\n",
    "\n",
    "pyNA enables noise calculations in both python and julia. Select the preferred code language by setting the environment variable **before importing the pyna package**: \n",
    "\n",
    "``os.environ['pyna_language'] = 'python'``\n",
    "\n",
    "``os.environ['pyna_language'] = 'julia'``\n",
    "\n",
    "The inputs to the code are two excel sheets:\n",
    "  - trajectory parameters\n",
    "  - engine parameters\n",
    "\n",
    "Follow the following steps: \n",
    "\n",
    "  1) load the standard settings for the nasa stca vehicle\n",
    "    \n",
    "  2) create a pyNA object\n",
    "    \n",
    "  3) call the ``pyna.compute_noise_time_series()`` method\n",
    "    \n",
    "Finally, the ``py.plot_noise_time_series()`` method plots the noise at the two certification microphones, for a selected noise metric (here: pnlt).\n",
    "\n"
   ]
  },
  {
   "cell_type": "code",
   "execution_count": 1,
   "metadata": {
    "code_folding": []
   },
   "outputs": [
    {
     "data": {
      "text/html": [
       "<style>.container { width:100% !important; }</style>"
      ],
      "text/plain": [
       "<IPython.core.display.HTML object>"
      ]
     },
     "metadata": {},
     "output_type": "display_data"
    }
   ],
   "source": [
    "# Imports \n",
    "import os\n",
    "import pdb\n",
    "import numpy as np\n",
    "import openmdao.api as om\n",
    "import pandas as pd\n",
    "import matplotlib.pyplot as plt\n",
    "%matplotlib inline\n",
    "\n",
    "from IPython.display import clear_output\n",
    "from IPython.core.display import display, HTML\n",
    "display(HTML(\"<style>.container { width:100% !important; }</style>\"))\n",
    "\n",
    "os.environ[\"pyna_language\"] = 'julia'\n",
    "from pyNA.pyna import pyna"
   ]
  },
  {
   "cell_type": "code",
   "execution_count": 2,
   "metadata": {
    "code_folding": [
     1
    ],
    "scrolled": false
   },
   "outputs": [],
   "source": [
    "# Load default pyna settings \n",
    "if False:\n",
    "    pyna_settings = pyna.load_settings(case_name ='nasa_stca_standard')\n",
    "    pyna_settings.all_sources = True\n",
    "    pyna_settings.validation = True\n",
    "    pyna_settings.lateral_attenuation = True\n",
    "    pyna_settings.engine_mounting = 'none'\n",
    "\n",
    "    # pyna_settings.x_observer_array = np.array([[500., 450., 4*0.3048], [1000., 450., 4*0.3048]])\n",
    "\n",
    "    # Start pyna\n",
    "    py = pyna(settings=pyna_settings)\n",
    "\n",
    "    # Compute noise\n",
    "    py.compute_noise_time_series()\n",
    "\n",
    "    # Plot results\n",
    "    py.plot_noise_time_series(metric='pnlt')"
   ]
  },
  {
   "cell_type": "code",
   "execution_count": 3,
   "metadata": {
    "code_folding": []
   },
   "outputs": [],
   "source": [
    "# Load default pyna settings\n",
    "if False:\n",
    "    ac_name = 'a10'\n",
    "    pyna_settings = pyna.load_settings(case_name =ac_name)\n",
    "    pyna_settings.ac_name = ac_name\n",
    "\n",
    "    pyna_settings.validation = True\n",
    "    pyna_settings.lateral_attenuation = False\n",
    "    pyna_settings.engine_mounting = 'none'\n",
    "\n",
    "    pyna_settings.all_sources = True\n",
    "    pyna_settings.fan_inlet = True\n",
    "    pyna_settings.fan_discharge = False\n",
    "    pyna_settings.core = False\n",
    "    pyna_settings.jet_mixing = False\n",
    "    pyna_settings.jet_shock = False \n",
    "    pyna_settings.airframe = False\n",
    "    pyna_settings.levels_int_metric = 'epnl'\n",
    "    pyna_settings.shielding = False\n",
    "\n",
    "    pyna_settings.engine_file_name = 'engine_approach.csv'\n",
    "    pyna_settings.trajectory_file_name = 'trajectory_approach.csv'\n",
    "    pyna_settings.observer_lst = ('approach',)\n",
    "    pyna_settings.x_observer_array = np.array([[-2291., 0., 4*0.3048], ])\n",
    "\n",
    "    # Start pyna\n",
    "    py = pyna(settings=pyna_settings)\n",
    "\n",
    "    # Compute noise\n",
    "    py.compute_noise_time_series()\n",
    "\n",
    "    # Plot results\n",
    "    py.plot_noise_time_series(metric='pnlt')"
   ]
  },
  {
   "cell_type": "code",
   "execution_count": 4,
   "metadata": {
    "scrolled": true
   },
   "outputs": [
    {
     "name": "stderr",
     "output_type": "stream",
     "text": [
      "/Users/laurensvoet/Library/Python/3.7/lib/python/site-packages/openmdao/recorders/sqlite_recorder.py:224: UserWarning:The existing case recorder file, /Users/laurensvoet/Documents/Research/pyNA/pyNA/cases/nasa_stca_standard/dymos_solution.db, is being overwritten.\n"
     ]
    },
    {
     "name": "stdout",
     "output_type": "stream",
     "text": [
      "Model viewer data has already has already been recorded for Driver.\n",
      "Model viewer data has already has already been recorded for Driver.\n",
      "Model viewer data has already has already been recorded for Driver.\n",
      "Model viewer data has already has already been recorded for Driver.\n",
      "Model viewer data has already has already been recorded for Driver.\n",
      "Model viewer data has already has already been recorded for Driver.\n",
      "Model viewer data has already has already been recorded for Driver.\n",
      "Model viewer data has already has already been recorded for Driver.\n",
      "Model viewer data has already has already been recorded for Driver.\n",
      "Model viewer data has already has already been recorded for Driver.\n",
      "Model viewer data has already has already been recorded for Driver.\n",
      "Model viewer data has already has already been recorded for Driver.\n",
      "Model viewer data has already has already been recorded for Driver.\n",
      "Model viewer data has already has already been recorded for Driver.\n",
      "Model viewer data has already has already been recorded for Driver.\n",
      "Model viewer data has already has already been recorded for Driver.\n",
      "Model viewer data has already has already been recorded for Driver.\n",
      "Model viewer data has already has already been recorded for Driver.\n",
      "Model viewer data has already has already been recorded for Driver.\n",
      "Model viewer data has already has already been recorded for Driver.\n",
      "Model viewer data has already has already been recorded for Driver.\n",
      "Model viewer data has already has already been recorded for Driver.\n",
      "Model viewer data has already has already been recorded for Driver.\n",
      "Model viewer data has already has already been recorded for Driver.\n",
      "Model viewer data has already has already been recorded for Driver.\n",
      "Model viewer data has already has already been recorded for Driver.\n",
      "Model viewer data has already has already been recorded for Driver.\n",
      "Model viewer data has already has already been recorded for Driver.\n",
      "Model viewer data has already has already been recorded for Driver.\n",
      "Model viewer data has already has already been recorded for Driver.\n",
      "Model viewer data has already has already been recorded for Driver.\n",
      "Model viewer data has already has already been recorded for Driver.\n",
      "Model viewer data has already has already been recorded for Driver.\n",
      "Model viewer data has already has already been recorded for Driver.\n",
      "Model viewer data has already has already been recorded for Driver.\n",
      "Model viewer data has already has already been recorded for Driver.\n",
      "Model viewer data has already has already been recorded for Driver.\n",
      "Model viewer data has already has already been recorded for Driver.\n",
      "Model viewer data has already has already been recorded for Driver.\n",
      "Model viewer data has already has already been recorded for Driver.\n",
      "Model viewer data has already has already been recorded for Driver.\n",
      "Model viewer data has already has already been recorded for Driver.\n",
      "Model viewer data has already has already been recorded for Driver.\n",
      "Model viewer data has already has already been recorded for Driver.\n",
      "Model viewer data has already has already been recorded for Driver.\n",
      "Model viewer data has already has already been recorded for Driver.\n",
      "Model viewer data has already has already been recorded for Driver.\n",
      "Model viewer data has already has already been recorded for Driver.\n",
      "Model viewer data has already has already been recorded for Driver.\n",
      "Model viewer data has already has already been recorded for Driver.\n",
      "Model viewer data has already has already been recorded for Driver.\n",
      "Model viewer data has already has already been recorded for Driver.\n",
      "Model viewer data has already has already been recorded for Driver.\n",
      "Model viewer data has already has already been recorded for Driver.\n",
      "Model viewer data has already has already been recorded for Driver.\n",
      "Model viewer data has already has already been recorded for Driver.\n",
      "Model viewer data has already has already been recorded for Driver.\n",
      "Model viewer data has already has already been recorded for Driver.\n",
      "Model viewer data has already has already been recorded for Driver.\n",
      "Model viewer data has already has already been recorded for Driver.\n",
      "Model viewer data has already has already been recorded for Driver.\n",
      "Model viewer data has already has already been recorded for Driver.\n"
     ]
    }
   ],
   "source": [
    "# Load default pyna settings \n",
    "n = 31\n",
    "epnl_side = np.zeros((2,n))\n",
    "\n",
    "x_iter = np.linspace(0, 6500, n)\n",
    "\n",
    "for i,lat_att in enumerate([False, True]):\n",
    "\n",
    "    for j,x in enumerate(x_iter):\n",
    "    \n",
    "        pyna_settings = pyna.load_settings(case_name ='nasa_stca_standard')\n",
    "        pyna_settings.all_sources = True\n",
    "        pyna_settings.validation = True\n",
    "        pyna_settings.lateral_attenuation = lat_att\n",
    "        pyna_settings.engine_mounting = 'none'\n",
    "        pyna_settings.levels_int_metric = 'epnl'\n",
    "        pyna_settings.groundeffects = True\n",
    "        pyna_settings.absorption = True\n",
    "        \n",
    "        pyna_settings.observer_lst = ('lateral',)\n",
    "        \n",
    "        pyna_settings.x_observer_array = np.array([[x, 450., 4*0.3048], ])\n",
    "        \n",
    "        # Start pyna\n",
    "        py = pyna(settings=pyna_settings)\n",
    "        \n",
    "        # Compute noise\n",
    "        py.compute_noise_time_series()\n",
    "\n",
    "        # Plot results\n",
    "#         py.plot_noise_time_series(metric='pnlt')\n",
    "        epnl_side[i,j] = py.problem.get_val('noise.epnl')\n"
   ]
  },
  {
   "cell_type": "code",
   "execution_count": 5,
   "metadata": {},
   "outputs": [
    {
     "data": {
      "text/plain": [
       "[<matplotlib.lines.Line2D at 0x14317ae48>]"
      ]
     },
     "execution_count": 5,
     "metadata": {},
     "output_type": "execute_result"
    },
    {
     "data": {
      "image/png": "[encoded data removed]",
      "text/plain": [
       "<Figure size 432x288 with 1 Axes>"
      ]
     },
     "metadata": {
      "needs_background": "light"
     },
     "output_type": "display_data"
    }
   ],
   "source": [
    "plt.plot(x_iter, epnl_side[0,:])\n",
    "plt.plot(x_iter, epnl_side[1,:])"
   ]
  },
  {
   "cell_type": "code",
   "execution_count": null,
   "metadata": {},
   "outputs": [],
   "source": []
  },
  {
   "cell_type": "code",
   "execution_count": null,
   "metadata": {},
   "outputs": [],
   "source": []
  }
 ],
 "metadata": {
  "kernelspec": {
   "display_name": "Python 3",
   "language": "python",
   "name": "python3"
  },
  "language_info": {
   "codemirror_mode": {
    "name": "ipython",
    "version": 3
   },
   "file_extension": ".py",
   "mimetype": "text/x-python",
   "name": "python",
   "nbconvert_exporter": "python",
   "pygments_lexer": "ipython3",
   "version": "3.7.3"
  }
 },
 "nbformat": 4,
 "nbformat_minor": 4
}
