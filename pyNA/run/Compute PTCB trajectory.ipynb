{
 "cells": [
  {
   "cell_type": "code",
   "execution_count": 1,
   "metadata": {
    "code_folding": [
     0
    ]
   },
   "outputs": [
    {
     "data": {
      "text/html": [
       "<style>.container { width:100% !important; }</style>"
      ],
      "text/plain": [
       "<IPython.core.display.HTML object>"
      ]
     },
     "metadata": {},
     "output_type": "display_data"
    }
   ],
   "source": [
    "# Imports \n",
    "import os\n",
    "import sys\n",
    "from io import StringIO\n",
    "sys.path.append(\"..\")\n",
    "os.environ[\"pyna_language\"] = 'julia'\n",
    "import pdb\n",
    "import numpy as np\n",
    "import openmdao.api as om\n",
    "import pandas as pd\n",
    "pd.set_option('max_columns', None)\n",
    "pd.set_option('max_rows', None)\n",
    "import matplotlib.pyplot as plt\n",
    "from mpl_toolkits.axes_grid1.inset_locator import zoomed_inset_axes, mark_inset\n",
    "%matplotlib inline\n",
    "from pyNA.pyna import pyna\n",
    "\n",
    "from IPython.display import clear_output\n",
    "from IPython.core.display import display, HTML\n",
    "display(HTML(\"<style>.container { width:100% !important; }</style>\"))"
   ]
  },
  {
   "cell_type": "code",
   "execution_count": 2,
   "metadata": {
    "code_folding": [
     0
    ]
   },
   "outputs": [],
   "source": [
    "# Load \n",
    "epnl_sideline = dict()\n",
    "epnl_lateral = dict()\n",
    "epnl_flyover = dict()\n",
    "\n",
    "lat_att = False\n",
    "\n",
    "for ac_name in ['stca', 'a10']:\n",
    "    \n",
    "    epnl_sideline[ac_name] = dict()\n",
    "    epnl_lateral[ac_name] = dict()\n",
    "    epnl_flyover[ac_name] = dict()\n",
    "    \n",
    "    for case in ['V2', 'Vmax']:\n",
    "    \n",
    "        if ac_name == 'stca' and case == 'V2':\n",
    "            start = 20\n",
    "        elif ac_name == 'stca' and case == 'Vmax':\n",
    "            start = 35\n",
    "        elif ac_name == 'a10' and case == 'V2':\n",
    "            start = 60\n",
    "        elif ac_name == 'a10' and case == 'Vmax':\n",
    "            start = 70\n",
    "\n",
    "        epnl_flyover[ac_name][case] = np.load('../cases/'+ac_name+'/output/STCB/'+case+'/sweeps/epnl_flyover.npy') \n",
    "        epnl_sideline[ac_name][case] = np.load('../cases/'+ac_name+'/output/STCB/'+case+'/sweeps/epnl_sideline.npy') \n",
    "        epnl_lateral[ac_name][case] = np.max(epnl_sideline[ac_name][case][:,:,start:], axis=2)"
   ]
  },
  {
   "cell_type": "code",
   "execution_count": 3,
   "metadata": {
    "code_folding": []
   },
   "outputs": [],
   "source": [
    "# Inputs \n",
    "z_cb_lst = np.hstack((np.linspace(25, 250, 10), np.linspace(300, 750, 10)))\n",
    "\n",
    "TS_cb_lst = dict()\n",
    "TS_cb_lst['stca']= dict()\n",
    "TS_cb_lst['stca']['V2'] = np.linspace(0.75, 1.0, 11)\n",
    "TS_cb_lst['stca']['Vmax'] = np.linspace(0.4, 1.0, 25)\n",
    "TS_cb_lst['a10'] = dict()\n",
    "TS_cb_lst['a10']['V2'] = np.linspace(0.775, 1.0, 10)\n",
    "TS_cb_lst['a10']['Vmax'] = np.linspace(0.675, 1.0, 14)\n",
    "\n",
    "Vmax_lst = dict()\n",
    "Vmax_lst['stca'] = dict()\n",
    "Vmax_lst['stca']['V2'] = 197*0.51444444\n",
    "Vmax_lst['stca']['Vmax'] = 250*0.51444444\n",
    "Vmax_lst['a10'] = dict()\n",
    "Vmax_lst['a10']['V2'] = 234.4*0.51444444\n",
    "Vmax_lst['a10']['Vmax'] = 250*0.51444444\n",
    "\n",
    "py = pyna()\n",
    "epnl_constraint = dict()\n",
    "epnl_constraint['stca'] = dict() \n",
    "epnl_constraint['stca']['V2']   = np.min(epnl_lateral['stca']['V2'])-0.5\n",
    "epnl_constraint['stca']['Vmax'] = np.min(epnl_lateral['stca']['Vmax'])-0.5\n",
    "epnl_constraint['a10'] = dict()\n",
    "epnl_constraint['a10']['V2']   = np.min(epnl_lateral['a10']['V2'])-0.5\n",
    "epnl_constraint['a10']['Vmax'] = np.min(epnl_lateral['a10']['Vmax'])-0.5"
   ]
  },
  {
   "cell_type": "markdown",
   "metadata": {},
   "source": [
    "# PTCB trajectories"
   ]
  },
  {
   "cell_type": "code",
   "execution_count": 5,
   "metadata": {
    "code_folding": [
     61
    ],
    "scrolled": true
   },
   "outputs": [
    {
     "name": "stdout",
     "output_type": "stream",
     "text": [
      "Model viewer data has already has already been recorded for Driver.\n",
      "Model viewer data has already has already been recorded for Driver.\n"
     ]
    },
    {
     "ename": "RuntimeError",
     "evalue": "('Case not found:', 'final')",
     "output_type": "error",
     "traceback": [
      "\u001b[0;31m---------------------------------------------------------------------------\u001b[0m",
      "\u001b[0;31mRuntimeError\u001b[0m                              Traceback (most recent call last)",
      "\u001b[0;32m<ipython-input-5-d6bdd954d9ca>\u001b[0m in \u001b[0;36m<module>\u001b[0;34m\u001b[0m\n\u001b[1;32m     54\u001b[0m \u001b[0;34m\u001b[0m\u001b[0m\n\u001b[1;32m     55\u001b[0m             \u001b[0;32mif\u001b[0m \u001b[0;32mTrue\u001b[0m\u001b[0;34m:\u001b[0m\u001b[0;34m\u001b[0m\u001b[0;34m\u001b[0m\u001b[0m\n\u001b[0;32m---> 56\u001b[0;31m                 \u001b[0mresults\u001b[0m \u001b[0;34m=\u001b[0m \u001b[0mpy\u001b[0m\u001b[0;34m.\u001b[0m\u001b[0mload_results\u001b[0m\u001b[0;34m(\u001b[0m\u001b[0mfile_name\u001b[0m\u001b[0;34m=\u001b[0m\u001b[0mac_name\u001b[0m\u001b[0;34m+\u001b[0m\u001b[0;34m'_ptcb_'\u001b[0m\u001b[0;34m+\u001b[0m\u001b[0mcase\u001b[0m\u001b[0;34m+\u001b[0m\u001b[0;34m'.sql'\u001b[0m\u001b[0;34m)\u001b[0m\u001b[0;34m\u001b[0m\u001b[0;34m\u001b[0m\u001b[0m\n\u001b[0m\u001b[1;32m     57\u001b[0m \u001b[0;34m\u001b[0m\u001b[0m\n\u001b[1;32m     58\u001b[0m                 \u001b[0mpath_save_name\u001b[0m \u001b[0;34m=\u001b[0m \u001b[0;34m'trajectory_'\u001b[0m \u001b[0;34m+\u001b[0m \u001b[0mac_name\u001b[0m \u001b[0;34m+\u001b[0m \u001b[0;34m'_ptcb_'\u001b[0m \u001b[0;34m+\u001b[0m \u001b[0mcase\u001b[0m \u001b[0;34m+\u001b[0m \u001b[0;34m'.csv'\u001b[0m\u001b[0;34m\u001b[0m\u001b[0;34m\u001b[0m\u001b[0m\n",
      "\u001b[0;32m~/Documents/Research/pyNA/pyNA/pyna.py\u001b[0m in \u001b[0;36mload_results\u001b[0;34m(self, file_name, case_name)\u001b[0m\n\u001b[1;32m    920\u001b[0m         \u001b[0;31m# Create case reader\u001b[0m\u001b[0;34m\u001b[0m\u001b[0;34m\u001b[0m\u001b[0;34m\u001b[0m\u001b[0m\n\u001b[1;32m    921\u001b[0m         \u001b[0mcr\u001b[0m \u001b[0;34m=\u001b[0m \u001b[0mom\u001b[0m\u001b[0;34m.\u001b[0m\u001b[0mCaseReader\u001b[0m\u001b[0;34m(\u001b[0m\u001b[0mself\u001b[0m\u001b[0;34m.\u001b[0m\u001b[0mpyna_directory\u001b[0m \u001b[0;34m+\u001b[0m \u001b[0;34m'/cases/'\u001b[0m \u001b[0;34m+\u001b[0m \u001b[0mself\u001b[0m\u001b[0;34m.\u001b[0m\u001b[0mcase_name\u001b[0m \u001b[0;34m+\u001b[0m \u001b[0;34m'/output/'\u001b[0m \u001b[0;34m+\u001b[0m \u001b[0mself\u001b[0m\u001b[0;34m.\u001b[0m\u001b[0moutput_directory_name\u001b[0m \u001b[0;34m+\u001b[0m \u001b[0;34m'/'\u001b[0m \u001b[0;34m+\u001b[0m \u001b[0mfile_name\u001b[0m\u001b[0;34m)\u001b[0m\u001b[0;34m\u001b[0m\u001b[0;34m\u001b[0m\u001b[0m\n\u001b[0;32m--> 922\u001b[0;31m         \u001b[0mresults\u001b[0m \u001b[0;34m=\u001b[0m \u001b[0mcr\u001b[0m\u001b[0;34m.\u001b[0m\u001b[0mget_case\u001b[0m\u001b[0;34m(\u001b[0m\u001b[0mcase_name\u001b[0m\u001b[0;34m)\u001b[0m\u001b[0;34m\u001b[0m\u001b[0;34m\u001b[0m\u001b[0m\n\u001b[0m\u001b[1;32m    923\u001b[0m \u001b[0;34m\u001b[0m\u001b[0m\n\u001b[1;32m    924\u001b[0m         \u001b[0;32mreturn\u001b[0m \u001b[0mresults\u001b[0m\u001b[0;34m\u001b[0m\u001b[0;34m\u001b[0m\u001b[0m\n",
      "\u001b[0;32m~/Library/Python/3.7/lib/python/site-packages/openmdao/recorders/sqlite_reader.py\u001b[0m in \u001b[0;36mget_case\u001b[0;34m(self, case_id, recurse)\u001b[0m\n\u001b[1;32m    944\u001b[0m                 \u001b[0;32mreturn\u001b[0m \u001b[0mcase\u001b[0m\u001b[0;34m\u001b[0m\u001b[0;34m\u001b[0m\u001b[0m\n\u001b[1;32m    945\u001b[0m \u001b[0;34m\u001b[0m\u001b[0m\n\u001b[0;32m--> 946\u001b[0;31m         \u001b[0;32mraise\u001b[0m \u001b[0mRuntimeError\u001b[0m\u001b[0;34m(\u001b[0m\u001b[0;34m'Case not found:'\u001b[0m\u001b[0;34m,\u001b[0m \u001b[0mcase_id\u001b[0m\u001b[0;34m)\u001b[0m\u001b[0;34m\u001b[0m\u001b[0;34m\u001b[0m\u001b[0m\n\u001b[0m\u001b[1;32m    947\u001b[0m \u001b[0;34m\u001b[0m\u001b[0m\n\u001b[1;32m    948\u001b[0m \u001b[0;34m\u001b[0m\u001b[0m\n",
      "\u001b[0;31mRuntimeError\u001b[0m: ('Case not found:', 'final')"
     ]
    }
   ],
   "source": [
    "# Load verification trajectory \n",
    "nasa_std = pd.read_csv('../cases/nasa_stca_standard/trajectory/Trajectory_to.csv')\n",
    "\n",
    "if True:\n",
    "    \n",
    "    for ac_name in ['stca']:\n",
    "        for ii, case in enumerate(['V2', 'Vmax']):\n",
    "\n",
    "            py = pyna()\n",
    "            py.initialize()\n",
    "            \n",
    "            if True:\n",
    "\n",
    "                py.ac_name = ac_name\n",
    "                py.case_name = ac_name\n",
    "                py.engine_deck_name = 'engine_deck_'+ac_name+'.csv'\n",
    "                py.TS_to = 1.\n",
    "                py.TS_vnrs = TS_cb_lst[ac_name][case][0]\n",
    "                py.TS_cb = TS_cb_lst[ac_name][case][0]\n",
    "                py.save_results = True\n",
    "                py.levels_int_metric = 'epnl'\n",
    "                py.output_directory_name = 'PTCB_latlim/'+case\n",
    "                py.output_file_name = ac_name+'_ptcb_'+case+'.sql'\n",
    "                \n",
    "                py.noise_constraint_lateral = epnl_constraint[ac_name][case]\n",
    "                py.ptcb = True\n",
    "                py.pkrot = True\n",
    "                py.phld = False\n",
    "                py.v_max = Vmax_lst[ac_name][case]\n",
    "                \n",
    "                py.all_sources = False\n",
    "                py.fan_inlet_source = True\n",
    "                py.fan_discharge_source = True\n",
    "                py.core_source = True\n",
    "                py.jet_mixing_source = True\n",
    "                py.jet_shock_source = False\n",
    "                py.airframe_source = False\n",
    "                \n",
    "                # Simplifications\n",
    "                py.n_frequency_subbands = 1\n",
    "                py.max_iter = 300\n",
    "\n",
    "                if ac_name == 'stca' and case == 'V2':\n",
    "                    x_observer_array = np.linspace(1000, 6250, 16)\n",
    "                elif ac_name == 'stca' and case == 'Vmax':\n",
    "                    x_observer_array = np.linspace(1000, 6250, 16)\n",
    "                elif ac_name == 'a10' and case == 'V2':\n",
    "                    x_observer_array = np.linspace(2300, 6500, 13)\n",
    "                elif ac_name == 'a10' and case == 'Vmax':\n",
    "                    x_observer_array = np.linspace(2300, 6500, 13)\n",
    "\n",
    "            if False:                  \n",
    "                py.optimize_trajectory_noise(x_lateral_observer=x_observer_array, initialization_path_name=None)\n",
    "\n",
    "            if True:\n",
    "                results = py.load_results(file_name=ac_name+'_ptcb_'+case+'.sql')\n",
    "\n",
    "                path_save_name = 'trajectory_' + ac_name + '_ptcb_' + case + '.csv'\n",
    "                engine_save_name = 'engine_' + ac_name + '_ptcb_' + case + '.csv' \n",
    "                py.save_time_series(results, py.airframe, path_save_name, engine_save_name)\n",
    "\n",
    "            if True:\n",
    "                n_sl = 131  \n",
    "\n",
    "                py.engine_timeseries_name = 'engine_'+ac_name+'_ptcb_'+case+'.csv'\n",
    "                py.trajectory_file_name = 'trajectory_'+ac_name+'_ptcb_'+case+'.csv'\n",
    "                py.output_file_name = ac_name+'_ptcb_'+case+'_noisetimeseries.sql'\n",
    "                py.observer_lst = ['contour',]\n",
    "                py.levels_int_metric = 'epnl'\n",
    "\n",
    "                py.all_sources = False\n",
    "                py.fan_inlet_source = True\n",
    "                py.fan_discharge_source = True\n",
    "                py.core_source = True\n",
    "                py.jet_mixing_source = True\n",
    "                py.jet_shock_source = False\n",
    "                py.airframe_source = True\n",
    "\n",
    "                x_observer_lst = np.zeros((n_sl+1, 3))\n",
    "                x_observer_lst[:-1, 0] = np.linspace(0, 6500, n_sl)\n",
    "                x_observer_lst[:-1, 1] = 450*np.ones(n_sl)\n",
    "                x_observer_lst[:, 2] = 4*0.3048*np.ones(n_sl+1)\n",
    "                x_observer_lst[-1,0] = 6500.\n",
    "\n",
    "                py.x_observer_array = x_observer_lst\n",
    "                py.compute_noise_timeseries()\n",
    "\n",
    "                epnl_sideline = py.noise_timeseries.get_val('noise.epnl')[:-1]\n",
    "                epnl_lateral = np.max(py.noise_timeseries.get_val('noise.epnl')[:-1])\n",
    "                epnl_flyover = py.noise_timeseries.get_val('noise.epnl')[-1]\n",
    "\n",
    "            if True:\n",
    "                np.save('../cases/'+ac_name+'/output/PTCB_latlim/'+case+'/epnl_lateral.npy', epnl_lateral)\n",
    "                np.save('../cases/'+ac_name+'/output/PTCB_latlim/'+case+'/epnl_flyover.npy', epnl_flyover)\n",
    "                np.save('../cases/'+ac_name+'/output/PTCB_latlim/'+case+'/epnl_sideline.npy', epnl_sideline)"
   ]
  },
  {
   "cell_type": "code",
   "execution_count": null,
   "metadata": {},
   "outputs": [],
   "source": []
  },
  {
   "cell_type": "code",
   "execution_count": null,
   "metadata": {},
   "outputs": [],
   "source": []
  },
  {
   "cell_type": "code",
   "execution_count": null,
   "metadata": {},
   "outputs": [],
   "source": []
  }
 ],
 "metadata": {
  "kernelspec": {
   "display_name": "Python 3",
   "language": "python",
   "name": "python3"
  },
  "language_info": {
   "codemirror_mode": {
    "name": "ipython",
    "version": 3
   },
   "file_extension": ".py",
   "mimetype": "text/x-python",
   "name": "python",
   "nbconvert_exporter": "python",
   "pygments_lexer": "ipython3",
   "version": "3.7.3"
  }
 },
 "nbformat": 4,
 "nbformat_minor": 4
}
