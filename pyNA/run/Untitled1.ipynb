{
 "cells": [
  {
   "cell_type": "code",
   "execution_count": 1,
   "id": "e7366a21",
   "metadata": {},
   "outputs": [],
   "source": [
    "import jax\n",
    "import numpy as np"
   ]
  },
  {
   "cell_type": "code",
   "execution_count": 2,
   "id": "041178e8",
   "metadata": {},
   "outputs": [],
   "source": [
    "def f(x, a):\n",
    "    return a * x**2"
   ]
  },
  {
   "cell_type": "code",
   "execution_count": 3,
   "id": "17b22296",
   "metadata": {},
   "outputs": [],
   "source": [
    "x_in = np.array([1., 3.])\n",
    "a = np.array([5., 1.])\n"
   ]
  },
  {
   "cell_type": "code",
   "execution_count": 4,
   "id": "8a10e74b",
   "metadata": {},
   "outputs": [
    {
     "data": {
      "text/plain": [
       "DeviceArray([[10.,  0.],\n",
       "             [ 0.,  6.]], dtype=float32)"
      ]
     },
     "execution_count": 4,
     "metadata": {},
     "output_type": "execute_result"
    }
   ],
   "source": [
    "full_jac = jax.jacfwd(f, argnums=0)\n",
    "J = full_jac(x_in, a)\n",
    "J"
   ]
  },
  {
   "cell_type": "code",
   "execution_count": 14,
   "id": "45ec5766",
   "metadata": {},
   "outputs": [
    {
     "data": {
      "text/plain": [
       "DeviceArray([[10.,  0.],\n",
       "             [ 0., 12.]], dtype=float32)"
      ]
     },
     "execution_count": 14,
     "metadata": {},
     "output_type": "execute_result"
    }
   ],
   "source": [
    "x_v = np.diag([1., 2.])\n",
    "\n",
    "J @ x_v"
   ]
  },
  {
   "cell_type": "code",
   "execution_count": 15,
   "id": "84301cae",
   "metadata": {},
   "outputs": [
    {
     "ename": "ValueError",
     "evalue": "jvp called with different primal and tangent shapes;Got primal shape (2,) and tangent shape as (2, 2)",
     "output_type": "error",
     "traceback": [
      "\u001b[0;31m---------------------------------------------------------------------------\u001b[0m",
      "\u001b[0;31mValueError\u001b[0m                                Traceback (most recent call last)",
      "Cell \u001b[0;32mIn[15], line 1\u001b[0m\n\u001b[0;32m----> 1\u001b[0m \u001b[43mjax\u001b[49m\u001b[38;5;241;43m.\u001b[39;49m\u001b[43mjvp\u001b[49m\u001b[43m(\u001b[49m\u001b[43mf\u001b[49m\u001b[43m,\u001b[49m\u001b[43m \u001b[49m\u001b[43m(\u001b[49m\u001b[43mx_in\u001b[49m\u001b[43m,\u001b[49m\u001b[43m \u001b[49m\u001b[43ma\u001b[49m\u001b[43m)\u001b[49m\u001b[43m,\u001b[49m\u001b[43m \u001b[49m\u001b[43m(\u001b[49m\u001b[43mx_v\u001b[49m\u001b[43m,\u001b[49m\u001b[43m \u001b[49m\u001b[43ma\u001b[49m\u001b[43m)\u001b[49m\u001b[43m)\u001b[49m\n",
      "File \u001b[0;32m~/miniconda3/lib/python3.10/site-packages/jax/_src/api.py:2408\u001b[0m, in \u001b[0;36mjvp\u001b[0;34m(fun, primals, tangents, has_aux)\u001b[0m\n\u001b[1;32m   2370\u001b[0m \u001b[38;5;124;03m\"\"\"Computes a (forward-mode) Jacobian-vector product of ``fun``.\u001b[39;00m\n\u001b[1;32m   2371\u001b[0m \n\u001b[1;32m   2372\u001b[0m \u001b[38;5;124;03mArgs:\u001b[39;00m\n\u001b[0;32m   (...)\u001b[0m\n\u001b[1;32m   2405\u001b[0m \u001b[38;5;124;03m0.19900084\u001b[39;00m\n\u001b[1;32m   2406\u001b[0m \u001b[38;5;124;03m\"\"\"\u001b[39;00m\n\u001b[1;32m   2407\u001b[0m _check_callable(fun)\n\u001b[0;32m-> 2408\u001b[0m \u001b[38;5;28;01mreturn\u001b[39;00m \u001b[43m_jvp\u001b[49m\u001b[43m(\u001b[49m\u001b[43mlu\u001b[49m\u001b[38;5;241;43m.\u001b[39;49m\u001b[43mwrap_init\u001b[49m\u001b[43m(\u001b[49m\u001b[43mfun\u001b[49m\u001b[43m)\u001b[49m\u001b[43m,\u001b[49m\u001b[43m \u001b[49m\u001b[43mprimals\u001b[49m\u001b[43m,\u001b[49m\u001b[43m \u001b[49m\u001b[43mtangents\u001b[49m\u001b[43m,\u001b[49m\u001b[43m \u001b[49m\u001b[43mhas_aux\u001b[49m\u001b[38;5;241;43m=\u001b[39;49m\u001b[43mhas_aux\u001b[49m\u001b[43m)\u001b[49m\n",
      "File \u001b[0;32m~/miniconda3/lib/python3.10/site-packages/jax/_src/api.py:2432\u001b[0m, in \u001b[0;36m_jvp\u001b[0;34m(fun, primals, tangents, has_aux)\u001b[0m\n\u001b[1;32m   2425\u001b[0m     \u001b[38;5;28;01mraise\u001b[39;00m \u001b[38;5;167;01mTypeError\u001b[39;00m(\u001b[38;5;124m\"\u001b[39m\u001b[38;5;124mprimal and tangent arguments to jax.jvp do not match; \u001b[39m\u001b[38;5;124m\"\u001b[39m\n\u001b[1;32m   2426\u001b[0m                     \u001b[38;5;124m\"\u001b[39m\u001b[38;5;124mdtypes must be equal, or in case of int/bool primal dtype \u001b[39m\u001b[38;5;124m\"\u001b[39m\n\u001b[1;32m   2427\u001b[0m                     \u001b[38;5;124m\"\u001b[39m\u001b[38;5;124mthe tangent dtype must be float0.\u001b[39m\u001b[38;5;124m\"\u001b[39m\n\u001b[1;32m   2428\u001b[0m                     \u001b[38;5;124mf\u001b[39m\u001b[38;5;124m\"\u001b[39m\u001b[38;5;124mGot primal dtype \u001b[39m\u001b[38;5;132;01m{\u001b[39;00m_dtype(p)\u001b[38;5;132;01m}\u001b[39;00m\u001b[38;5;124m and so expected tangent dtype \u001b[39m\u001b[38;5;124m\"\u001b[39m\n\u001b[1;32m   2429\u001b[0m                     \u001b[38;5;124mf\u001b[39m\u001b[38;5;124m\"\u001b[39m\u001b[38;5;132;01m{\u001b[39;00mcore\u001b[38;5;241m.\u001b[39mprimal_dtype_to_tangent_dtype(_dtype(p))\u001b[38;5;132;01m}\u001b[39;00m\u001b[38;5;124m, but got \u001b[39m\u001b[38;5;124m\"\u001b[39m\n\u001b[1;32m   2430\u001b[0m                     \u001b[38;5;124mf\u001b[39m\u001b[38;5;124m\"\u001b[39m\u001b[38;5;124mtangent dtype \u001b[39m\u001b[38;5;132;01m{\u001b[39;00m_dtype(t)\u001b[38;5;132;01m}\u001b[39;00m\u001b[38;5;124m instead.\u001b[39m\u001b[38;5;124m\"\u001b[39m)\n\u001b[1;32m   2431\u001b[0m   \u001b[38;5;28;01mif\u001b[39;00m np\u001b[38;5;241m.\u001b[39mshape(p) \u001b[38;5;241m!=\u001b[39m np\u001b[38;5;241m.\u001b[39mshape(t):\n\u001b[0;32m-> 2432\u001b[0m     \u001b[38;5;28;01mraise\u001b[39;00m \u001b[38;5;167;01mValueError\u001b[39;00m(\u001b[38;5;124m\"\u001b[39m\u001b[38;5;124mjvp called with different primal and tangent shapes;\u001b[39m\u001b[38;5;124m\"\u001b[39m\n\u001b[1;32m   2433\u001b[0m                      \u001b[38;5;124mf\u001b[39m\u001b[38;5;124m\"\u001b[39m\u001b[38;5;124mGot primal shape \u001b[39m\u001b[38;5;132;01m{\u001b[39;00mnp\u001b[38;5;241m.\u001b[39mshape(p)\u001b[38;5;132;01m}\u001b[39;00m\u001b[38;5;124m and tangent shape as \u001b[39m\u001b[38;5;132;01m{\u001b[39;00mnp\u001b[38;5;241m.\u001b[39mshape(t)\u001b[38;5;132;01m}\u001b[39;00m\u001b[38;5;124m\"\u001b[39m)\n\u001b[1;32m   2435\u001b[0m \u001b[38;5;28;01mif\u001b[39;00m \u001b[38;5;129;01mnot\u001b[39;00m has_aux:\n\u001b[1;32m   2436\u001b[0m   flat_fun, out_tree \u001b[38;5;241m=\u001b[39m flatten_fun_nokwargs(fun, tree_def)\n",
      "\u001b[0;31mValueError\u001b[0m: jvp called with different primal and tangent shapes;Got primal shape (2,) and tangent shape as (2, 2)"
     ]
    }
   ],
   "source": [
    "jax.jvp(f, (x_in, a), (x_v, a))"
   ]
  },
  {
   "cell_type": "code",
   "execution_count": null,
   "id": "fc87d5de",
   "metadata": {},
   "outputs": [],
   "source": []
  },
  {
   "cell_type": "code",
   "execution_count": 10,
   "id": "8ff590ab",
   "metadata": {},
   "outputs": [
    {
     "data": {
      "text/plain": [
       "array([5., 9.])"
      ]
     },
     "execution_count": 10,
     "metadata": {},
     "output_type": "execute_result"
    }
   ],
   "source": [
    "f(x_in, a)"
   ]
  },
  {
   "cell_type": "code",
   "execution_count": null,
   "id": "dcce213c",
   "metadata": {},
   "outputs": [],
   "source": []
  },
  {
   "cell_type": "code",
   "execution_count": null,
   "id": "d4b8776d",
   "metadata": {},
   "outputs": [],
   "source": []
  }
 ],
 "metadata": {
  "kernelspec": {
   "display_name": "Python 3 (ipykernel)",
   "language": "python",
   "name": "python3"
  },
  "language_info": {
   "codemirror_mode": {
    "name": "ipython",
    "version": 3
   },
   "file_extension": ".py",
   "mimetype": "text/x-python",
   "name": "python",
   "nbconvert_exporter": "python",
   "pygments_lexer": "ipython3",
   "version": "3.10.9"
  }
 },
 "nbformat": 4,
 "nbformat_minor": 5
}
