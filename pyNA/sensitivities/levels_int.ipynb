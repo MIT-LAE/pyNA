{
 "cells": [
  {
   "cell_type": "code",
   "execution_count": 2,
   "metadata": {
    "code_folding": []
   },
   "outputs": [
    {
     "data": {
      "text/html": [
       "<style>.container { width:100% !important; }</style>"
      ],
      "text/plain": [
       "<IPython.core.display.HTML object>"
      ]
     },
     "metadata": {},
     "output_type": "display_data"
    }
   ],
   "source": [
    "# Imports \n",
    "import sys\n",
    "sys.path.append(\"..\")\n",
    "import os\n",
    "os.environ[\"pyna_language\"] = 'julia'\n",
    "from julia.OpenMDAO import make_component\n",
    "import julia.Main as julia\n",
    "# from pyNA.src.noise_src.propagation import Propagation\n",
    "import pdb\n",
    "import numpy as np\n",
    "import pandas as pd\n",
    "import openmdao.api as om\n",
    "import matplotlib.pyplot as plt\n",
    "from pyNA.pyna import pyna\n",
    "\n",
    "from IPython.display import clear_output\n",
    "from IPython.core.display import display, HTML\n",
    "display(HTML(\"<style>.container { width:100% !important; }</style>\"))\n",
    "pd.set_option('max_columns', None)\n",
    "pd.set_option('max_rows', None)\n"
   ]
  },
  {
   "cell_type": "code",
   "execution_count": 13,
   "metadata": {
    "code_folding": []
   },
   "outputs": [],
   "source": [
    "# Create pyna_settings \n",
    "case = 'stca'\n",
    "# case = 'a10'\n",
    "\n",
    "if case == 'stca':\n",
    "    # Directories and file names\n",
    "    pyna_settings = pyna.load_settings('stca')\n",
    "    pyna_settings.case_name = 'stca'                             # Case name [-]\n",
    "    pyna_settings.engine_file_name = 'engine_stca.csv'           # File name of the take-off engine inputs [-] \n",
    "    pyna_settings.output_file_name = 'Trajectory_stca_epnl.sql'  # Name of the output .sql file [-]\n",
    "    pyna_settings.ac_name = 'stca'                               # Name of the aircraft [-]\n",
    "\n",
    "elif case == 'a10':\n",
    "    # Directories and file names\n",
    "    pyna_settings = pyna.load_settings('a10')\n",
    "    pyna_settings.case_name = 'a10'                              # Case name [-]\n",
    "    pyna_settings.case_directory = 'cases/a10'                   # Case directory [-]\n",
    "    pyna_settings.engine_file_name = 'engine_a10.csv'            # File name of the take-off engine inputs [-] \n",
    "    pyna_settings.aero_file_name = 'aerodeck_flaps.xlsx'         # File name of the aerodynamics deck [-]\n",
    "    pyna_settings.output_file_name = 'Trajectory_a10_epnl.sql'   # Name of the output .sql file [-]\n",
    "    pyna_settings.ac_name = 'a10'                                # Name of the aircraft [-] ('stca')\n",
    "\n",
    "# Save data\n",
    "pyna_settings.save_results = True               # Flag to save results [-]\n",
    "\n",
    "# Noise sources     \n",
    "pyna_settings.fan_inlet = False                 # Enable fan inlet noise source (True/False)\n",
    "pyna_settings.fan_discharge = False             # Enable fan discharge noise source (True/False)\n",
    "pyna_settings.core = False                      # Enable core noise source (True/False)\n",
    "pyna_settings.jet_mixing = False                # Enable jet mixing noise source (True/False)\n",
    "pyna_settings.jet_shock =    False              # Enable jet shock noise source (True/False)\n",
    "pyna_settings.airframe = False                  # Enable airframe noise source (True/False)\n",
    "pyna_settings.all_sources = True                # Enable all noise sources (True/False)\n",
    "\n",
    "# Modes\n",
    "pyna_settings.method_core_turb = 'GE'           # Method to account for turbine transmission in the combustor ('GE', 'PW') [-]\n",
    "pyna_settings.fan_BB_method = \"geae\"            # Method BB (original / allied_signal / geae / kresja) [-]\n",
    "pyna_settings.fan_RS_method = \"allied_signal\"   # Method RS (original / allied_signal / geae / kresja) [-]\n",
    "pyna_settings.fan_igv = False                   # Enable fan inlet guide vanes (True/False) \n",
    "pyna_settings.fan_id = False                    # Enable fan inlet distortions (True/False)\n",
    "pyna_settings.ge_flight_cleanup = 'takeoff'     # GE flight cleanup switch (none/takeoff/approach) [-]\n",
    "pyna_settings.levels_int_metric = 'epnl'        # Integrated noise metric [-]\n",
    "pyna_settings.engine_mounting = 'none'          # Engine mounting ('fuselage'/'underwing'/'none') [-]\n",
    "\n",
    "# Flags      \n",
    "pyna_settings.absorption = True                 # Flag for atmospheric absorption\n",
    "pyna_settings.groundeffects =  True             # Flag for ground effects\n",
    "pyna_settings.lateral_attenuation = True        # Flag for empirical lateral attenuation effects\n",
    "pyna_settings.suppression = True                # Flag for suppression of engine modules\n",
    "pyna_settings.fan_liner_suppression = True      # Flag for fan liner suppression\n",
    "pyna_settings.shielding = False                 # Flag for shielding effects (not implemented yet)\n",
    "pyna_settings.hsr_calibration = True            # Flag for HSR-era airframe calibration\n",
    "pyna_settings.validation = True                 # Flag for validation with NASA STCA noise model\n",
    "pyna_settings.bandshare = False                 # Flag to plot PNLT\n",
    "pyna_settings.TCF800 = True                     # Flag for tone penalty addition to PNLT metric; allows any tone below 800Hz to be ignored\n",
    "pyna_settings.combination_tones = False         # Flag for combination tones int he fan noise model\n",
    "pyna_settings.engine_mounting = 'none'          # Engine mounting ('fuselage'/'underwing'/'none') [-]\n",
    "\n",
    "# Constants     \n",
    "pyna_settings.N_shock = 8                       # Number of shocks in supersonic jet [-]\n",
    "pyna_settings.dT = 10.0169                      # dT standard atmosphere [K]\n",
    "pyna_settings.sigma = 291.0 * 515.379           # Specific flow resistance of ground [kg/s m3]\n",
    "pyna_settings.a_coh = 0.01                      # Incoherence constant [-]\n",
    "pyna_settings.N_f = 24                          # Number of discrete 1/3 octave frequency bands [-]\n",
    "pyna_settings.N_b = 5                           # Number of bands (propagation) [-]\n",
    "pyna_settings.n_altitude_absorption = 5         # Number of integration steps in atmospheric propagation [-]\n",
    "pyna_settings.A_e = 10.334*(0.3048**2)          # Engine reference area [m2]\n",
    "pyna_settings.dt_epnl = 0.5                     # Time step of to calculate EPNL from interpolated PNLT data [s]\n",
    "pyna_settings.n_harmonics = 10                  # Number of harmonics to be considered in tones [-]\n",
    "pyna_settings.r_0 = 0.3048                      # Distance source observer in source mode [m]\n",
    "pyna_settings.p_ref = 2e-5                      # Reference pressure [Pa] \n",
    "\n",
    "pyna_settings.noise_optimization = False        # Flag to noise-optimize the trajectory [-]\n",
    "pyna_settings.PTCB = False                      # Enable PTCB [-]\n",
    "pyna_settings.PHLD = False                      # Enable PHLD [-]\n",
    "pyna_settings.TS_to = 1.0                       # Engine TO thrust-setting (values < 1 denote APR) [-]\n",
    "pyna_settings.TS_vnrs = 1.0                     # Engine VNRS thrust-setting [-]\n",
    "pyna_settings.TS_cutback = None                 # Engine cutback thrust-setting [-]\n",
    "\n",
    "pyna_settings.z_cutback = 25.                   # z-location of cutback [m]\n",
    "\n",
    "pyna_settings.max_iter = 100                    # Maximum number of iterations for trajectory computations [-]"
   ]
  },
  {
   "cell_type": "code",
   "execution_count": 14,
   "metadata": {},
   "outputs": [],
   "source": [
    "pyna_settings.N_f = 24\n",
    "pyna_settings.TCF800 = False\n",
    "pyna_settings.bandshare=True\n",
    "py = pyna(pyna_settings)\n",
    "x_obs = np.array([3780.46275, 450., 4*0.3048])"
   ]
  },
  {
   "cell_type": "code",
   "execution_count": 15,
   "metadata": {
    "code_folding": [
     1
    ]
   },
   "outputs": [],
   "source": [
    "stca = py.load_results('../cases/NASA STCA Standard/output/Trajectory_stca.sql', 'final')\n",
    "n_pp = np.where(stca.get_val('flyover.propagation.x') > 6500)[0][0]"
   ]
  },
  {
   "cell_type": "markdown",
   "metadata": {},
   "source": [
    "### Levels"
   ]
  },
  {
   "cell_type": "code",
   "execution_count": 5,
   "metadata": {},
   "outputs": [],
   "source": [
    "# Create problem\n",
    "n_t = 1\n",
    "prob_l = om.Problem()\n",
    "comp = make_component(julia.Levels(n_t, py.settings, py.noise.data))\n",
    "prob_l.model.add_subsystem(\"l\", comp)\n",
    "prob_l.setup(force_alloc_complex=False)\n",
    "\n",
    "prob_l.set_val('l.rho_0', stca.get_val('flyover.levels.rho_0')[n_pp])\n",
    "prob_l.set_val('l.c_0', stca.get_val('flyover.levels.c_0')[n_pp])\n",
    "prob_l.set_val('l.msap_prop', stca.get_val('flyover.propagation.msap_prop')[n_pp,:])\n",
    "\n",
    "prob_l.run_model()"
   ]
  },
  {
   "cell_type": "code",
   "execution_count": 6,
   "metadata": {},
   "outputs": [],
   "source": [
    "dd_l = prob_l.compute_totals(of='l.pnlt', wrt='l.msap_prop', return_format='array')"
   ]
  },
  {
   "cell_type": "code",
   "execution_count": 46,
   "metadata": {
    "code_folding": [
     10
    ]
   },
   "outputs": [
    {
     "data": {
      "image/png": "[encoded data removed]",
      "text/plain": [
       "<Figure size 1440x320 with 3 Axes>"
      ]
     },
     "metadata": {
      "needs_background": "light"
     },
     "output_type": "display_data"
    }
   ],
   "source": [
    "# Plot figure \n",
    "f_tone = py.noise.data.f[5]\n",
    "f_tone2 = py.noise.data.f[8]\n",
    "\n",
    "fig,ax = plt.subplots(1,3,figsize=(18,4))\n",
    "plt.style.use('../post/plot.mplstyle')\n",
    "ax[0].semilogx(py.noise.data.f, stca.get_val('flyover.levels.spl')[n_pp, :], '-')\n",
    "ax[0].plot([f_tone, f_tone],[10, 100], 'k--')\n",
    "ax[0].plot([f_tone2, f_tone2],[10, 100], '--', color='grey')\n",
    "ax[0].set_ylim([10, 100])\n",
    "ax[0].set_xlabel('Frequency [Hz]')\n",
    "ax[0].set_ylabel('SPL [dB]')\n",
    "t = ax[0].annotate(xy=[f_tone2-100, 17.8], s='$f_{max. Noy}$', fontsize=14, color='grey')\n",
    "t.set_bbox(dict(facecolor='white', alpha=1., edgecolor='white'))\n",
    "t1 = ax[0].annotate(xy=[f_tone-50, 87], s='$f_{max. C}$', fontsize=14)\n",
    "t1.set_bbox(dict(facecolor='white', alpha=1., edgecolor='white'))\n",
    "\n",
    "# ax[0].annotate(xy=[f_tone2 + 100, ], s='$f_{max. Noy}$', fontsize=14, color='grey')\n",
    "\n",
    "\n",
    "dpnldspl = np.array([ 0.00986425,  0.00757395,  0.01177654,  0.03405095,  0.05028744,\n",
    "        0.04825603,  0.03659871,  0.05246523,  0.35616931,  0.05125511,\n",
    "        0.04353029,  0.04312602,  0.03954451,  0.03155378,  0.03296236,\n",
    "        0.03627357,  0.03340149,  0.03542225,  0.02730343,  0.02107783,\n",
    "        0.01650591,  0.01061458,  0.00460099, -0.        ])\n",
    "ax[1].semilogx(py.noise.data.f, dpnldspl, '-')\n",
    "ax[1].set_ylim([-0.17, 0.4])\n",
    "ax[1].plot([f_tone2, f_tone2],[-0.1, 0.45], '--', color='grey')\n",
    "ax[1].set_ylim([-0.1, 0.45])\n",
    "ax[1].set_xlabel('Frequency [Hz]')\n",
    "ax[1].set_ylabel(r'$\\frac{\\partial PNL}{\\partial SPL} \\ \\frac{[PNdB]}{[dB]}$', fontsize=18)\n",
    "\n",
    "t = ax[1].annotate(xy=[f_tone2-100, -0.05], s='$f_{max. Noy}$', fontsize=14, color='grey')\n",
    "t.set_bbox(dict(facecolor='white', alpha=1., edgecolor='white'))\n",
    "\n",
    "ax[2].semilogx(py.noise.data.f, dd_l.flatten()-dpnldspl, '-')\n",
    "ax[2].set_ylim([-0.17, 0.4])\n",
    "# ax[2].plot([400, 400],[-0.1, 0.45], 'k--')\n",
    "ax[2].plot([f_tone, f_tone],[-0.1, 0.45], 'k--')\n",
    "ax[2].set_ylim([-0.1, 0.45])\n",
    "ax[2].set_xlabel('Frequency [Hz]')\n",
    "ax[2].set_ylabel(r'$\\frac{\\partial C_{max}}{\\partial SPL} \\ \\frac{[PNdB]}{[dB]}$', fontsize=18)\n",
    "t1 = ax[2].annotate(xy=[f_tone-50, 0.37], s='$f_{max. C}$', fontsize=14)\n",
    "t1.set_bbox(dict(facecolor='white', alpha=1., edgecolor='white'))\n",
    "\n",
    "plt.subplots_adjust(wspace=0.35)"
   ]
  },
  {
   "cell_type": "markdown",
   "metadata": {},
   "source": [
    "### Integrated levels"
   ]
  },
  {
   "cell_type": "code",
   "execution_count": 17,
   "metadata": {},
   "outputs": [
    {
     "ename": "AttributeError",
     "evalue": "LevelsInt",
     "output_type": "error",
     "traceback": [
      "\u001b[0;31m---------------------------------------------------------------------------\u001b[0m",
      "\u001b[0;31mAttributeError\u001b[0m                            Traceback (most recent call last)",
      "\u001b[0;32m<ipython-input-17-e753df5f7ae6>\u001b[0m in \u001b[0;36m<module>\u001b[0;34m\u001b[0m\n\u001b[1;32m      4\u001b[0m \u001b[0mpy\u001b[0m\u001b[0;34m.\u001b[0m\u001b[0msettings\u001b[0m\u001b[0;34m.\u001b[0m\u001b[0mlevels_int_metric\u001b[0m\u001b[0;34m=\u001b[0m\u001b[0;34m'epnl'\u001b[0m\u001b[0;34m\u001b[0m\u001b[0;34m\u001b[0m\u001b[0m\n\u001b[1;32m      5\u001b[0m \u001b[0mprob_li\u001b[0m \u001b[0;34m=\u001b[0m \u001b[0mom\u001b[0m\u001b[0;34m.\u001b[0m\u001b[0mProblem\u001b[0m\u001b[0;34m(\u001b[0m\u001b[0;34m)\u001b[0m\u001b[0;34m\u001b[0m\u001b[0;34m\u001b[0m\u001b[0m\n\u001b[0;32m----> 6\u001b[0;31m \u001b[0mcomp\u001b[0m \u001b[0;34m=\u001b[0m \u001b[0mmake_component\u001b[0m\u001b[0;34m(\u001b[0m\u001b[0mjulia\u001b[0m\u001b[0;34m.\u001b[0m\u001b[0mLevelsInt\u001b[0m\u001b[0;34m(\u001b[0m\u001b[0mpy\u001b[0m\u001b[0;34m.\u001b[0m\u001b[0msettings\u001b[0m\u001b[0;34m)\u001b[0m\u001b[0;34m)\u001b[0m\u001b[0;34m\u001b[0m\u001b[0;34m\u001b[0m\u001b[0m\n\u001b[0m\u001b[1;32m      7\u001b[0m \u001b[0mprob_li\u001b[0m\u001b[0;34m.\u001b[0m\u001b[0mmodel\u001b[0m\u001b[0;34m.\u001b[0m\u001b[0madd_subsystem\u001b[0m\u001b[0;34m(\u001b[0m\u001b[0;34m\"li\"\u001b[0m\u001b[0;34m,\u001b[0m \u001b[0mcomp\u001b[0m\u001b[0;34m)\u001b[0m\u001b[0;34m\u001b[0m\u001b[0;34m\u001b[0m\u001b[0m\n\u001b[1;32m      8\u001b[0m \u001b[0mprob_li\u001b[0m\u001b[0;34m.\u001b[0m\u001b[0msetup\u001b[0m\u001b[0;34m(\u001b[0m\u001b[0mforce_alloc_complex\u001b[0m\u001b[0;34m=\u001b[0m\u001b[0;32mFalse\u001b[0m\u001b[0;34m)\u001b[0m\u001b[0;34m\u001b[0m\u001b[0;34m\u001b[0m\u001b[0m\n",
      "\u001b[0;32m~/Library/Python/3.7/lib/python/site-packages/julia/core.py\u001b[0m in \u001b[0;36m__getattr__\u001b[0;34m(self, name)\u001b[0m\n\u001b[1;32m    174\u001b[0m     \u001b[0;32mdef\u001b[0m \u001b[0m__getattr__\u001b[0m\u001b[0;34m(\u001b[0m\u001b[0mself\u001b[0m\u001b[0;34m,\u001b[0m \u001b[0mname\u001b[0m\u001b[0;34m)\u001b[0m\u001b[0;34m:\u001b[0m\u001b[0;34m\u001b[0m\u001b[0;34m\u001b[0m\u001b[0m\n\u001b[1;32m    175\u001b[0m         \u001b[0;32mtry\u001b[0m\u001b[0;34m:\u001b[0m\u001b[0;34m\u001b[0m\u001b[0;34m\u001b[0m\u001b[0m\n\u001b[0;32m--> 176\u001b[0;31m             \u001b[0;32mreturn\u001b[0m \u001b[0mself\u001b[0m\u001b[0;34m.\u001b[0m\u001b[0m__try_getattr\u001b[0m\u001b[0;34m(\u001b[0m\u001b[0mname\u001b[0m\u001b[0;34m)\u001b[0m\u001b[0;34m\u001b[0m\u001b[0;34m\u001b[0m\u001b[0m\n\u001b[0m\u001b[1;32m    177\u001b[0m         \u001b[0;32mexcept\u001b[0m \u001b[0mAttributeError\u001b[0m\u001b[0;34m:\u001b[0m\u001b[0;34m\u001b[0m\u001b[0;34m\u001b[0m\u001b[0m\n\u001b[1;32m    178\u001b[0m             \u001b[0;32mif\u001b[0m \u001b[0mname\u001b[0m\u001b[0;34m.\u001b[0m\u001b[0mendswith\u001b[0m\u001b[0;34m(\u001b[0m\u001b[0;34m\"_b\"\u001b[0m\u001b[0;34m)\u001b[0m\u001b[0;34m:\u001b[0m\u001b[0;34m\u001b[0m\u001b[0;34m\u001b[0m\u001b[0m\n",
      "\u001b[0;32m~/Library/Python/3.7/lib/python/site-packages/julia/core.py\u001b[0m in \u001b[0;36m__try_getattr\u001b[0;34m(self, name)\u001b[0m\n\u001b[1;32m    197\u001b[0m             \u001b[0;32mreturn\u001b[0m \u001b[0mself\u001b[0m\u001b[0;34m.\u001b[0m\u001b[0m_julia\u001b[0m\u001b[0;34m.\u001b[0m\u001b[0meval\u001b[0m\u001b[0;34m(\u001b[0m\u001b[0mjl_fullname\u001b[0m\u001b[0;34m)\u001b[0m\u001b[0;34m\u001b[0m\u001b[0;34m\u001b[0m\u001b[0m\n\u001b[1;32m    198\u001b[0m \u001b[0;34m\u001b[0m\u001b[0m\n\u001b[0;32m--> 199\u001b[0;31m         \u001b[0;32mraise\u001b[0m \u001b[0mAttributeError\u001b[0m\u001b[0;34m(\u001b[0m\u001b[0mname\u001b[0m\u001b[0;34m)\u001b[0m\u001b[0;34m\u001b[0m\u001b[0;34m\u001b[0m\u001b[0m\n\u001b[0m\u001b[1;32m    200\u001b[0m \u001b[0;34m\u001b[0m\u001b[0m\n\u001b[1;32m    201\u001b[0m \u001b[0;34m\u001b[0m\u001b[0m\n",
      "\u001b[0;31mAttributeError\u001b[0m: LevelsInt"
     ]
    }
   ],
   "source": [
    "# Create problem\n",
    "py.settings.bandshare=False\n",
    "# py.settings.n_t = 210\n",
    "py.settings.levels_int_metric='epnl'\n",
    "prob_li = om.Problem()\n",
    "comp = make_component(julia.LevelsInt(py.settings))\n",
    "prob_li.model.add_subsystem(\"li\", comp)\n",
    "prob_li.setup(force_alloc_complex=False)\n",
    "\n",
    "prob_li.set_val('li.t_o', stca.get_val('flyover.levels_int.t_o'))\n",
    "prob_li.set_val('li.pnlt', stca.get_val('flyover.levels_int.pnlt'))\n",
    "\n",
    "prob_li.run_model()"
   ]
  },
  {
   "cell_type": "code",
   "execution_count": 10,
   "metadata": {},
   "outputs": [],
   "source": [
    "dd_li = prob_li.compute_totals(of='li.epnl', wrt='li.pnlt', return_format='array')"
   ]
  },
  {
   "cell_type": "code",
   "execution_count": 11,
   "metadata": {},
   "outputs": [],
   "source": [
    "# Compute max. PNLT point (k_m)\n",
    "def compute_epnl_dod(t_o, pnlt):\n",
    "    \n",
    "    # Compute maximum pnlt\n",
    "    pnltm = max(pnlt)\n",
    "    I = np.where(pnlt > pnltm - 10.)\n",
    "\n",
    "    # Compute integration bounds\n",
    "    i_1 = I[0][0]\n",
    "    if np.abs(pnlt[i_1] - (pnltm - 10)) > np.abs(pnlt[i_1 - 1] - (pnltm - 10)):\n",
    "        i_1 = i_1 - 1\n",
    "\n",
    "    i_2 = I[0][-1]\n",
    "    if i_2 < pnlt.shape[0] - 1:\n",
    "        if np.abs(pnlt[i_2] - (pnltm - 10)) > np.abs(pnlt[i_2 + 1] - (pnltm - 10)):\n",
    "            i_2 = i_2 + 1\n",
    "    \n",
    "    return [t_o[i_1], t_o[i_2]]"
   ]
  },
  {
   "cell_type": "code",
   "execution_count": 1,
   "metadata": {},
   "outputs": [
    {
     "ename": "NameError",
     "evalue": "name 'compute_epnl_dod' is not defined",
     "output_type": "error",
     "traceback": [
      "\u001b[0;31m---------------------------------------------------------------------------\u001b[0m",
      "\u001b[0;31mNameError\u001b[0m                                 Traceback (most recent call last)",
      "\u001b[0;32m<ipython-input-1-57838797cb55>\u001b[0m in \u001b[0;36m<module>\u001b[0;34m\u001b[0m\n\u001b[1;32m      1\u001b[0m \u001b[0;31m# Plot figure\u001b[0m\u001b[0;34m\u001b[0m\u001b[0;34m\u001b[0m\u001b[0;34m\u001b[0m\u001b[0m\n\u001b[0;32m----> 2\u001b[0;31m \u001b[0mdod\u001b[0m \u001b[0;34m=\u001b[0m \u001b[0mcompute_epnl_dod\u001b[0m\u001b[0;34m(\u001b[0m\u001b[0mstca\u001b[0m\u001b[0;34m.\u001b[0m\u001b[0mget_val\u001b[0m\u001b[0;34m(\u001b[0m\u001b[0;34m'flyover.geometry.t_o'\u001b[0m\u001b[0;34m)\u001b[0m\u001b[0;34m,\u001b[0m \u001b[0mstca\u001b[0m\u001b[0;34m.\u001b[0m\u001b[0mget_val\u001b[0m\u001b[0;34m(\u001b[0m\u001b[0;34m'flyover.levels.pnlt'\u001b[0m\u001b[0;34m)\u001b[0m\u001b[0;34m)\u001b[0m\u001b[0;34m\u001b[0m\u001b[0;34m\u001b[0m\u001b[0m\n\u001b[0m\u001b[1;32m      3\u001b[0m \u001b[0;34m\u001b[0m\u001b[0m\n\u001b[1;32m      4\u001b[0m \u001b[0mfig\u001b[0m\u001b[0;34m,\u001b[0m\u001b[0max\u001b[0m \u001b[0;34m=\u001b[0m \u001b[0mplt\u001b[0m\u001b[0;34m.\u001b[0m\u001b[0msubplots\u001b[0m\u001b[0;34m(\u001b[0m\u001b[0;36m1\u001b[0m\u001b[0;34m,\u001b[0m\u001b[0;36m2\u001b[0m\u001b[0;34m,\u001b[0m\u001b[0mfigsize\u001b[0m\u001b[0;34m=\u001b[0m\u001b[0;34m(\u001b[0m\u001b[0;36m18\u001b[0m\u001b[0;34m,\u001b[0m\u001b[0;36m4\u001b[0m\u001b[0;34m)\u001b[0m\u001b[0;34m)\u001b[0m\u001b[0;34m\u001b[0m\u001b[0;34m\u001b[0m\u001b[0m\n\u001b[1;32m      5\u001b[0m \u001b[0mplt\u001b[0m\u001b[0;34m.\u001b[0m\u001b[0mstyle\u001b[0m\u001b[0;34m.\u001b[0m\u001b[0muse\u001b[0m\u001b[0;34m(\u001b[0m\u001b[0;34m'../post/plot.mplstyle'\u001b[0m\u001b[0;34m)\u001b[0m\u001b[0;34m\u001b[0m\u001b[0;34m\u001b[0m\u001b[0m\n",
      "\u001b[0;31mNameError\u001b[0m: name 'compute_epnl_dod' is not defined"
     ]
    }
   ],
   "source": [
    "# Plot figure \n",
    "dod = compute_epnl_dod(stca.get_val('flyover.geometry.t_o'), stca.get_val('flyover.levels.pnlt'))\n",
    "\n",
    "fig,ax = plt.subplots(1,2,figsize=(18,4))\n",
    "plt.style.use('../post/plot.mplstyle')\n",
    "ax[0].plot(stca.get_val('flyover.geometry.t_o'), stca.get_val('flyover.levels.pnlt'), '-', label='NASA STCA Standard trajectory')\n",
    "ax[0].fill_between([dod[0], dod[-1]], [0,0], [95,95], alpha=0.15, label='EPNL domain of dependence')\n",
    "ax[0].set_xlabel('Time after brake release [s]')\n",
    "ax[0].set_ylabel('PNLT [PNdB]')\n",
    "ax[0].legend(fontsize=14, loc='lower left', bbox_to_anchor=(0.0, 1.01), ncol=1, borderaxespad=0, frameon=False)\n",
    "\n",
    "ax[1].plot(stca.get_val('flyover.geometry.t_o'), dd_li.flatten(), '-o')\n",
    "ax[1].fill_between([dod[0], dod[-1]], [-0.001,-0.001], [0.1,0.1], alpha=0.15)\n",
    "ax[1].set_xlabel('Time after brake release [s]')\n",
    "ax[1].set_ylabel(r'$\\frac{\\partial EPNL}{\\partial PNLT} \\ \\frac{[EPNdB]}{[PNdB]}$', fontsize=18)"
   ]
  },
  {
   "cell_type": "code",
   "execution_count": null,
   "metadata": {},
   "outputs": [],
   "source": []
  }
 ],
 "metadata": {
  "kernelspec": {
   "display_name": "Python 3",
   "language": "python",
   "name": "python3"
  },
  "language_info": {
   "codemirror_mode": {
    "name": "ipython",
    "version": 3
   },
   "file_extension": ".py",
   "mimetype": "text/x-python",
   "name": "python",
   "nbconvert_exporter": "python",
   "pygments_lexer": "ipython3",
   "version": "3.7.3"
  }
 },
 "nbformat": 4,
 "nbformat_minor": 4
}
