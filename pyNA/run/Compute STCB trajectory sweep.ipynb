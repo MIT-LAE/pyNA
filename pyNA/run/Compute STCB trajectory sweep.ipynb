{
 "cells": [
  {
   "cell_type": "code",
   "execution_count": 1,
   "metadata": {
    "code_folding": [],
    "scrolled": true
   },
   "outputs": [
    {
     "data": {
      "text/html": [
       "<style>.container { width:100% !important; }</style>"
      ],
      "text/plain": [
       "<IPython.core.display.HTML object>"
      ]
     },
     "metadata": {},
     "output_type": "display_data"
    }
   ],
   "source": [
    "# Imports \n",
    "import os\n",
    "import sys\n",
    "sys.path.append(\"..\")\n",
    "os.environ[\"pyna_language\"] = 'julia'\n",
    "import pdb\n",
    "import numpy as np\n",
    "import openmdao.api as om\n",
    "import pandas as pd\n",
    "pd.set_option('max_columns', None)\n",
    "pd.set_option('max_rows', None)\n",
    "import matplotlib.pyplot as plt\n",
    "from mpl_toolkits.axes_grid1.inset_locator import zoomed_inset_axes, mark_inset\n",
    "%matplotlib inline\n",
    "from pyNA.pyna import pyna\n",
    "\n",
    "from IPython.display import clear_output\n",
    "from IPython.core.display import display, HTML\n",
    "display(HTML(\"<style>.container { width:100% !important; }</style>\"))"
   ]
  },
  {
   "cell_type": "code",
   "execution_count": 2,
   "metadata": {
    "code_folding": [
     0
    ]
   },
   "outputs": [],
   "source": [
    "# Inputs \n",
    "z_cb_lst = np.hstack((np.linspace(25, 250, 10), np.linspace(300, 750, 10)))\n",
    "\n",
    "TS_cb_lst = dict()\n",
    "TS_cb_lst['stca']= dict()\n",
    "TS_cb_lst['stca']['V2'] = np.linspace(0.75, 1.0, 11)\n",
    "TS_cb_lst['stca']['Vmax'] = np.linspace(0.4, 1.0, 25)\n",
    "TS_cb_lst['a10'] = dict()\n",
    "TS_cb_lst['a10']['V2'] = np.linspace(0.775, 1.0, 10)\n",
    "TS_cb_lst['a10']['Vmax'] = np.linspace(0.675, 1.0, 14)\n",
    "\n",
    "Vmax_lst = dict()\n",
    "Vmax_lst['stca'] = dict()\n",
    "Vmax_lst['stca']['V2'] = 197*0.51444444\n",
    "Vmax_lst['stca']['Vmax'] = 250*0.51444444\n",
    "Vmax_lst['a10'] = dict()\n",
    "Vmax_lst['a10']['V2'] = 234.4*0.51444444\n",
    "Vmax_lst['a10']['Vmax'] = 250*0.51444444"
   ]
  },
  {
   "cell_type": "markdown",
   "metadata": {},
   "source": [
    "### Compute trajectories"
   ]
  },
  {
   "cell_type": "code",
   "execution_count": null,
   "metadata": {
    "code_folding": [
     1
    ],
    "scrolled": true
   },
   "outputs": [
    {
     "name": "stdout",
     "output_type": "stream",
     "text": [
      "TS:  0.75\n",
      "z_cb: 75.0\n",
      "--- Linkage Report [phases] ---\n",
      "    --- groundroll - rotation ---\n",
      "        time           [final] ==  time           [initial]\n",
      "        states:x       [final] ==  states:x       [initial]\n",
      "        states:v       [final] ==  states:v       [initial]\n",
      "        states:alpha   [final] ==  states:alpha   [initial]\n",
      "    --- rotation - liftoff ---\n",
      "        time               [final] ==  time             [initial]\n",
      "        states:x           [final] ==  states:x         [initial]\n",
      "        parameters:z       [final*] ==  states:z         [initial]\n",
      "        states:v           [final] ==  states:v         [initial]\n",
      "        states:alpha       [final] ==  controls:alpha   [initial]\n",
      "        parameters:gamma   [final*] ==  states:gamma     [initial]\n",
      "    --- liftoff - vnrs ---\n",
      "        time             [final] ==  time             [initial]\n",
      "        states:x         [final] ==  states:x         [initial]\n",
      "        states:v         [final] ==  states:v         [initial]\n",
      "        controls:alpha   [final] ==  controls:alpha   [initial]\n",
      "        states:gamma     [final] ==  states:gamma     [initial]\n",
      "    --- vnrs - cutback ---\n",
      "        time             [final] ==  time             [initial]\n",
      "        states:x         [final] ==  states:x         [initial]\n",
      "        states:v         [final] ==  states:v         [initial]\n",
      "        controls:alpha   [final] ==  controls:alpha   [initial]\n",
      "        states:gamma     [final] ==  states:gamma     [initial]\n",
      "\n",
      "* : This quantity is fixed or is an input.\n",
      "\n",
      "\n",
      "--- Constraint Report [phases] ---\n",
      "    --- groundroll ---\n",
      "        [final]   0.0000e+00 == flight_dynamics.v_rot_residual [m/s]\n",
      "    --- rotation ---\n",
      "        [final]   1.1000e+00 == flight_dynamics.n [None]\n",
      "    --- liftoff ---\n",
      "        [path]    0.0000e+00 <= flight_dynamics.gamma_dot  [deg/s]\n",
      "        [path]    0.0000e+00 <= flight_dynamics.v_dot  [m/s**2]\n",
      "    --- vnrs ---\n",
      "        [path]    0.0000e+00 <= flight_dynamics.v_dot  [m/s**2]\n",
      "        [path]    0.0000e+00 <= gamma  [deg]\n",
      "    --- cutback ---\n",
      "        [final]   1.0135e+02 == v [m/s]\n",
      "        [path]    0.0000e+00 <= flight_dynamics.v_dot  [m/s**2]\n",
      "\n",
      "Model viewer data has already has already been recorded for Driver.\n",
      "Model viewer data has already has already been recorded for Driver.\n"
     ]
    }
   ],
   "source": [
    "# Compute trajectories for (z-TS) sweep \n",
    "if False:\n",
    "        \n",
    "    for ac_name in ['stca', 'a10']:\n",
    "\n",
    "        for case in ['V2', 'Vmax']:\n",
    "            \n",
    "            py = pyna()\n",
    "            \n",
    "            py.case_name = ac_name\n",
    "            py.ac_name = ac_name\n",
    "            py.engine_deck_name = 'engine_deck_' + ac_name + '.csv'\n",
    "            py.save_results = True\n",
    "            py.output_directory_name = 'STCBx/' + case\n",
    "            py.tolerance = 1e-6\n",
    "            py.max_iter = 300\n",
    "            py.TS_to = 1.0\n",
    "            py.TS_vnrs = 1.0\n",
    "            py.pkrot = False\n",
    "\n",
    "            py.theta_flaps = 10.\n",
    "            py.theta_slats = -6.\n",
    "            \n",
    "            for j,TS in enumerate(TS_cb_lst[ac_name][case]):\n",
    "                for i, z_cb in enumerate(z_cb_lst):\n",
    "\n",
    "                    print(\"TS: \", TS)\n",
    "                    print(\"z_cb:\", z_cb)\n",
    "\n",
    "                    py.TS_cb = TS\n",
    "                    py.z_cb = z_cb\n",
    "                    py.output_file_name = py.ac_name + '_' + str(np.round(z_cb,3)) + '_' + str(np.round(TS,3)) + '.sql'\n",
    "                    \n",
    "                    # Compute trajectory\n",
    "                    py.v_max = Vmax_lst[ac_name][case]\n",
    "                                        \n",
    "                    converged = py.compute_trajectory(trajectory_mode='cutback', objective='x_end')\n",
    "\n",
    "                    # Save timeseries\n",
    "                    path_save_name = 'trajectory_' + py.ac_name + '_' + str(np.round(z_cb,3)) + '_' + str(np.round(TS,3)) + '.csv'\n",
    "                    engine_save_name = 'engine_' + py.ac_name + '_' + str(np.round(z_cb,3)) + '_' + str(np.round(TS,3)) + '.csv'\n",
    "                    py.save_time_series(py.path, py.airframe, path_save_name, engine_save_name)\n",
    "                    \n",
    "                    clear_output()"
   ]
  },
  {
   "cell_type": "code",
   "execution_count": 4,
   "metadata": {
    "code_folding": [
     1
    ]
   },
   "outputs": [],
   "source": [
    "# Plot trajectories \n",
    "if False: \n",
    "    ac_name = 'stca'\n",
    "    case = 'Vmax'\n",
    "    \n",
    "    py.ac_name = ac_name\n",
    "\n",
    "    fig, ax = plt.subplots(2, 2, figsize=(20,8))\n",
    "    plt.style.use('../utils/plot.mplstyle')\n",
    "\n",
    "    for j,TS in enumerate(TS_cb_lst[ac_name][case]):\n",
    "        for i, z_cb in enumerate(z_cb_lst):\n",
    "\n",
    "            py.output_file_name = py.ac_name + '_' + str(np.round(z_cb,3)) + '_' + str(np.round(TS,3)) + '.sql'\n",
    "\n",
    "            py.engine_file_name = 'engine_' + py.ac_name + '_' + str(np.round(z_cb,3)) + '_' + str(np.round(TS,3)) + '.csv'\n",
    "            py.trajectory_file_name = 'trajectory_' + py.ac_name + '_' + str(np.round(z_cb,3)) + '_' + str(np.round(TS,3)) + '.csv'\n",
    "\n",
    "            data = pd.read_csv('../cases/'+ac_name+'/trajectory/STCB/'+case+'/'+py.trajectory_file_name)\n",
    "\n",
    "            ax[0, 0].plot(data['X [m]'], data['Z [m]'])\n",
    "            ax[1, 0].plot(data['X [m]'], data['TS [-]'])\n",
    "            ax[0, 0].grid(True)\n",
    "            ax[1, 0].grid(True)\n",
    "\n",
    "            ax[0, 1].plot(data['X [m]'], data['gamma [deg]'])\n",
    "            ax[1, 1].plot(data['X [m]'], data['V [m/s]'])\n",
    "            ax[0, 1].grid(True)\n",
    "            ax[1, 1].grid(True)        "
   ]
  },
  {
   "cell_type": "markdown",
   "metadata": {},
   "source": [
    "### Extract properties of the trajectories"
   ]
  },
  {
   "cell_type": "code",
   "execution_count": 5,
   "metadata": {
    "code_folding": [
     1
    ],
    "scrolled": true
   },
   "outputs": [],
   "source": [
    "# Compute noise time series\n",
    "if False:\n",
    "    \n",
    "    k_rot_lst = dict()\n",
    "    LD_climbout = dict()\n",
    "    \n",
    "    for ac_name in ['a10']:\n",
    "\n",
    "        k_rot_lst[ac_name] = dict()\n",
    "        LD_climbout[ac_name] = dict()\n",
    "        \n",
    "        for case in ['Vmax']:\n",
    "            \n",
    "            k_rot_lst[ac_name][case] = np.zeros((np.size(z_cb_lst), np.size(TS_cb_lst[ac_name][case])))\n",
    "            LD_climbout[ac_name][case] = np.zeros((np.size(z_cb_lst), np.size(TS_cb_lst[ac_name][case])))\n",
    "            \n",
    "            py = pyna()\n",
    "            \n",
    "            py.output_directory_name = 'STCB/' + case\n",
    "            py.case_name = ac_name\n",
    "            py.ac_name = ac_name\n",
    "            py.engine_deck_name = 'engine_deck_' + ac_name + '.csv'\n",
    "            py.save_results = True\n",
    "            py.output_directory_name = 'STCB/' + case\n",
    "            \n",
    "            for j,TS in enumerate(TS_cb_lst[ac_name][case]):\n",
    "                for i, z_cb in enumerate(z_cb_lst):\n",
    "\n",
    "                    py.output_file_name = py.ac_name + '_' + str(np.round(z_cb, 3)) + '_' + str(np.round(TS, 3)) + '.sql'\n",
    "                    \n",
    "                    print(ac_name, \" \", case, \" - TS: \", TS, \"; z_cb: \", z_cb)\n",
    "\n",
    "                    results = py.load_results(py.output_file_name)\n",
    "                    \n",
    "                    k_rot_lst[ac_name][case][i,j] = results.get_val('phases.groundroll.parameters:k_rot')\n",
    "                    LD_climbout[ac_name][case][i,j] = np.max(results.get_val('phases.cutback.interpolated.c_l')/results.get_val('phases.cutback.interpolated.c_d'))\n",
    "\n",
    "            np.save('../cases/'+ac_name+'/output/STCB/'+case+'/sweeps/k_rot.npy', k_rot_lst[ac_name][case])\n",
    "            np.save('../cases/'+ac_name+'/output/STCB/'+case+'/sweeps/LD_climbout.npy', LD_climbout[ac_name][case])\n",
    "\n",
    "            clear_output()"
   ]
  },
  {
   "cell_type": "markdown",
   "metadata": {},
   "source": [
    "### Compute certification noise levels"
   ]
  },
  {
   "cell_type": "code",
   "execution_count": null,
   "metadata": {
    "code_folding": [],
    "scrolled": true
   },
   "outputs": [
    {
     "name": "stdout",
     "output_type": "stream",
     "text": [
      "a10   Vmax  - TS:  0.675 ; z_cb:  25.0\n",
      "Model viewer data has already has already been recorded for Driver.\n",
      "a10   Vmax  - TS:  0.675 ; z_cb:  50.0\n",
      "Model viewer data has already has already been recorded for Driver.\n",
      "a10   Vmax  - TS:  0.675 ; z_cb:  75.0\n",
      "Model viewer data has already has already been recorded for Driver.\n",
      "a10   Vmax  - TS:  0.675 ; z_cb:  100.0\n",
      "Model viewer data has already has already been recorded for Driver.\n",
      "a10   Vmax  - TS:  0.675 ; z_cb:  125.0\n",
      "Model viewer data has already has already been recorded for Driver.\n"
     ]
    }
   ],
   "source": [
    "# Compute noise time series\n",
    "if True:\n",
    "        \n",
    "    for ac_name in ['a10']:\n",
    "\n",
    "        for case in ['V2', 'Vmax']:\n",
    "            \n",
    "            n_sl = 131\n",
    "            epnl_sideline = np.zeros((np.size(z_cb_lst), np.size(TS_cb_lst[ac_name][case]), n_sl))\n",
    "            epnl_lateral = np.zeros((np.size(z_cb_lst), np.size(TS_cb_lst[ac_name][case])))\n",
    "            epnl_flyover = np.zeros((np.size(z_cb_lst), np.size(TS_cb_lst[ac_name][case])))\n",
    "            \n",
    "            py = pyna()\n",
    "            py.ac_name = ac_name\n",
    "            py.case_name = ac_name\n",
    "            py.output_directory_name = 'STCB/' + case\n",
    "            \n",
    "            for j,TS in enumerate(TS_cb_lst[ac_name][case]):\n",
    "                for i, z_cb in enumerate(z_cb_lst):\n",
    "\n",
    "                    print(ac_name, \" \", case, \" - TS: \", TS, \"; z_cb: \", z_cb)\n",
    "\n",
    "                    py.TS_cb = TS\n",
    "                    py.z_cb = z_cb\n",
    "                    py.output_file_name = py.ac_name + '_' + str(np.round(z_cb, 3)) + '_' + str(np.round(TS, 3)) + '.sql'\n",
    "                    py.engine_timeseries_name = 'engine_' + py.ac_name + '_' + str(np.round(z_cb, 3)) + '_' + str(np.round(TS, 3)) + '.csv'\n",
    "                    py.trajectory_file_name = 'trajectory_' + py.ac_name + '_' + str(np.round(z_cb, 3)) + '_' + str(np.round(TS, 3)) + '.csv'\n",
    "                    \n",
    "                    py.observer_lst = ['contours',]\n",
    "\n",
    "                    py.lateral_attenuation = True\n",
    "                    py.shielding = False\n",
    "                    py.all_sources = False\n",
    "                    py.fan_inlet_source = True\n",
    "                    py.fan_discharge_source = True\n",
    "                    py.core_source = True\n",
    "                    py.jet_mixing_source = True\n",
    "                    py.jet_shock_source = False\n",
    "                    py.airframe_source = True\n",
    "                    \n",
    "                    x_observer_lst = np.zeros((n_sl+1, 3))\n",
    "                    x_observer_lst[:-1, 0] = np.linspace(0, 6500, n_sl)\n",
    "                    x_observer_lst[:-1, 1] = 450*np.ones(n_sl)\n",
    "                    x_observer_lst[:, 2] = 4*0.3048*np.ones(n_sl+1)\n",
    "                    x_observer_lst[-1,0] = 6500.\n",
    "\n",
    "                    py.x_observer_array = x_observer_lst\n",
    "\n",
    "                    py.compute_noise_timeseries()\n",
    "\n",
    "                    epnl_sideline[i,j,:] = py.noise_timeseries.get_val('noise.epnl')[:-1]\n",
    "                    epnl_lateral[i,j] = np.max(py.noise_timeseries.get_val('noise.epnl')[:-1])\n",
    "                    epnl_flyover[i,j] = py.noise_timeseries.get_val('noise.epnl')[-1]\n",
    "\n",
    "            np.save('../cases/'+ac_name+'/output/STCB/'+case+'/sweeps_lat/epnl_lateral.npy', epnl_lateral)\n",
    "            np.save('../cases/'+ac_name+'/output/STCB/'+case+'/sweeps_lat/epnl_flyover.npy', epnl_flyover)\n",
    "            np.save('../cases/'+ac_name+'/output/STCB/'+case+'/sweeps_lat/epnl_sideline.npy', epnl_sideline)\n",
    "\n",
    "            clear_output()"
   ]
  },
  {
   "cell_type": "code",
   "execution_count": null,
   "metadata": {},
   "outputs": [],
   "source": []
  },
  {
   "cell_type": "code",
   "execution_count": null,
   "metadata": {},
   "outputs": [],
   "source": []
  }
 ],
 "metadata": {
  "kernelspec": {
   "display_name": "Python 3",
   "language": "python",
   "name": "python3"
  },
  "language_info": {
   "codemirror_mode": {
    "name": "ipython",
    "version": 3
   },
   "file_extension": ".py",
   "mimetype": "text/x-python",
   "name": "python",
   "nbconvert_exporter": "python",
   "pygments_lexer": "ipython3",
   "version": "3.7.3"
  }
 },
 "nbformat": 4,
 "nbformat_minor": 4
}
