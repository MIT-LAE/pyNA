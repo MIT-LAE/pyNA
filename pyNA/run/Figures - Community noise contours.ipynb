{
 "cells": [
  {
   "cell_type": "code",
   "execution_count": 2,
   "metadata": {
    "code_folding": []
   },
   "outputs": [
    {
     "data": {
      "text/html": [
       "<style>.container { width:100% !important; }</style>"
      ],
      "text/plain": [
       "<IPython.core.display.HTML object>"
      ]
     },
     "metadata": {},
     "output_type": "display_data"
    }
   ],
   "source": [
    "# Imports \n",
    "import os\n",
    "import sys\n",
    "from io import StringIO\n",
    "sys.path.append(\"..\")\n",
    "os.environ[\"pyna_language\"] = 'python'\n",
    "import pdb\n",
    "import numpy as np\n",
    "import openmdao.api as om\n",
    "import pandas as pd\n",
    "pd.set_option('max_columns', None)\n",
    "pd.set_option('max_rows', None)\n",
    "import matplotlib.pyplot as plt\n",
    "from mpl_toolkits.axes_grid1.inset_locator import zoomed_inset_axes, mark_inset\n",
    "%matplotlib inline\n",
    "from pyNA.pyna import pyna\n",
    "from shapely.geometry import Polygon\n",
    "\n",
    "from IPython.display import clear_output\n",
    "from IPython.core.display import display, HTML\n",
    "display(HTML(\"<style>.container { width:100% !important; }</style>\"))"
   ]
  },
  {
   "cell_type": "code",
   "execution_count": 3,
   "metadata": {
    "code_folding": []
   },
   "outputs": [],
   "source": [
    "# Inputs \n",
    "x_lst = np.linspace(-5000, 15000, 81)\n",
    "y_lst = np.hstack((np.linspace(0, 3000, 31)[:-1], np.linspace(3000, 6000, 13)))"
   ]
  },
  {
   "cell_type": "code",
   "execution_count": 4,
   "metadata": {
    "code_folding": []
   },
   "outputs": [],
   "source": [
    "# File names \n",
    "path_name = dict()\n",
    "path_name['stca'] = dict()\n",
    "path_name['stca']['STCB'] = dict()\n",
    "path_name['stca']['STCB']['V2'] = dict()  \n",
    "path_name['stca']['STCB']['V2']['std'] = 'trajectory_stca_' + str(np.round(750.0,3)) + '_' + str(np.round(0.75,3)) + '.csv'\n",
    "path_name['stca']['STCB']['V2']['adv'] = 'trajectory_stca_' + str(np.round(25.,3)) + '_' + str(np.round(0.75,3)) + '.csv'\n",
    "path_name['stca']['STCB']['Vmax']= dict()\n",
    "path_name['stca']['STCB']['Vmax']['std'] = 'trajectory_stca_' + str(np.round(600.0,3)) + '_' + str(np.round(0.4,3)) + '.csv'\n",
    "path_name['stca']['STCB']['Vmax']['adv'] = 'trajectory_stca_' + str(np.round(25.0,3)) + '_' + str(np.round(0.55,3)) + '.csv'\n",
    "path_name['stca']['PTCB'] = dict()\n",
    "path_name['stca']['PTCB']['V2']   = 'trajectory_stca_ptcb_V2.csv'\n",
    "path_name['stca']['PTCB']['Vmax'] = 'trajectory_stca_ptcb_Vmax.csv'\n",
    "\n",
    "path_name['a10'] = dict()\n",
    "path_name['a10']['STCB'] = dict()\n",
    "path_name['a10']['STCB']['V2'] = dict()  \n",
    "path_name['a10']['STCB']['V2']['std'] = 'trajectory_a10_' + str(np.round(300.0,3)) + '_' + str(np.round(0.775,3)) + '.csv'\n",
    "path_name['a10']['STCB']['V2']['adv'] = 'trajectory_a10_' + str(np.round(50.0,3)) + '_' + str(np.round(0.775,3)) + '.csv'\n",
    "path_name['a10']['STCB']['Vmax']= dict()\n",
    "path_name['a10']['STCB']['Vmax']['std'] = 'trajectory_a10_' + str(np.round(300.0,3)) + '_' + str(np.round(0.675,3)) + '.csv'\n",
    "path_name['a10']['STCB']['Vmax']['adv'] = 'trajectory_a10_' + str(np.round(25.0,3)) + '_' + str(np.round(0.675,3)) + '.csv'\n",
    "path_name['a10']['PTCB'] = dict()\n",
    "path_name['a10']['PTCB']['V2']   = 'trajectory_a10_ptcb_V2.csv'\n",
    "path_name['a10']['PTCB']['Vmax'] = 'trajectory_a10_ptcb_Vmax.csv'\n",
    "\n",
    "engine_name = dict()\n",
    "engine_name['stca'] = dict()\n",
    "engine_name['stca']['STCB'] = dict()\n",
    "engine_name['stca']['STCB']['V2'] = dict()  \n",
    "engine_name['stca']['STCB']['V2']['std'] = 'engine_stca_' + str(np.round(750.0,3)) + '_' + str(np.round(0.75,3)) + '.csv'\n",
    "engine_name['stca']['STCB']['V2']['adv'] = 'engine_stca_' + str(np.round(25.,3)) + '_' + str(np.round(0.75,3)) + '.csv'\n",
    "engine_name['stca']['STCB']['Vmax']= dict()\n",
    "engine_name['stca']['STCB']['Vmax']['std'] = 'engine_stca_' + str(np.round(650.0,3)) + '_' + str(np.round(0.4,3)) + '.csv'\n",
    "engine_name['stca']['STCB']['Vmax']['adv'] = 'engine_stca_' + str(np.round(25.0,3)) + '_' + str(np.round(0.55,3)) + '.csv'\n",
    "engine_name['stca']['PTCB'] = dict()\n",
    "engine_name['stca']['PTCB']['V2']   = 'engine_stca_ptcb_V2.csv'\n",
    "engine_name['stca']['PTCB']['Vmax'] = 'engine_stca_ptcb_Vmax.csv'\n",
    "\n",
    "engine_name['a10'] = dict()\n",
    "engine_name['a10']['STCB'] = dict()\n",
    "engine_name['a10']['STCB']['V2'] = dict()  \n",
    "engine_name['a10']['STCB']['V2']['std'] = 'engine_a10_' + str(np.round(300.0,3)) + '_' + str(np.round(0.775,3)) + '.csv'\n",
    "engine_name['a10']['STCB']['V2']['adv'] = 'engine_a10_' + str(np.round(50.0,3)) + '_' + str(np.round(0.775,3)) + '.csv'\n",
    "engine_name['a10']['STCB']['Vmax']= dict()\n",
    "engine_name['a10']['STCB']['Vmax']['std'] = 'engine_a10_' + str(np.round(300.0,3)) + '_' + str(np.round(0.675,3)) + '.csv'\n",
    "engine_name['a10']['STCB']['Vmax']['adv'] = 'engine_a10_' + str(np.round(25.0,3)) + '_' + str(np.round(0.675,3)) + '.csv'\n",
    "engine_name['a10']['PTCB'] = dict()\n",
    "engine_name['a10']['PTCB']['V2']   = 'engine_a10_ptcb_V2.csv'\n",
    "engine_name['a10']['PTCB']['Vmax'] = 'engine_a10_ptcb_Vmax.csv'"
   ]
  },
  {
   "cell_type": "code",
   "execution_count": 5,
   "metadata": {
    "code_folding": []
   },
   "outputs": [
    {
     "name": "stdout",
     "output_type": "stream",
     "text": [
      "a10, std, V2\n"
     ]
    },
    {
     "ename": "FileNotFoundError",
     "evalue": "[Errno 2] No such file or directory: '/Users/laurensvoet/Documents/Research/pyNA/pyNA/cases/a10/aircraft/a10.json'",
     "output_type": "error",
     "traceback": [
      "\u001b[0;31m---------------------------------------------------------------------------\u001b[0m",
      "\u001b[0;31mFileNotFoundError\u001b[0m                         Traceback (most recent call last)",
      "\u001b[0;32m<ipython-input-5-5256c2fc9bf7>\u001b[0m in \u001b[0;36m<module>\u001b[0;34m\u001b[0m\n\u001b[1;32m     35\u001b[0m                 \u001b[0mpy\u001b[0m\u001b[0;34m.\u001b[0m\u001b[0mobserver_lst\u001b[0m \u001b[0;34m=\u001b[0m \u001b[0;34m(\u001b[0m\u001b[0;34m'contours'\u001b[0m\u001b[0;34m,\u001b[0m\u001b[0;34m)\u001b[0m\u001b[0;34m\u001b[0m\u001b[0;34m\u001b[0m\u001b[0m\n\u001b[1;32m     36\u001b[0m \u001b[0;34m\u001b[0m\u001b[0m\n\u001b[0;32m---> 37\u001b[0;31m                 \u001b[0mpy\u001b[0m\u001b[0;34m.\u001b[0m\u001b[0mcompute_noise_contours\u001b[0m\u001b[0;34m(\u001b[0m\u001b[0mx_lst\u001b[0m\u001b[0;34m=\u001b[0m\u001b[0mx_lst\u001b[0m\u001b[0;34m,\u001b[0m \u001b[0my_lst\u001b[0m\u001b[0;34m=\u001b[0m\u001b[0my_lst\u001b[0m\u001b[0;34m)\u001b[0m\u001b[0;34m\u001b[0m\u001b[0;34m\u001b[0m\u001b[0m\n\u001b[0m\u001b[1;32m     38\u001b[0m \u001b[0;34m\u001b[0m\u001b[0m\n\u001b[1;32m     39\u001b[0m                 \u001b[0mnp\u001b[0m\u001b[0;34m.\u001b[0m\u001b[0msave\u001b[0m\u001b[0;34m(\u001b[0m\u001b[0;34m'../cases/'\u001b[0m\u001b[0;34m+\u001b[0m\u001b[0mac_name\u001b[0m\u001b[0;34m+\u001b[0m\u001b[0;34m'/output/'\u001b[0m \u001b[0;34m+\u001b[0m \u001b[0mpy\u001b[0m\u001b[0;34m.\u001b[0m\u001b[0moutput_directory_name\u001b[0m \u001b[0;34m+\u001b[0m \u001b[0;34m'/contours/x_lst_'\u001b[0m\u001b[0;34m+\u001b[0m\u001b[0mvnrs_case\u001b[0m\u001b[0;34m+\u001b[0m\u001b[0;34m'_'\u001b[0m\u001b[0;34m+\u001b[0m\u001b[0mcase\u001b[0m\u001b[0;34m+\u001b[0m\u001b[0;34m'.npy'\u001b[0m\u001b[0;34m,\u001b[0m \u001b[0mpy\u001b[0m\u001b[0;34m.\u001b[0m\u001b[0mcontours\u001b[0m\u001b[0;34m[\u001b[0m\u001b[0;34m'x_lst'\u001b[0m\u001b[0;34m]\u001b[0m\u001b[0;34m)\u001b[0m\u001b[0;34m\u001b[0m\u001b[0;34m\u001b[0m\u001b[0m\n",
      "\u001b[0;32m~/Documents/Research/pyNA/pyNA/pyna.py\u001b[0m in \u001b[0;36mcompute_noise_contours\u001b[0;34m(self, x_lst, y_lst)\u001b[0m\n\u001b[1;32m    419\u001b[0m         \"\"\"\n\u001b[1;32m    420\u001b[0m \u001b[0;34m\u001b[0m\u001b[0m\n\u001b[0;32m--> 421\u001b[0;31m         \u001b[0mpyna\u001b[0m\u001b[0;34m.\u001b[0m\u001b[0minitialize\u001b[0m\u001b[0;34m(\u001b[0m\u001b[0mself\u001b[0m\u001b[0;34m)\u001b[0m\u001b[0;34m\u001b[0m\u001b[0;34m\u001b[0m\u001b[0m\n\u001b[0m\u001b[1;32m    422\u001b[0m         \u001b[0mself\u001b[0m\u001b[0;34m.\u001b[0m\u001b[0mcontours\u001b[0m \u001b[0;34m=\u001b[0m \u001b[0mdict\u001b[0m\u001b[0;34m(\u001b[0m\u001b[0;34m)\u001b[0m\u001b[0;34m\u001b[0m\u001b[0;34m\u001b[0m\u001b[0m\n\u001b[1;32m    423\u001b[0m \u001b[0;34m\u001b[0m\u001b[0m\n",
      "\u001b[0;32m~/Documents/Research/pyNA/pyNA/pyna.py\u001b[0m in \u001b[0;36minitialize\u001b[0;34m(self)\u001b[0m\n\u001b[1;32m    218\u001b[0m \u001b[0;34m\u001b[0m\u001b[0m\n\u001b[1;32m    219\u001b[0m         \u001b[0;31m# Initialize airframe, engine, noise data\u001b[0m\u001b[0;34m\u001b[0m\u001b[0;34m\u001b[0m\u001b[0;34m\u001b[0m\u001b[0m\n\u001b[0;32m--> 220\u001b[0;31m         \u001b[0mself\u001b[0m\u001b[0;34m.\u001b[0m\u001b[0mairframe\u001b[0m \u001b[0;34m=\u001b[0m \u001b[0mAirframe\u001b[0m\u001b[0;34m(\u001b[0m\u001b[0mpyna_directory\u001b[0m\u001b[0;34m=\u001b[0m\u001b[0mself\u001b[0m\u001b[0;34m.\u001b[0m\u001b[0mpyna_directory\u001b[0m\u001b[0;34m,\u001b[0m \u001b[0mac_name\u001b[0m\u001b[0;34m=\u001b[0m\u001b[0mself\u001b[0m\u001b[0;34m.\u001b[0m\u001b[0mac_name\u001b[0m\u001b[0;34m,\u001b[0m \u001b[0mcase_name\u001b[0m\u001b[0;34m=\u001b[0m\u001b[0mself\u001b[0m\u001b[0;34m.\u001b[0m\u001b[0mcase_name\u001b[0m\u001b[0;34m)\u001b[0m\u001b[0;34m\u001b[0m\u001b[0;34m\u001b[0m\u001b[0m\n\u001b[0m\u001b[1;32m    221\u001b[0m \u001b[0;34m\u001b[0m\u001b[0m\n\u001b[1;32m    222\u001b[0m         self.engine = Engine(pyna_directory=self.pyna_directory, ac_name=self.ac_name, case_name=self.case_name, output_directory_name=self.output_directory_name, \n",
      "\u001b[0;32m~/Documents/Research/pyNA/pyNA/src/airframe.py\u001b[0m in \u001b[0;36m__init__\u001b[0;34m(self, pyna_directory, ac_name, case_name)\u001b[0m\n\u001b[1;32m     16\u001b[0m         \u001b[0mself\u001b[0m\u001b[0;34m.\u001b[0m\u001b[0mpath\u001b[0m \u001b[0;34m=\u001b[0m \u001b[0mself\u001b[0m\u001b[0;34m.\u001b[0m\u001b[0mpyna_directory\u001b[0m \u001b[0;34m+\u001b[0m \u001b[0;34m'/cases/'\u001b[0m \u001b[0;34m+\u001b[0m \u001b[0mself\u001b[0m\u001b[0;34m.\u001b[0m\u001b[0mcase_name\u001b[0m \u001b[0;34m+\u001b[0m \u001b[0;34m'/aircraft/'\u001b[0m \u001b[0;34m+\u001b[0m \u001b[0mself\u001b[0m\u001b[0;34m.\u001b[0m\u001b[0mac_name\u001b[0m \u001b[0;34m+\u001b[0m \u001b[0;34m'.json'\u001b[0m\u001b[0;34m\u001b[0m\u001b[0;34m\u001b[0m\u001b[0m\n\u001b[1;32m     17\u001b[0m \u001b[0;34m\u001b[0m\u001b[0m\n\u001b[0;32m---> 18\u001b[0;31m         \u001b[0;32mwith\u001b[0m \u001b[0mopen\u001b[0m\u001b[0;34m(\u001b[0m\u001b[0mself\u001b[0m\u001b[0;34m.\u001b[0m\u001b[0mpath\u001b[0m\u001b[0;34m)\u001b[0m \u001b[0;32mas\u001b[0m \u001b[0mf\u001b[0m\u001b[0;34m:\u001b[0m\u001b[0;34m\u001b[0m\u001b[0;34m\u001b[0m\u001b[0m\n\u001b[0m\u001b[1;32m     19\u001b[0m             \u001b[0mparams\u001b[0m \u001b[0;34m=\u001b[0m \u001b[0mjson\u001b[0m\u001b[0;34m.\u001b[0m\u001b[0mload\u001b[0m\u001b[0;34m(\u001b[0m\u001b[0mf\u001b[0m\u001b[0;34m)\u001b[0m\u001b[0;34m\u001b[0m\u001b[0;34m\u001b[0m\u001b[0m\n\u001b[1;32m     20\u001b[0m \u001b[0;34m\u001b[0m\u001b[0m\n",
      "\u001b[0;31mFileNotFoundError\u001b[0m: [Errno 2] No such file or directory: '/Users/laurensvoet/Documents/Research/pyNA/pyNA/cases/a10/aircraft/a10.json'"
     ]
    }
   ],
   "source": [
    "# Compute noise contours\n",
    "if True: \n",
    "    for ac_name in ['a10']:\n",
    "        for vnrs_case in ['std', 'adv', 'PTCB']:\n",
    "            for case in ['V2', 'Vmax']:\n",
    "\n",
    "                print(ac_name + ', ' + vnrs_case + ', ' + case)\n",
    "\n",
    "                py = pyna()\n",
    "                py.ac_name = ac_name\n",
    "                py.case_name = ac_name\n",
    "                \n",
    "                if vnrs_case in {'std', 'adv'}:\n",
    "                    py.output_directory_name = 'STCB/' + case\n",
    "                    py.trajectory_file_name = path_name[ac_name]['STCB'][case][vnrs_case]\n",
    "                    py.engine_timeseries_name = engine_name[ac_name]['STCB'][case][vnrs_case]\n",
    "\n",
    "                elif vnrs_case == 'PTCB':\n",
    "                    py.output_directory_name = 'PTCB/' + case\n",
    "                    py.trajectory_file_name = path_name[ac_name]['PTCB'][case]\n",
    "                    py.engine_timeseries_name = engine_name[ac_name]['PTCB'][case]\n",
    "\n",
    "                py.lateral_attenuation = True\n",
    "                py.shielding = False\n",
    "                py.all_sources = False\n",
    "                py.all_sources = False\n",
    "                py.fan_inlet_source = True\n",
    "                py.fan_discharge_source = True\n",
    "                py.core_source = True\n",
    "                py.jet_mixing_source = True\n",
    "                py.jet_shock_source = False\n",
    "                py.airframe_source = False\n",
    "\n",
    "                py.levels_int_metric = 'epnl'\n",
    "                py.observer_lst = ('contours',)\n",
    "\n",
    "                py.compute_noise_contours(x_lst=x_lst, y_lst=y_lst)\n",
    "\n",
    "                np.save('../cases/'+ac_name+'/output/' + py.output_directory_name + '/contours/x_lst_'+vnrs_case+'_'+case+'.npy', py.contours['x_lst'])\n",
    "                np.save('../cases/'+ac_name+'/output/' + py.output_directory_name + '/contours/y_lst_'+vnrs_case+'_'+case+'.npy', py.contours['y_lst'])\n",
    "                np.save('../cases/'+ac_name+'/output/' + py.output_directory_name + '/contours/epnl_'+vnrs_case+'_'+case+'.npy', py.contours['epnl'])\n"
   ]
  },
  {
   "cell_type": "code",
   "execution_count": null,
   "metadata": {},
   "outputs": [],
   "source": []
  },
  {
   "cell_type": "code",
   "execution_count": null,
   "metadata": {},
   "outputs": [],
   "source": []
  },
  {
   "cell_type": "code",
   "execution_count": null,
   "metadata": {},
   "outputs": [],
   "source": []
  },
  {
   "cell_type": "code",
   "execution_count": null,
   "metadata": {},
   "outputs": [],
   "source": []
  },
  {
   "cell_type": "code",
   "execution_count": 10,
   "metadata": {
    "code_folding": []
   },
   "outputs": [
    {
     "ename": "FileNotFoundError",
     "evalue": "[Errno 2] No such file or directory: '../cases/stca/output/STCB/V2/contours/sel_std_V2.npy'",
     "output_type": "error",
     "traceback": [
      "\u001b[0;31m---------------------------------------------------------------------------\u001b[0m",
      "\u001b[0;31mFileNotFoundError\u001b[0m                         Traceback (most recent call last)",
      "\u001b[0;32m<ipython-input-10-74b5e0caa95a>\u001b[0m in \u001b[0;36m<module>\u001b[0;34m\u001b[0m\n\u001b[1;32m     18\u001b[0m             \u001b[0;32mif\u001b[0m \u001b[0mt_name\u001b[0m \u001b[0;34m==\u001b[0m \u001b[0;34m'std'\u001b[0m\u001b[0;34m:\u001b[0m\u001b[0;34m\u001b[0m\u001b[0;34m\u001b[0m\u001b[0m\n\u001b[1;32m     19\u001b[0m                 \u001b[0mepnl\u001b[0m\u001b[0;34m[\u001b[0m\u001b[0mac_name\u001b[0m\u001b[0;34m]\u001b[0m\u001b[0;34m[\u001b[0m\u001b[0mcase_name\u001b[0m\u001b[0;34m]\u001b[0m\u001b[0;34m[\u001b[0m\u001b[0mt_name\u001b[0m\u001b[0;34m]\u001b[0m \u001b[0;34m=\u001b[0m \u001b[0mnp\u001b[0m\u001b[0;34m.\u001b[0m\u001b[0mload\u001b[0m\u001b[0;34m(\u001b[0m\u001b[0;34m'../cases/'\u001b[0m\u001b[0;34m+\u001b[0m\u001b[0mac_name\u001b[0m\u001b[0;34m+\u001b[0m\u001b[0;34m'/output/STCB/'\u001b[0m\u001b[0;34m+\u001b[0m\u001b[0mcase_name\u001b[0m\u001b[0;34m+\u001b[0m\u001b[0;34m'/contours/epnl_'\u001b[0m\u001b[0;34m+\u001b[0m\u001b[0mt_name\u001b[0m\u001b[0;34m+\u001b[0m\u001b[0;34m'_'\u001b[0m\u001b[0;34m+\u001b[0m\u001b[0mcase_name\u001b[0m\u001b[0;34m+\u001b[0m\u001b[0;34m'.npy'\u001b[0m\u001b[0;34m)\u001b[0m\u001b[0;34m\u001b[0m\u001b[0;34m\u001b[0m\u001b[0m\n\u001b[0;32m---> 20\u001b[0;31m                 \u001b[0msel\u001b[0m\u001b[0;34m[\u001b[0m\u001b[0mac_name\u001b[0m\u001b[0;34m]\u001b[0m\u001b[0;34m[\u001b[0m\u001b[0mcase_name\u001b[0m\u001b[0;34m]\u001b[0m\u001b[0;34m[\u001b[0m\u001b[0mt_name\u001b[0m\u001b[0;34m]\u001b[0m \u001b[0;34m=\u001b[0m \u001b[0mnp\u001b[0m\u001b[0;34m.\u001b[0m\u001b[0mload\u001b[0m\u001b[0;34m(\u001b[0m\u001b[0;34m'../cases/'\u001b[0m\u001b[0;34m+\u001b[0m\u001b[0mac_name\u001b[0m\u001b[0;34m+\u001b[0m\u001b[0;34m'/output/STCB/'\u001b[0m\u001b[0;34m+\u001b[0m\u001b[0mcase_name\u001b[0m\u001b[0;34m+\u001b[0m\u001b[0;34m'/contours/sel_'\u001b[0m\u001b[0;34m+\u001b[0m\u001b[0mt_name\u001b[0m\u001b[0;34m+\u001b[0m\u001b[0;34m'_'\u001b[0m\u001b[0;34m+\u001b[0m\u001b[0mcase_name\u001b[0m\u001b[0;34m+\u001b[0m\u001b[0;34m'.npy'\u001b[0m\u001b[0;34m)\u001b[0m\u001b[0;34m\u001b[0m\u001b[0;34m\u001b[0m\u001b[0m\n\u001b[0m\u001b[1;32m     21\u001b[0m             \u001b[0;32melif\u001b[0m \u001b[0mt_name\u001b[0m \u001b[0;34m==\u001b[0m \u001b[0;34m'adv'\u001b[0m\u001b[0;34m:\u001b[0m\u001b[0;34m\u001b[0m\u001b[0;34m\u001b[0m\u001b[0m\n\u001b[1;32m     22\u001b[0m                 \u001b[0mepnl\u001b[0m\u001b[0;34m[\u001b[0m\u001b[0mac_name\u001b[0m\u001b[0;34m]\u001b[0m\u001b[0;34m[\u001b[0m\u001b[0mcase_name\u001b[0m\u001b[0;34m]\u001b[0m\u001b[0;34m[\u001b[0m\u001b[0mt_name\u001b[0m\u001b[0;34m]\u001b[0m \u001b[0;34m=\u001b[0m \u001b[0mnp\u001b[0m\u001b[0;34m.\u001b[0m\u001b[0mload\u001b[0m\u001b[0;34m(\u001b[0m\u001b[0;34m'../cases/'\u001b[0m\u001b[0;34m+\u001b[0m\u001b[0mac_name\u001b[0m\u001b[0;34m+\u001b[0m\u001b[0;34m'/output/STCB/'\u001b[0m\u001b[0;34m+\u001b[0m\u001b[0mcase_name\u001b[0m\u001b[0;34m+\u001b[0m\u001b[0;34m'/contours/epnl_'\u001b[0m\u001b[0;34m+\u001b[0m\u001b[0mt_name\u001b[0m\u001b[0;34m+\u001b[0m\u001b[0;34m'_'\u001b[0m\u001b[0;34m+\u001b[0m\u001b[0mcase_name\u001b[0m\u001b[0;34m+\u001b[0m\u001b[0;34m'.npy'\u001b[0m\u001b[0;34m)\u001b[0m\u001b[0;34m\u001b[0m\u001b[0;34m\u001b[0m\u001b[0m\n",
      "\u001b[0;32m~/Library/Python/3.7/lib/python/site-packages/numpy/lib/npyio.py\u001b[0m in \u001b[0;36mload\u001b[0;34m(file, mmap_mode, allow_pickle, fix_imports, encoding)\u001b[0m\n\u001b[1;32m    415\u001b[0m             \u001b[0mown_fid\u001b[0m \u001b[0;34m=\u001b[0m \u001b[0;32mFalse\u001b[0m\u001b[0;34m\u001b[0m\u001b[0;34m\u001b[0m\u001b[0m\n\u001b[1;32m    416\u001b[0m         \u001b[0;32melse\u001b[0m\u001b[0;34m:\u001b[0m\u001b[0;34m\u001b[0m\u001b[0;34m\u001b[0m\u001b[0m\n\u001b[0;32m--> 417\u001b[0;31m             \u001b[0mfid\u001b[0m \u001b[0;34m=\u001b[0m \u001b[0mstack\u001b[0m\u001b[0;34m.\u001b[0m\u001b[0menter_context\u001b[0m\u001b[0;34m(\u001b[0m\u001b[0mopen\u001b[0m\u001b[0;34m(\u001b[0m\u001b[0mos_fspath\u001b[0m\u001b[0;34m(\u001b[0m\u001b[0mfile\u001b[0m\u001b[0;34m)\u001b[0m\u001b[0;34m,\u001b[0m \u001b[0;34m\"rb\"\u001b[0m\u001b[0;34m)\u001b[0m\u001b[0;34m)\u001b[0m\u001b[0;34m\u001b[0m\u001b[0;34m\u001b[0m\u001b[0m\n\u001b[0m\u001b[1;32m    418\u001b[0m             \u001b[0mown_fid\u001b[0m \u001b[0;34m=\u001b[0m \u001b[0;32mTrue\u001b[0m\u001b[0;34m\u001b[0m\u001b[0;34m\u001b[0m\u001b[0m\n\u001b[1;32m    419\u001b[0m \u001b[0;34m\u001b[0m\u001b[0m\n",
      "\u001b[0;31mFileNotFoundError\u001b[0m: [Errno 2] No such file or directory: '../cases/stca/output/STCB/V2/contours/sel_std_V2.npy'"
     ]
    }
   ],
   "source": [
    "# Load solutions \n",
    "X_lst = np.load('../cases/stca/output/PTCB/V2/contours/x_lst_PTCB_V2.npy')\n",
    "Y_lst = np.load('../cases/stca/output/PTCB/V2/contours/y_lst_PTCB_V2.npy')\n",
    "epnl = dict()\n",
    "sel = dict()\n",
    "for ac_name in ['stca', 'a10']:\n",
    "    \n",
    "    epnl[ac_name] = dict()\n",
    "    sel[ac_name] = dict()\n",
    "    \n",
    "    for case_name in ['V2', 'Vmax']:    \n",
    "    \n",
    "        epnl[ac_name][case_name] = dict()\n",
    "        sel[ac_name][case_name] = dict()\n",
    "    \n",
    "        for t_name in ['std', 'adv', 'ptcb']:\n",
    "    \n",
    "            if t_name == 'std':\n",
    "                epnl[ac_name][case_name][t_name] = np.load('../cases/'+ac_name+'/output/STCB/'+case_name+'/contours/epnl_'+t_name+'_'+case_name+'.npy')\n",
    "                sel[ac_name][case_name][t_name] = np.load('../cases/'+ac_name+'/output/STCB/'+case_name+'/contours/sel_'+t_name+'_'+case_name+'.npy')\n",
    "            elif t_name == 'adv':\n",
    "                epnl[ac_name][case_name][t_name] = np.load('../cases/'+ac_name+'/output/STCB/'+case_name+'/contours/epnl_'+t_name+'_'+case_name+'.npy')\n",
    "                sel[ac_name][case_name][t_name] = np.load('../cases/'+ac_name+'/output/STCB/'+case_name+'/contours/sel_'+t_name+'_'+case_name+'.npy')\n",
    "            elif t_name == 'ptcb':\n",
    "                epnl[ac_name][case_name][t_name] = np.load('../cases/'+ac_name+'/output/'+vnrs_case+'/'+case_name+'/contours/epnl.npy')\n",
    "                sel[ac_name][case_name][t_name] = np.load('../cases/'+ac_name+'/output/'+vnrs_case+'/'+case_name+'/contours/sel.npy')\n",
    "    "
   ]
  },
  {
   "cell_type": "code",
   "execution_count": null,
   "metadata": {},
   "outputs": [],
   "source": [
    "# Smooth central row\n",
    "for ac_name in ['stca', 'a10']:\n",
    "    for case_name in ['V2', 'Vmax']:    \n",
    "        for t_name in ['std', 'adv', 'ptcb']:\n",
    "            epnl[ac_name][case_name][t_name][45,:] = (epnl[ac_name][case_name][t_name][44,:]-epnl[ac_name][case_name][t_name][43,:])/(Y_lst[44]-Y_lst[43])*(Y_lst[45]-Y_lst[44])+epnl[ac_name][case_name][t_name][44,:]\n",
    "            sel[ac_name][case_name][t_name][45,:] = (sel[ac_name][case_name][t_name][44,:]-sel[ac_name][case_name][t_name][43,:])/(Y_lst[44]-Y_lst[43])*(Y_lst[45]-Y_lst[44])+sel[ac_name][case_name][t_name][44,:]    "
   ]
  },
  {
   "cell_type": "code",
   "execution_count": null,
   "metadata": {},
   "outputs": [],
   "source": [
    "def plot_contours(ac_name, x_lst, y_lst, noise, level):\n",
    "\n",
    "    fig = plt.figure(figsize=(18,4))\n",
    "    plt.style.use('../utils/plot.mplstyle')\n",
    "    gs = fig.add_gridspec(1,7)\n",
    "\n",
    "    color_lst = ['tab:blue', 'tab:orange', 'tab:green', 'tab:red']\n",
    "    linestyle_lst = ['-', '--']\n",
    "    \n",
    "    ax = fig.add_subplot(gs[:5])\n",
    "    for i,case_name in enumerate(['V2', 'Vmax']):\n",
    "        for j,t_name in enumerate(['std', 'adv', 'ptcb']):\n",
    "        \n",
    "            ax.contour(x_lst/1000, y_lst/1000, noise[case_name][t_name], levels=[level], linestyles=linestyle_lst[i], colors=color_lst[j])\n"
   ]
  },
  {
   "cell_type": "code",
   "execution_count": null,
   "metadata": {},
   "outputs": [],
   "source": [
    "plot_contours('stca', X_lst, Y_lst, epnl['stca'], 80)"
   ]
  },
  {
   "cell_type": "code",
   "execution_count": null,
   "metadata": {
    "scrolled": false
   },
   "outputs": [],
   "source": []
  },
  {
   "cell_type": "code",
   "execution_count": null,
   "metadata": {},
   "outputs": [],
   "source": [
    "    \n",
    "    cntr = dict()\n",
    "    cntr['STCB_V2_high'] = ax.contour(results['x_lst']/1000, results['y_lst']/1000, results['STCB']['V2_high'], levels=[85], colors='tab:blue')\n",
    "    cntr['STCB_Vmax_high'] = ax.contour(results['x_lst']/1000, results['y_lst']/1000, results['STCB']['Vmax_high'], levels=[85], colors='tab:blue', linestyles='--')\n",
    "    cntr['STCB_V2_low'] = ax.contour(results['x_lst']/1000, results['y_lst']/1000, results['STCB']['V2_low'], levels=[85], colors='tab:orange')\n",
    "    cntr['STCB_Vmax_low'] = ax.contour(results['x_lst']/1000, results['y_lst']/1000, results['STCB']['Vmax_low'], levels=[85], colors='tab:orange', linestyles='--')\n",
    "    cntr['PTCB_V2'] = ax.contour(results['x_lst']/1000, results['y_lst']/1000, results['PTCB']['V2'], levels=[85], colors='tab:green')\n",
    "    cntr['PTCB_Vmax'] = ax.contour(results['x_lst']/1000, results['y_lst']/1000, results['PTCB']['Vmax'], levels=[85], colors='tab:green', linestyles='--')\n",
    "    # ax.set_xlim([-4, 14])\n",
    "    # ax.set_ylim([-2.7, 2.7])\n",
    "    ax.plot([-4, 25], [0,0], 'k', linewidth=1)\n",
    "\n",
    "    cntr['STCB_V2_high'].collections[0].set_label('STCB ($z_{cb} \\geq 260m, V_2 + 20 kts$)')\n",
    "    cntr['STCB_Vmax_high'].collections[0].set_label('STCB ($z_{cb} \\geq 260m, 250 kts$)')\n",
    "    cntr['STCB_V2_low'].collections[0].set_label('STCB ($z_{cb} < 260m, V_2 + 20 kts$)')\n",
    "    cntr['STCB_Vmax_low'].collections[0].set_label('STCB ($z_{cb} < 260m, 250 kts$)')\n",
    "    cntr['PTCB_V2'].collections[0].set_label('PTCB ($V_2$ + 20 kts)')\n",
    "    cntr['PTCB_Vmax'].collections[0].set_label('PTCB (250 kts)')\n",
    "    ax.legend(bbox_to_anchor=(0.97, 1.51), frameon=False, ncol=2)\n",
    "\n",
    "    ax.spines['right'].set_visible(False)\n",
    "    ax.spines['top'].set_visible(False)\n",
    "    ax.set_xlabel('X [km]')\n",
    "    ax.set_ylabel('Y [km]')\n",
    "\n",
    "    # Compute contour areas\n",
    "    area = dict()\n",
    "    area['STCB_V2_high'] = Polygon(cntr['STCB_V2_high'].allsegs[0][0]).area\n",
    "    area['STCB_Vmax_high'] = Polygon(cntr['STCB_Vmax_high'].allsegs[0][0]).area\n",
    "    area['STCB_V2_low'] = Polygon(cntr['STCB_V2_low'].allsegs[0][0]).area\n",
    "    area['STCB_Vmax_low'] = Polygon(cntr['STCB_Vmax_low'].allsegs[0][0]).area\n",
    "    area['PTCB_V2'] = Polygon(cntr['PTCB_V2'].allsegs[0][0]).area\n",
    "    area['PTCB_Vmax'] = Polygon(cntr['PTCB_Vmax'].allsegs[0][0]).area\n",
    "\n",
    "    ax2 = fig.add_subplot(gs[5:])\n",
    "    ax2.plot([-1,6], [0,0], 'k', linewidth=1)\n",
    "    ax2.bar(0, area['STCB_V2_high']-area['STCB_V2_high'], color='tab:blue')\n",
    "    ax2.bar(1, area['STCB_Vmax_high']-area['STCB_V2_high'], color='tab:blue', hatch='//')\n",
    "    ax2.bar(2, area['STCB_V2_low']-area['STCB_V2_high'], color='tab:orange')\n",
    "    ax2.bar(3, area['STCB_Vmax_low']-area['STCB_V2_high'], color='tab:orange', hatch='//')\n",
    "    ax2.bar(4, area['PTCB_V2']-area['STCB_V2_high'], color='tab:green')\n",
    "    ax2.bar(5, area['PTCB_Vmax']-area['STCB_V2_high'], color='tab:green', hatch='//')\n",
    "\n",
    "    # ax2.xaxis.tick_top()\n",
    "    ax2.set_xticks([])\n",
    "    ax2.spines['top'].set_visible(False)\n",
    "    ax2.spines['right'].set_visible(False)\n",
    "\n",
    "    ax2.set_xlim([-1, 6])\n",
    "    # ax2.set_ylim(-7, 7.)\n",
    "    # ax2.yaxis.tick_right()\n",
    "    ax2.set_ylabel('$\\Delta A_{noise}\\ [km^2]$')\n",
    "\n",
    "\n",
    "    ax2.fill_between([18,19], [8,8], [9,9], color='tab:blue', label='STCB ($z_{cb} \\geq$ 260m)')\n",
    "    ax2.fill_between([18,19], [8,8], [9,9], color='tab:orange', label='STCB ($z_{cb} <$ 260m)')\n",
    "    ax2.fill_between([18,19], [8,8], [9,9], color='tab:green', label='PTCB')\n",
    "    ax2.fill_between([18,19], [8,8], [9,9], facecolor='w', edgecolor=\"k\", label='$V_{max}$ = $V_2$ + 20 kts', hatch='')\n",
    "    ax2.fill_between([18,19], [8,8], [9,9], facecolor='w', edgecolor=\"k\", label='$V_{max}$ = 250 kts', hatch='//')\n",
    "\n",
    "    ax2.legend(loc='lower left', bbox_to_anchor=(0, 1.05), ncol=1, borderaxespad=0, frameon=False)\n",
    "\n",
    "    plt.subplots_adjust(wspace=1.5)\n",
    "\n",
    "    # plt.plot([0, 25], [0,0], linewidth=2, color='k')\n",
    "\n",
    "    # plt.xlabel('X')\n",
    "    # plt.ylabel('Y')"
   ]
  },
  {
   "cell_type": "code",
   "execution_count": null,
   "metadata": {},
   "outputs": [],
   "source": []
  },
  {
   "cell_type": "code",
   "execution_count": null,
   "metadata": {},
   "outputs": [],
   "source": []
  },
  {
   "cell_type": "code",
   "execution_count": null,
   "metadata": {},
   "outputs": [],
   "source": []
  },
  {
   "cell_type": "code",
   "execution_count": null,
   "metadata": {},
   "outputs": [],
   "source": []
  },
  {
   "cell_type": "code",
   "execution_count": null,
   "metadata": {
    "code_folding": [
     0
    ]
   },
   "outputs": [],
   "source": [
    "# Compute area \n",
    "def compute_contour_area(x_lst, y_lst, contours, level):\n",
    "\n",
    "    ct = ax.contour(x_lst/1000, y_lst/1000, contours, levels=[level])\n",
    "    \n",
    "    return Polygon(ct.allsegs[0][0]).area\n",
    "\n",
    "area = dict()\n",
    "area['stca'] = dict()\n",
    "area['stca']['STCB'] = dict()\n",
    "area['stca']['STCB']['V2'] = dict() \n",
    "area['stca']['STCB']['V2']['std'] = compute_contour_area(x_lst, y_lst, area['stca']['STCB']['V2']['std'], level)\n",
    "area['stca']['STCB']['V2']['adv'] = compute_contour_area(x_lst, y_lst, area['stca']['STCB']['V2']['adv'], level)\n",
    "area['stca']['STCB']['Vmax']= dict()\n",
    "area['stca']['STCB']['Vmax']['std'] = compute_contour_area(x_lst, y_lst, area['stca']['STCB']['Vmax']['std'], level)\n",
    "area['stca']['STCB']['Vmax']['adv'] = compute_contour_area(x_lst, y_lst, area['stca']['STCB']['Vmax']['adv'], level)\n",
    "area['stca']['PTCB'] = dict()\n",
    "area['stca']['PTCB']['V2']   = compute_contour_area(x_lst, y_lst, area['stca']['PTCB']['V2']  , level)\n",
    "area['stca']['PTCB']['Vmax'] = compute_contour_area(x_lst, y_lst, area['stca']['PTCB']['Vmax'], level)\n",
    "\n",
    "area = dict()\n",
    "area['a10'] = dict()\n",
    "area['a10']['STCB'] = dict()\n",
    "area['a10']['STCB']['V2'] = dict() \n",
    "area['a10']['STCB']['V2']['std'] = compute_contour_area(x_lst, y_lst, area['a10']['STCB']['V2']['std'], level)\n",
    "area['a10']['STCB']['V2']['adv'] = compute_contour_area(x_lst, y_lst, area['a10']['STCB']['V2']['adv'], level)\n",
    "area['a10']['STCB']['Vmax']= dict()\n",
    "area['a10']['STCB']['Vmax']['std'] = compute_contour_area(x_lst, y_lst, area['a10']['STCB']['Vmax']['std'], level)\n",
    "area['a10']['STCB']['Vmax']['adv'] = compute_contour_area(x_lst, y_lst, area['a10']['STCB']['Vmax']['adv'], level)\n",
    "area['a10']['PTCB'] = dict()\n",
    "area['a10']['PTCB']['V2']   = compute_contour_area(x_lst, y_lst, area['a10']['PTCB']['V2']  , level)\n",
    "area['a10']['PTCB']['Vmax'] = compute_contour_area(x_lst, y_lst, area['a10']['PTCB']['Vmax'], level)    "
   ]
  },
  {
   "cell_type": "code",
   "execution_count": null,
   "metadata": {},
   "outputs": [],
   "source": []
  },
  {
   "cell_type": "code",
   "execution_count": null,
   "metadata": {},
   "outputs": [],
   "source": []
  },
  {
   "cell_type": "code",
   "execution_count": null,
   "metadata": {},
   "outputs": [],
   "source": []
  },
  {
   "cell_type": "code",
   "execution_count": null,
   "metadata": {},
   "outputs": [],
   "source": []
  },
  {
   "cell_type": "code",
   "execution_count": null,
   "metadata": {},
   "outputs": [],
   "source": []
  },
  {
   "cell_type": "code",
   "execution_count": null,
   "metadata": {},
   "outputs": [],
   "source": [
    "fig, ax = plt.subplots(figsize=(15,5))\n",
    "\n",
    "ax.bar(-0.3 + np.arange(3), rel_area['STCB_V2_high'], width=0.1, color='tab:blue')\n",
    "ax.bar(-0.3 + np.arange(3)+1*0.12, rel_area['STCB_Vmax_high'], width=0.1, color='tab:blue', hatch='//')\n",
    "ax.bar(-0.3 + np.arange(3)+2*0.12, rel_area['STCB_V2_low'], width=0.1, color='tab:orange')\n",
    "ax.bar(-0.3 + np.arange(3)+3*0.12, rel_area['STCB_Vmax_low'], width=0.1, color='tab:orange', hatch='//')\n",
    "ax.bar(-0.3 + np.arange(3)+4*0.12, rel_area['PTCB_V2'], width=0.1, color='tab:green')\n",
    "ax.bar(-0.3 + np.arange(3)+5*0.12, rel_area['PTCB_Vmax'], width=0.1, color='tab:green', hatch='//')\n",
    "\n",
    "ax.plot([-2, 4], [0, 0], 'k', linewidth=1)\n",
    "ax.set_xlim([-0.4, 2.5])\n",
    "ax.set_xticks([0, 1, 2])\n",
    "ax.set_xticklabels(['65 DNL', '75 DNL', '85 DNL'])\n",
    "\n",
    "ax.spines['top'].set_visible(False)\n",
    "ax.spines['right'].set_visible(False)"
   ]
  },
  {
   "cell_type": "code",
   "execution_count": null,
   "metadata": {
    "code_folding": []
   },
   "outputs": [],
   "source": [
    "(area['STCB_V2_high'][1] - area['STCB_V2_high'][0])/area['STCB_V2_high'][0]*100"
   ]
  },
  {
   "cell_type": "code",
   "execution_count": null,
   "metadata": {},
   "outputs": [],
   "source": [
    "area['STCB_V2_high']"
   ]
  },
  {
   "cell_type": "code",
   "execution_count": null,
   "metadata": {},
   "outputs": [],
   "source": [
    "\n",
    "plt.contour(results['x_lst']/1000, results['y_lst']/1000, results['STCB']['V2_high'], levels=20, colors='tab:blue')\n",
    "# cntr['STCB_Vmax_high'] = ax.contour(results['x_lst']/1000, results['y_lst']/1000, results['STCB']['Vmax_high'], levels=[85], colors='tab:blue', linestyles='--')\n",
    "# cntr['STCB_V2_low'] = ax.contour(results['x_lst']/1000, results['y_lst']/1000, results['STCB']['V2_low'], levels=[85], colors='tab:orange')\n",
    "# cntr['STCB_Vmax_low'] = ax.contour(results['x_lst']/1000, results['y_lst']/1000, results['STCB']['Vmax_low'], levels=[85], colors='tab:orange', linestyles='--')\n",
    "# cntr['PTCB_V2'] = ax.contour(results['x_lst']/1000, results['y_lst']/1000, results['PTCB']['V2'], levels=[85], colors='tab:green')\n",
    "# cntr['PTCB_Vmax'] = ax.contour(results['x_lst']/1000, results['y_lst']/1000, results['PTCB']['Vmax'], levels=[85], colors='tab:green', linestyles='--')\n",
    "\n"
   ]
  },
  {
   "cell_type": "code",
   "execution_count": null,
   "metadata": {},
   "outputs": [],
   "source": []
  }
 ],
 "metadata": {
  "kernelspec": {
   "display_name": "Python 3",
   "language": "python",
   "name": "python3"
  },
  "language_info": {
   "codemirror_mode": {
    "name": "ipython",
    "version": 3
   },
   "file_extension": ".py",
   "mimetype": "text/x-python",
   "name": "python",
   "nbconvert_exporter": "python",
   "pygments_lexer": "ipython3",
   "version": "3.7.3"
  }
 },
 "nbformat": 4,
 "nbformat_minor": 4
}
